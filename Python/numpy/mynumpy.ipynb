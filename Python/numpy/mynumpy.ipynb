{
 "cells": [
  {
   "cell_type": "markdown",
   "id": "valuable-syndicate",
   "metadata": {},
   "source": [
    "### numpy 다양한 선언"
   ]
  },
  {
   "cell_type": "code",
   "execution_count": 1,
   "id": "ambient-member",
   "metadata": {
    "ExecuteTime": {
     "end_time": "2021-03-12T02:14:37.884478Z",
     "start_time": "2021-03-12T02:14:37.635569Z"
    }
   },
   "outputs": [
    {
     "name": "stdout",
     "output_type": "stream",
     "text": [
      "리스트로 선언\n",
      " [1 2 3 4]\n",
      "zeros\n",
      " [0 0 0 0]\n",
      "ones\n",
      " [[1. 1. 1. 1. 1.]\n",
      " [1. 1. 1. 1. 1.]\n",
      " [1. 1. 1. 1. 1.]]\n",
      "full\n",
      " [[3.14 3.14 3.14 3.14 3.14]\n",
      " [3.14 3.14 3.14 3.14 3.14]\n",
      " [3.14 3.14 3.14 3.14 3.14]]\n",
      "arange\n",
      " [ 0  2  4  6  8 10 12 14 16 18]\n",
      "linspace\n",
      " [0.   0.25 0.5  0.75 1.  ]\n",
      "random\n",
      " [[0.65247914 0.00739889 0.69537759]\n",
      " [0.91160802 0.45007296 0.99435091]\n",
      " [0.16296715 0.46006464 0.62365933]]\n",
      "normal\n",
      " [[ 0.62306482 -1.15018925  1.41909112]\n",
      " [ 0.68762006  1.57278206 -0.71016101]\n",
      " [-1.04681225  0.49402212 -0.68509958]]\n",
      "randint\n",
      " [[2 3 7]\n",
      " [0 2 3]\n",
      " [6 8 5]]\n",
      "eye\n",
      " [[1. 0. 0.]\n",
      " [0. 1. 0.]\n",
      " [0. 0. 1.]]\n",
      "empty\n",
      " [1. 1. 1.]\n"
     ]
    }
   ],
   "source": [
    "import numpy as np\n",
    "\n",
    "# 선언\n",
    "a = np.array([1, 2, 3, 4])\n",
    "print('리스트로 선언\\n', a)\n",
    "a = np.zeros(4, dtype=int)  # 0으로 채운 길이 4의 정수 배열\n",
    "print('zeros\\n', a)\n",
    "a = np.ones((3, 5), dtype=float)  # 1로 채운 3x5 float 배열\n",
    "print('ones\\n', a)\n",
    "a = np.full((3, 5), 3.14)  # 특성 element로 채움\n",
    "print('full\\n', a)\n",
    "a = np.arange(0, 20, 2)  # 0-20, 2간격, 실수 간격도 가능\n",
    "print('arange\\n', a)\n",
    "a = np.linspace(0, 1, 5)  # 0-1사이 사이에 일정한 간격의 다섯개의 값\n",
    "print('linspace\\n', a)\n",
    "a = np.random.random((3, 3))  # 3x3 0-1사이 난수\n",
    "print('random\\n', a)\n",
    "a = np.random.normal(0, 1, (3, 3))  # 정규분포 (평균 0, 표준 편차 1)의 난수 3x3\n",
    "print('normal\\n', a)\n",
    "a = np.random.randint(0, 10, (3, 3))  # [0, 10] 구간의 임의의 정수 3x3\n",
    "print('randint\\n', a)\n",
    "a = np.eye(3)  # 단위 행렬 3x3\n",
    "print('eye\\n', a)\n",
    "a = np.empty(3)  # 초기화되지 않은 배열\n",
    "print('empty\\n', a)"
   ]
  },
  {
   "cell_type": "markdown",
   "id": "looking-census",
   "metadata": {},
   "source": [
    "### numpy 데이터 타입\n",
    "|데이터 타입|설명|\n",
    "|:----:|:----:|\n",
    "|bool_|1바이트로 저장된 부울 값(참 또는 거짓)|\n",
    "|int_|기본 정수 타입(C long과 같음, 일반적으로 int64 또는 int32)|\n",
    "|intc|C int와 동일(일반적으로 int32 또는 int64)|\n",
    "|intp|인덱싱에 사용하는 정수(C ssize_t와 동일, 일반적으로 int32 또는 int64)|\n",
    "|int8|바이트(-128~127)|\n",
    "|int16|정수(-32768~32767)|\n",
    "|int32|정수(-2147483648~2147483647)|\n",
    "|int64|정수(-9223372036854775808~9223372036854775807)|\n",
    "|uint8|부호 없는 정수(0~255)|\n",
    "|uint16|부호 없는 정수(0~65535)|\n",
    "|uint32|부호 없는 정수(0~4294967295)|\n",
    "|uint64|부호 없는 정수(0~18446744073709551615)|\n",
    "|float_|float64|\n",
    "|float16|지수 5bit /가수 10bit|\n",
    "|float32|지수 8bit /가수 23bit|\n",
    "|float64|지수 11bit /가수 53bit|\n",
    "|complex_|complex128의 약칭|\n",
    "|complex64|복소수, 두개의 32비트 부동 소수점으로 표현|\n",
    "|complex128|복소수, 두 개의 64비트 부동 소수점으로 표현|"
   ]
  },
  {
   "cell_type": "markdown",
   "id": "dental-attack",
   "metadata": {},
   "source": [
    "### numpy attribute"
   ]
  },
  {
   "cell_type": "code",
   "execution_count": 2,
   "id": "subtle-ratio",
   "metadata": {
    "ExecuteTime": {
     "end_time": "2021-03-12T02:14:37.899440Z",
     "start_time": "2021-03-12T02:14:37.887471Z"
    },
    "scrolled": true
   },
   "outputs": [
    {
     "name": "stdout",
     "output_type": "stream",
     "text": [
      "x ndim:  3\n",
      "x shape:  (3, 3, 2)\n",
      "x size:  18\n",
      "itemsize:  4 bytes\n",
      "nbytes:  72 bytes\n"
     ]
    }
   ],
   "source": [
    "x = np.random.randint(10, size=(3, 3, 2))  # 3차원 배열\n",
    "print('x ndim: ', x.ndim)\n",
    "print('x shape: ', x.shape)\n",
    "print('x size: ', x.size)\n",
    "print('itemsize: ', x.itemsize, 'bytes')\n",
    "print('nbytes: ', x.nbytes, 'bytes')"
   ]
  },
  {
   "cell_type": "markdown",
   "id": "dynamic-senator",
   "metadata": {},
   "source": [
    "### 원소 접근 및 슬라이싱"
   ]
  },
  {
   "cell_type": "code",
   "execution_count": 3,
   "id": "entertaining-subject",
   "metadata": {
    "ExecuteTime": {
     "end_time": "2021-03-12T02:14:37.946318Z",
     "start_time": "2021-03-12T02:14:37.910420Z"
    }
   },
   "outputs": [
    {
     "name": "stdout",
     "output_type": "stream",
     "text": [
      "x >\n",
      " [[4 7 6]\n",
      " [5 6 9]\n",
      " [3 0 4]]\n",
      "x[2] >\n",
      " [3 0 4]\n",
      "x[-1] >\n",
      " [3 0 4]\n",
      "x[-2] >\n",
      " [5 6 9]\n",
      "x[0][-1] >\n",
      " 6\n",
      "x >\n",
      " [[4 7 6]\n",
      " [3 3 3]\n",
      " [3 0 4]]\n",
      "x >\n",
      " [0 1 2 3 4 5 6 7 8 9]\n",
      "x[::2] >\n",
      " [0 2 4 6 8]\n",
      "x[4:7] >\n",
      " [4 5 6]\n",
      "x >\n",
      " [[4 3 5 5]\n",
      " [3 4 8 7]\n",
      " [7 8 5 5]]\n",
      "x[1:, 1:]>\n",
      " [[4 8 7]\n",
      " [8 5 5]]\n"
     ]
    }
   ],
   "source": [
    "x = np.random.randint(10, size=(3, 3))\n",
    "print('x >\\n', x)\n",
    "print('x[2] >\\n', x[2])\n",
    "print('x[-1] >\\n', x[-1])\n",
    "print('x[-2] >\\n', x[-2])  # 음수로 뒤에서부터 접근 가능\n",
    "print('x[0][-1] >\\n', x[0][-1])\n",
    "x[1] = [3, 3, 3]\n",
    "print('x >\\n', x)\n",
    "\n",
    "x = np.arange(10)\n",
    "print('x >\\n', x)\n",
    "print('x[::2] >\\n', x[::2])  # x[start:stop:step] step 음수시 reverse\n",
    "print('x[4:7] >\\n', x[4:7])\n",
    "\n",
    "x = np.random.randint(10, size=(3, 4))\n",
    "print('x >\\n', x)\n",
    "# 다 차원 슬라이싱, 슬라이싱 된것은 뷰(변경시 본체에도 적용, 복사시 copy() 함수 사용), 리스트 슬라이싱의 경우 copy\n",
    "print('x[1:, 1:]>\\n', x[1:, 1:])"
   ]
  },
  {
   "cell_type": "markdown",
   "id": "heard-seafood",
   "metadata": {},
   "source": [
    "### 배열 다루기"
   ]
  },
  {
   "cell_type": "code",
   "execution_count": 4,
   "id": "japanese-license",
   "metadata": {
    "ExecuteTime": {
     "end_time": "2021-03-12T02:14:37.994187Z",
     "start_time": "2021-03-12T02:14:37.953297Z"
    }
   },
   "outputs": [
    {
     "name": "stdout",
     "output_type": "stream",
     "text": [
      "x >\n",
      " [[7 2 4]\n",
      " [4 6 1]\n",
      " [3 6 2]]\n",
      "x >\n",
      " [7 2 4 4 6 1 3 6 2]\n",
      "x>\n",
      " [[7]\n",
      " [2]\n",
      " [4]\n",
      " [4]\n",
      " [6]\n",
      " [1]\n",
      " [3]\n",
      " [6]\n",
      " [2]]\n",
      "np.concatenate([x,y])>\n",
      " [1 2 3 3 2 1]\n",
      "np.concatenate([grid, grid])>\n",
      " [[1 2 3]\n",
      " [3 2 1]\n",
      " [1 2 3]\n",
      " [3 2 1]]\n",
      "np.vstack([x, grid])>\n",
      " [[1 2 3]\n",
      " [1 2 3]\n",
      " [3 2 1]]\n",
      "[[1 2 3 2]\n",
      " [3 2 1 3]]\n",
      "[1 2 3] [11 11] [3 2 1]\n",
      "[[0 1 2 3]\n",
      " [4 5 6 7]]\n",
      "[[ 8  9 10 11]\n",
      " [12 13 14 15]]\n",
      "[[ 0  1]\n",
      " [ 4  5]\n",
      " [ 8  9]\n",
      " [12 13]]\n",
      "[[ 2  3]\n",
      " [ 6  7]\n",
      " [10 11]\n",
      " [14 15]]\n"
     ]
    }
   ],
   "source": [
    "x = np.random.randint(10, size=(3, 3))\n",
    "print('x >\\n', x)\n",
    "x = x.reshape((9)) # 배열 재구조화\n",
    "print('x >\\n', x)\n",
    "x = x.reshape((9, 1))\n",
    "print('x>\\n', x)\n",
    "\n",
    "x = np.array([1, 2, 3])\n",
    "y = np.array([3, 2, 1])\n",
    "print('np.concatenate([x,y])>\\n', np.concatenate([x, y]))  # 배열 축을 따라 연결\n",
    "grid = np.array([x, y])\n",
    "print('np.concatenate([grid, grid])>\\n', np.concatenate([grid, grid]))\n",
    "\n",
    "print('np.vstack([x, grid])>\\n', np.vstack([x, grid]))  # 수직으로 쌓음(다차원 연결시 명시해주는게 좋음)\n",
    "print(np.hstack([grid, x[1:].reshape((2, 1))]))  # 수평으로 쌓음\n",
    "\n",
    "x = np.array([1,2,3,11,11,3,2,1])\n",
    "x1, x2, x3 = np.split(x, [3, 5]) # 자를 기준 index를 적어줌\n",
    "print(x1, x2, x3)\n",
    "\n",
    "grid = np.arange(16).reshape((4, 4))\n",
    "upper, lower = np.vsplit(grid, [2])\n",
    "print(upper)\n",
    "print(lower)\n",
    "left, right = np.hsplit(grid, [2])\n",
    "print(left)\n",
    "print(right)"
   ]
  },
  {
   "cell_type": "markdown",
   "id": "thick-summit",
   "metadata": {},
   "source": [
    "### Numpy 유니버설 연산"
   ]
  },
  {
   "cell_type": "code",
   "execution_count": 5,
   "id": "sorted-passage",
   "metadata": {
    "ExecuteTime": {
     "end_time": "2021-03-12T02:14:38.026101Z",
     "start_time": "2021-03-12T02:14:38.003162Z"
    }
   },
   "outputs": [
    {
     "name": "stdout",
     "output_type": "stream",
     "text": [
      "[1 2 3 4]\n",
      "[3 4 5 6]\n",
      "[-1  0  1  2]\n",
      "[2 4 6 8]\n",
      "[0.5 1.  1.5 2. ]\n",
      "[0 1 1 2]\n",
      "[ 1  4  9 16]\n"
     ]
    }
   ],
   "source": [
    "a = np.array([1, 2, 3, 4])\n",
    "print(a)\n",
    "print(a + 2)\n",
    "print(a - 2)\n",
    "print(a * 2)\n",
    "print(a / 2)\n",
    "print(a // 2)\n",
    "print(a ** 2)"
   ]
  },
  {
   "cell_type": "markdown",
   "id": "distinct-panel",
   "metadata": {},
   "source": [
    "### 삼각 함수"
   ]
  },
  {
   "cell_type": "code",
   "execution_count": 6,
   "id": "senior-hobby",
   "metadata": {
    "ExecuteTime": {
     "end_time": "2021-03-12T02:14:38.042057Z",
     "start_time": "2021-03-12T02:14:38.029093Z"
    }
   },
   "outputs": [
    {
     "name": "stdout",
     "output_type": "stream",
     "text": [
      "theta = [0.         1.57079633 3.14159265]\n",
      "sin(theta) =  [0.0000000e+00 1.0000000e+00 1.2246468e-16]\n",
      "cos(theta) =  [ 1.000000e+00  6.123234e-17 -1.000000e+00]\n",
      "tan(theta) =  [ 0.00000000e+00  1.63312394e+16 -1.22464680e-16]\n",
      "x =  [-1, 0, 1]\n",
      "arcsin(x) =  [-1.57079633  0.          1.57079633]\n",
      "arccos(x) =  [3.14159265 1.57079633 0.        ]\n",
      "arctan(x) =  [-0.78539816  0.          0.78539816]\n"
     ]
    }
   ],
   "source": [
    "theta = np.linspace(0, np.pi, 3)\n",
    "print(\"theta =\", theta)\n",
    "print(\"sin(theta) = \", np.sin(theta))\n",
    "print(\"cos(theta) = \", np.cos(theta))\n",
    "print(\"tan(theta) = \", np.tan(theta))\n",
    "\n",
    "x = [-1, 0, 1]\n",
    "print(\"x = \", x);\n",
    "print(\"arcsin(x) = \", np.arcsin(x))\n",
    "print(\"arccos(x) = \", np.arccos(x))\n",
    "print(\"arctan(x) = \", np.arctan(x))"
   ]
  },
  {
   "cell_type": "markdown",
   "id": "flying-accessory",
   "metadata": {},
   "source": [
    "### 지수와 로그"
   ]
  },
  {
   "cell_type": "code",
   "execution_count": 7,
   "id": "other-mapping",
   "metadata": {
    "ExecuteTime": {
     "end_time": "2021-03-12T02:14:38.074001Z",
     "start_time": "2021-03-12T02:14:38.045049Z"
    },
    "scrolled": true
   },
   "outputs": [
    {
     "name": "stdout",
     "output_type": "stream",
     "text": [
      "x =  [1, 2, 3]\n",
      "e^x =  [ 2.71828183  7.3890561  20.08553692]\n",
      "2^x =  [2. 4. 8.]\n",
      "3^x =  [ 3  9 27]\n",
      "x =  [1, 2, 4, 10]\n",
      "ln(x) =  [0.         0.69314718 1.38629436 2.30258509]\n",
      "log2(x) =  [0.         1.         2.         3.32192809]\n",
      "log10(x) =  [0.         0.30103    0.60205999 1.        ]\n",
      "exp(x) -1 =  [0.         0.0010005  0.01005017 0.10517092]\n",
      "log(1+x) =  [0.         0.0009995  0.00995033 0.09531018]\n"
     ]
    }
   ],
   "source": [
    "x = [1, 2, 3]\n",
    "print(\"x = \", x)\n",
    "print(\"e^x = \", np.exp(x))\n",
    "print(\"2^x = \", np.exp2(x))\n",
    "print(\"3^x = \", np.power(3, x))\n",
    "\n",
    "x = [1, 2, 4, 10]\n",
    "print(\"x = \", x)\n",
    "print(\"ln(x) = \", np.log(x))\n",
    "print(\"log2(x) = \", np.log2(x))\n",
    "print(\"log10(x) = \", np.log10(x))\n",
    "\n",
    "x = [0, 0.001, 0.01, 0.1]\n",
    "print(\"exp(x) -1 = \", np.expm1(x))  # x가 매우 작은값 정확도 유지를 위해 사용\n",
    "print(\"log(1+x) = \", np.log1p(x))"
   ]
  },
  {
   "cell_type": "markdown",
   "id": "dominican-biology",
   "metadata": {},
   "source": [
    "### 고급 Ufunc 기능"
   ]
  },
  {
   "cell_type": "code",
   "execution_count": 8,
   "id": "sensitive-cowboy",
   "metadata": {
    "ExecuteTime": {
     "end_time": "2021-03-12T02:14:38.121843Z",
     "start_time": "2021-03-12T02:14:38.080955Z"
    }
   },
   "outputs": [
    {
     "name": "stdout",
     "output_type": "stream",
     "text": [
      "[ 0. 10. 20. 30. 40.]\n",
      "[ 1.  0.  2.  0.  4.  0.  8.  0. 16.  0.]\n",
      "15\n",
      "120\n",
      "[  1   2   6  24 120]\n"
     ]
    },
    {
     "data": {
      "text/plain": [
       "array([[ 1,  2,  3,  4,  5],\n",
       "       [ 2,  4,  6,  8, 10],\n",
       "       [ 3,  6,  9, 12, 15],\n",
       "       [ 4,  8, 12, 16, 20],\n",
       "       [ 5, 10, 15, 20, 25]])"
      ]
     },
     "execution_count": 8,
     "metadata": {},
     "output_type": "execute_result"
    }
   ],
   "source": [
    "x = np.arange(5)\n",
    "y = np.empty(5)\n",
    "np.multiply(x, 10, out=y)  # 원하는 메모리에 직접 연산 결과 쓸수 있음\n",
    "print(y)\n",
    "\n",
    "y = np.zeros(10)\n",
    "np.power(2, x, out=y[::2])  # 특정 위치에 삽입도 가능\n",
    "print(y)\n",
    "\n",
    "x = np.arange(1, 6)\n",
    "print(np.add.reduce(x))  # 결과가 하나 남을때까지 해당 연산 반복\n",
    "print(np.multiply.reduce(x))\n",
    "print(np.multiply.accumulate(x))  # 계산 중간 결과를 모두 저장\n",
    "\n",
    "x = np.arange(1, 6)\n",
    "np.multiply.outer(x, x)  # 곱셈 테이블"
   ]
  },
  {
   "cell_type": "markdown",
   "id": "early-warrior",
   "metadata": {},
   "source": [
    "### 요약 통계 계산"
   ]
  },
  {
   "cell_type": "code",
   "execution_count": 9,
   "id": "cordless-facial",
   "metadata": {
    "ExecuteTime": {
     "end_time": "2021-03-12T02:14:38.153760Z",
     "start_time": "2021-03-12T02:14:38.125833Z"
    }
   },
   "outputs": [
    {
     "name": "stdout",
     "output_type": "stream",
     "text": [
      "[0.38458002 0.11719387 0.74847584 0.20981365 0.84159444 0.93185746\n",
      " 0.5402864  0.19461181 0.68924817 0.43040153]\n",
      "5.088063178430283\n",
      "5.088063178430284\n",
      "0.11719386941643195 0.9318574553543983\n",
      "[[0.94917271 0.32422963 0.19663225 0.38251919]\n",
      " [0.86247217 0.87786444 0.79542752 0.01884597]\n",
      " [0.1143016  0.70148436 0.03026869 0.11251023]]\n",
      "5.365728751107655\n",
      "[0.1143016  0.32422963 0.03026869 0.01884597]\n",
      "0.0001731402831695436\n",
      "0.5088063178430284\n",
      "0.2727208349394404\n",
      "0.07437665381006547\n",
      "1\n",
      "5\n",
      "0.4853439638515265\n",
      "[0.11719387 0.20981365 0.43040153 0.74847584 0.93185746]\n",
      "True\n",
      "True\n",
      "0.0001731402831695436\n"
     ]
    }
   ],
   "source": [
    "L = np.random.random(10)\n",
    "print(L)\n",
    "print(sum(L))  # 일반함수도 사용가능 but! 느림\n",
    "print(np.sum(L))  # 미리 컴파일된 코드에서 실행되어 훨씬 빠름\n",
    "print(np.min(L), np.max(L))\n",
    "\n",
    "M = np.random.random((3, 4))\n",
    "print(M)\n",
    "print(M.sum())\n",
    "print(M.min(axis=0))  # 어느 축에 따라 집계할 것인지 추가적인 인수를 취하면 해당 값 반환\n",
    "\n",
    "print(np.prod(L))  # 곱\n",
    "print(np.mean(L))  # 평균\n",
    "print(np.std(L))  # 표준 편차\n",
    "print(np.var(L))  # 분산\n",
    "print(np.argmin(L))  # 최솟값의 인덱스\n",
    "print(np.argmax(L))  # 최댓값의 인덱스\n",
    "print(np.median(L))  # 중앙값\n",
    "print(np.percentile(L, [0, 25, 50, 75, 100], interpolation='nearest'))  # 순위기반 백분위 수 계산\n",
    "print(np.any(L))  # 요소 중에 참이 있는지 검사\n",
    "print(np.all(L))  # 모든 요소가 참인지 검사\n",
    "\n",
    "print(np.nanprod(L))  # Nan안전모드.. 누락된 값을 무시하고 계산 위에 메소드명 왼쪽에 nan붙여주면된다."
   ]
  },
  {
   "cell_type": "markdown",
   "id": "upper-sherman",
   "metadata": {},
   "source": [
    "### 브로드캐스팅\n",
    "1. 두 배열의 차원 수가 다르면 더 작은 수의 차원을 가진 배열 형상의 앞쪽(왼쪽)을 1로 채운다\n",
    "2. 두 배열의 형상이 어떤 차원에서도 일치하지 않는다면 해당 차원의 형상이 1인 배열이 다른 형상과 일치하도록 늘어난다.\n",
    "3. 임의의 차원에서 크기가 일치하지 않고 1도 아니라면 오류가 발생한다"
   ]
  },
  {
   "cell_type": "code",
   "execution_count": 10,
   "id": "maritime-anthropology",
   "metadata": {
    "ExecuteTime": {
     "end_time": "2021-03-12T02:14:38.707388Z",
     "start_time": "2021-03-12T02:14:38.158746Z"
    }
   },
   "outputs": [
    {
     "name": "stdout",
     "output_type": "stream",
     "text": [
      "[0 1 2]\n",
      "[[0]\n",
      " [1]\n",
      " [2]]\n",
      "[[0 1 2]\n",
      " [1 2 3]\n",
      " [2 3 4]]\n",
      "[[1. 2. 3.]\n",
      " [1. 2. 3.]]\n"
     ]
    },
    {
     "ename": "ValueError",
     "evalue": "operands could not be broadcast together with shapes (3,2) (3,) ",
     "output_type": "error",
     "traceback": [
      "\u001b[1;31m---------------------------------------------------------------------------\u001b[0m",
      "\u001b[1;31mValueError\u001b[0m                                Traceback (most recent call last)",
      "\u001b[1;32m<ipython-input-10-01f39659b2f8>\u001b[0m in \u001b[0;36m<module>\u001b[1;34m\u001b[0m\n\u001b[0;32m     11\u001b[0m \u001b[0mM\u001b[0m \u001b[1;33m=\u001b[0m \u001b[0mnp\u001b[0m\u001b[1;33m.\u001b[0m\u001b[0mones\u001b[0m\u001b[1;33m(\u001b[0m\u001b[1;33m(\u001b[0m\u001b[1;36m3\u001b[0m\u001b[1;33m,\u001b[0m \u001b[1;36m2\u001b[0m\u001b[1;33m)\u001b[0m\u001b[1;33m)\u001b[0m  \u001b[1;31m# (3, 2) 브로드캐스팅이 호환되지 않는 경우\u001b[0m\u001b[1;33m\u001b[0m\u001b[1;33m\u001b[0m\u001b[0m\n\u001b[0;32m     12\u001b[0m \u001b[0ma\u001b[0m \u001b[1;33m=\u001b[0m \u001b[0mnp\u001b[0m\u001b[1;33m.\u001b[0m\u001b[0marange\u001b[0m\u001b[1;33m(\u001b[0m\u001b[1;36m3\u001b[0m\u001b[1;33m)\u001b[0m  \u001b[1;31m# (3,) -> (1, 3) -> (3, 3) 불일치!!\u001b[0m\u001b[1;33m\u001b[0m\u001b[1;33m\u001b[0m\u001b[0m\n\u001b[1;32m---> 13\u001b[1;33m \u001b[0mprint\u001b[0m\u001b[1;33m(\u001b[0m\u001b[0mM\u001b[0m\u001b[1;33m+\u001b[0m\u001b[0ma\u001b[0m\u001b[1;33m)\u001b[0m\u001b[1;33m\u001b[0m\u001b[1;33m\u001b[0m\u001b[0m\n\u001b[0m",
      "\u001b[1;31mValueError\u001b[0m: operands could not be broadcast together with shapes (3,2) (3,) "
     ]
    }
   ],
   "source": [
    "a = np.arange(3)\n",
    "b = np.arange(3)[:, np.newaxis]\n",
    "print(a)\n",
    "print(b)\n",
    "print(a+b)  # 1x3과 3x1 연산\n",
    "\n",
    "M = np.ones((2, 3))  # M.shape (2, 3) \n",
    "a = np.arange(3)  # a.shape (3,) -> 규칙1:(1, 3) -> 규칙2:(2, 3)\n",
    "print(M+a)\n",
    "\n",
    "M = np.ones((3, 2))  # (3, 2) 브로드캐스팅이 호환되지 않는 경우\n",
    "a = np.arange(3)  # (3,) -> (1, 3) -> (3, 3) 불일치!!\n",
    "print(M+a)"
   ]
  },
  {
   "cell_type": "markdown",
   "id": "portuguese-avenue",
   "metadata": {},
   "source": [
    "### 비교, 마스킹, 부울 로직"
   ]
  },
  {
   "cell_type": "code",
   "execution_count": 11,
   "id": "useful-christmas",
   "metadata": {
    "ExecuteTime": {
     "end_time": "2021-03-12T02:15:00.444545Z",
     "start_time": "2021-03-12T02:15:00.423602Z"
    }
   },
   "outputs": [
    {
     "name": "stdout",
     "output_type": "stream",
     "text": [
      "[ True  True False False False]\n",
      "[False False  True  True  True]\n",
      "[ True  True False  True  True]\n",
      "[False  True False False False]\n"
     ]
    }
   ],
   "source": [
    "x = np.array([1, 2, 3, 4, 5])\n",
    "print(x < 3)  # np.less\n",
    "print(x >= 3)  # np.greater_equal\n",
    "print(x != 3)  # np.not_equal\n",
    "print((2*x) == (x**2))"
   ]
  },
  {
   "cell_type": "code",
   "execution_count": 12,
   "id": "medieval-observer",
   "metadata": {
    "ExecuteTime": {
     "end_time": "2021-03-12T02:15:02.612314Z",
     "start_time": "2021-03-12T02:15:02.599318Z"
    }
   },
   "outputs": [
    {
     "name": "stdout",
     "output_type": "stream",
     "text": [
      "8\n",
      "[0 3 3 3 2 4]\n"
     ]
    }
   ],
   "source": [
    "x = np.array([[5, 0, 3, 3], [7, 9, 3, 5], [2, 4, 7, 6]])\n",
    "print(np.count_nonzero(x < 6))  # 0이 아닌것의 개수센다!, 6보다 작은 값은 몇 개일까?\n",
    "\n",
    "# &(np.bitwise_and), |(np.bitwise_or), ^(np.bitwise_xor), ~(np.bitwise_not)\n",
    "print(x[x < 5])  # 부울 배열을 인덱스로 사용 -> 마스킹 연산, True값만 반환"
   ]
  },
  {
   "cell_type": "markdown",
   "id": "quality-straight",
   "metadata": {},
   "source": [
    "### 팬시 인덱싱"
   ]
  },
  {
   "cell_type": "code",
   "execution_count": 13,
   "id": "opposed-guatemala",
   "metadata": {
    "ExecuteTime": {
     "end_time": "2021-03-12T02:15:05.451098Z",
     "start_time": "2021-03-12T02:15:05.429152Z"
    }
   },
   "outputs": [
    {
     "name": "stdout",
     "output_type": "stream",
     "text": [
      "[[ 0  1  2  3]\n",
      " [ 4  5  6  7]\n",
      " [ 8  9 10 11]]\n",
      "[ 2  5 11]\n",
      "[[ 2  1  3]\n",
      " [ 6  5  7]\n",
      " [10  9 11]]\n",
      "[10  8  9]\n"
     ]
    }
   ],
   "source": [
    "X = np.arange(12).reshape((3, 4))\n",
    "print(X)\n",
    "row = np.array([0, 1, 2])\n",
    "col = np.array([2, 1, 3])\n",
    "print(X[row, col])  # 뽑고싶은 원소 위치\n",
    "print(X[row[:, np.newaxis], col])  # 브로드 캐스팅 원칙에 따라..\n",
    "print(X[2, [2, 0, 1]])  # 짝안맞아도, 단순 인덱스여도 ok"
   ]
  },
  {
   "cell_type": "code",
   "execution_count": 14,
   "id": "sound-proceeding",
   "metadata": {
    "ExecuteTime": {
     "end_time": "2021-03-12T02:15:06.671819Z",
     "start_time": "2021-03-12T02:15:06.662842Z"
    }
   },
   "outputs": [
    {
     "name": "stdout",
     "output_type": "stream",
     "text": [
      "[0. 0. 1. 2. 3. 0. 0. 0. 0. 0.]\n"
     ]
    }
   ],
   "source": [
    "i = [2, 3, 3, 4, 4, 4]\n",
    "x = np.zeros(10)\n",
    "np.add.at(x, i, 1)  # x에 i에 담긴 인덱스에 반복적으로 1을 더한다.\n",
    "print(x)"
   ]
  },
  {
   "cell_type": "markdown",
   "id": "conventional-product",
   "metadata": {},
   "source": [
    "### 정렬"
   ]
  },
  {
   "cell_type": "code",
   "execution_count": 15,
   "id": "possible-moore",
   "metadata": {
    "ExecuteTime": {
     "end_time": "2021-03-12T02:15:08.942812Z",
     "start_time": "2021-03-12T02:15:08.928884Z"
    }
   },
   "outputs": [
    {
     "name": "stdout",
     "output_type": "stream",
     "text": [
      "[ 1  2  3  4  5  9 10]\n",
      "[1 0 3 5 4 6 2]\n",
      "None\n",
      "[ 1  2  3  4  5  9 10]\n"
     ]
    }
   ],
   "source": [
    "x = np.array([2, 1, 10, 3, 5, 4, 9])\n",
    "print(np.sort(x))  # 정렬 반환\n",
    "print(np.argsort(x)) # index를 순서대로 반환\n",
    "print(x.sort())  # 직접 sort 할경우는 None 반환\n",
    "print(x)"
   ]
  },
  {
   "cell_type": "code",
   "execution_count": 16,
   "id": "favorite-adolescent",
   "metadata": {
    "ExecuteTime": {
     "end_time": "2021-03-12T02:15:09.273149Z",
     "start_time": "2021-03-12T02:15:09.248216Z"
    }
   },
   "outputs": [
    {
     "name": "stdout",
     "output_type": "stream",
     "text": [
      "[[4 5 4 6 3 2]\n",
      " [1 3 5 1 1 9]\n",
      " [4 1 7 0 3 9]\n",
      " [9 1 2 8 6 6]]\n",
      "[[1 1 2 0 1 2]\n",
      " [4 1 4 1 3 6]\n",
      " [4 3 5 6 3 9]\n",
      " [9 5 7 8 6 9]]\n",
      "[[2 3 4 4 5 6]\n",
      " [1 1 1 3 5 9]\n",
      " [0 1 3 4 7 9]\n",
      " [1 2 6 6 8 9]]\n"
     ]
    }
   ],
   "source": [
    "x = np.random.randint(0, 10, (4, 6))\n",
    "print(x)\n",
    "print(np.sort(x, axis=0)) # 각 열을 정렬\n",
    "print(np.sort(x, axis=1)) # 각 행을 정렬"
   ]
  },
  {
   "cell_type": "code",
   "execution_count": 17,
   "id": "parallel-administrator",
   "metadata": {
    "ExecuteTime": {
     "end_time": "2021-03-12T02:15:09.589601Z",
     "start_time": "2021-03-12T02:15:09.565669Z"
    }
   },
   "outputs": [
    {
     "name": "stdout",
     "output_type": "stream",
     "text": [
      "[7 3 4 6 5 6 7 8 9 5]\n",
      "[3 5 4 5 6 6 7 8 9 7]\n"
     ]
    }
   ],
   "source": [
    "x = np.random.randint(1, 10, 10)\n",
    "print(x)\n",
    "print(np.partition(x, 3))  # x값중 작은거 3개 정렬 상관x"
   ]
  },
  {
   "cell_type": "markdown",
   "id": "dressed-tablet",
   "metadata": {},
   "source": [
    "### Numpy 구조화된 배열 Struct\n",
    "|문자|설명|예제\n",
    "|:---:|:---:|:---:|\n",
    "|'b'|바이트|np.dtype('b')|\n",
    "|'i'|부호 있는 정수|np.dtype('i4')==np.int32|\n",
    "|'u'|부호 없는 정수|np.dtype('u1')==np.uint8|\n",
    "|'f'|부동 소수점|np.dtype('f8')==np.int64|\n",
    "|'c'|복소수 부동 소수점|np.dtype('c16')==np.complex128|\n",
    "|'S', 'a'|문자열|np.dtype('S5')|\n",
    "|'U'|유니코드 문자열|np.dtype('U')==np.str_|\n",
    "|'V'|원시데이터(void)|np.dtype('V')==np.void|"
   ]
  },
  {
   "cell_type": "code",
   "execution_count": 18,
   "id": "tired-piece",
   "metadata": {
    "ExecuteTime": {
     "end_time": "2021-03-12T02:15:11.897101Z",
     "start_time": "2021-03-12T02:15:11.871568Z"
    },
    "scrolled": true
   },
   "outputs": [
    {
     "name": "stdout",
     "output_type": "stream",
     "text": [
      "[('name', '<U10'), ('age', '<i4'), ('weight', '<f8')]\n",
      "[('Alice', 25, 55. ) ('Bob', 45, 88.2) ('Cathy', 37, 69. )\n",
      " ('Doug', 19, 32.5)]\n",
      "['Alice' 'Bob' 'Cathy' 'Doug']\n",
      "('Alice', 25, 55.)\n",
      "Doug\n",
      "[25 45 37 19]\n",
      "[25 45 37 19]\n"
     ]
    }
   ],
   "source": [
    "name = ['Alice', 'Bob', 'Cathy', 'Doug']\n",
    "age = [25, 45, 37, 19]\n",
    "weight = [55.0, 88.2, 69.0, 32.5]\n",
    "data = np.zeros(4, dtype={'names':('name', 'age', 'weight'), 'formats':('U10', 'i4', 'f8')})\n",
    "# dtype={('name', 'U10'), ('age', 'i4'), ('weight', 'f8')} 형태로도 가능\n",
    "print(data.dtype)\n",
    "data['name'] = name\n",
    "data['age'] = age\n",
    "data['weight'] = weight\n",
    "print(data)\n",
    "print(data['name'])  # 이름 가져오기\n",
    "print(data[0])\n",
    "print(data[-1]['name'])\n",
    "\n",
    "data_rec = data.view(np.recarray)  # 딕셔너리 키 대신 속성으로 필드에 접근 가능 but 오버헤드 발생\n",
    "print(data['age'])\n",
    "print(data_rec.age)"
   ]
  }
 ],
 "metadata": {
  "kernelspec": {
   "display_name": "Python 3",
   "language": "python",
   "name": "python3"
  },
  "language_info": {
   "codemirror_mode": {
    "name": "ipython",
    "version": 3
   },
   "file_extension": ".py",
   "mimetype": "text/x-python",
   "name": "python",
   "nbconvert_exporter": "python",
   "pygments_lexer": "ipython3",
   "version": "3.9.2"
  },
  "toc": {
   "base_numbering": 1,
   "nav_menu": {},
   "number_sections": true,
   "sideBar": true,
   "skip_h1_title": false,
   "title_cell": "Table of Contents",
   "title_sidebar": "Contents",
   "toc_cell": false,
   "toc_position": {},
   "toc_section_display": true,
   "toc_window_display": false
  },
  "varInspector": {
   "cols": {
    "lenName": 16,
    "lenType": 16,
    "lenVar": 40
   },
   "kernels_config": {
    "python": {
     "delete_cmd_postfix": "",
     "delete_cmd_prefix": "del ",
     "library": "var_list.py",
     "varRefreshCmd": "print(var_dic_list())"
    },
    "r": {
     "delete_cmd_postfix": ") ",
     "delete_cmd_prefix": "rm(",
     "library": "var_list.r",
     "varRefreshCmd": "cat(var_dic_list()) "
    }
   },
   "types_to_exclude": [
    "module",
    "function",
    "builtin_function_or_method",
    "instance",
    "_Feature"
   ],
   "window_display": false
  }
 },
 "nbformat": 4,
 "nbformat_minor": 5
}
