{
 "cells": [
  {
   "cell_type": "markdown",
   "metadata": {},
   "source": [
    "# pywinauto\n",
    "윈도우 어플리케이션 핸들에 접근해 프로그램 흐름을 제어하는 모듈\n",
    "\n",
    "https://sourceforge.net/projects/swapy/\n",
    "\n",
    "swapy라고 요녀석들 통해 코드 짜는데 도움을 받을 수 있다"
   ]
  },
  {
   "cell_type": "code",
   "execution_count": 29,
   "metadata": {},
   "outputs": [
    {
     "ename": "AttributeError",
     "evalue": "The control does not have a __getitem__ method for item access (i.e. ctrl[key]) so maybe you have requested this in error?",
     "output_type": "error",
     "traceback": [
      "\u001b[1;31m---------------------------------------------------------------------------\u001b[0m",
      "\u001b[1;31mAttributeError\u001b[0m                            Traceback (most recent call last)",
      "\u001b[1;32m<ipython-input-29-f54eb4c47ae3>\u001b[0m in \u001b[0;36m<module>\u001b[1;34m\u001b[0m\n\u001b[0;32m     11\u001b[0m \u001b[0mdialog\u001b[0m \u001b[1;33m=\u001b[0m \u001b[0mnotepad\u001b[0m\u001b[1;33m[\u001b[0m\u001b[1;34m\"다른 이름으로 저장\"\u001b[0m\u001b[1;33m]\u001b[0m\u001b[1;33m\u001b[0m\u001b[1;33m\u001b[0m\u001b[0m\n\u001b[0;32m     12\u001b[0m \u001b[1;31m#print(dialog.print_control_identifiers())\u001b[0m\u001b[1;33m\u001b[0m\u001b[1;33m\u001b[0m\u001b[1;33m\u001b[0m\u001b[0m\n\u001b[1;32m---> 13\u001b[1;33m \u001b[0mprint\u001b[0m\u001b[1;33m(\u001b[0m\u001b[0mdialog\u001b[0m\u001b[1;33m.\u001b[0m\u001b[0m__getitem__\u001b[0m\u001b[1;33m(\u001b[0m\u001b[1;34m\"파일 이름:ComboBox\"\u001b[0m\u001b[1;33m)\u001b[0m\u001b[1;33m)\u001b[0m\u001b[1;33m\u001b[0m\u001b[1;33m\u001b[0m\u001b[0m\n\u001b[0m\u001b[0;32m     14\u001b[0m \u001b[0mdialog\u001b[0m\u001b[1;33m[\u001b[0m\u001b[1;34m\"파일 이름:ComboBox\"\u001b[0m\u001b[1;33m]\u001b[0m\u001b[1;33m.\u001b[0m\u001b[0mset_text\u001b[0m\u001b[1;33m(\u001b[0m\u001b[1;34m\"Test-utf8.txt\"\u001b[0m\u001b[1;33m)\u001b[0m\u001b[1;33m\u001b[0m\u001b[1;33m\u001b[0m\u001b[0m\n\u001b[0;32m     15\u001b[0m \u001b[0mdialog\u001b[0m\u001b[1;33m[\u001b[0m\u001b[1;34m\"인코딩(E):ComboBox\"\u001b[0m\u001b[1;33m]\u001b[0m\u001b[1;33m.\u001b[0m\u001b[0mselect\u001b[0m\u001b[1;33m(\u001b[0m\u001b[1;34m\"UTF-8\"\u001b[0m\u001b[1;33m)\u001b[0m\u001b[1;33m\u001b[0m\u001b[1;33m\u001b[0m\u001b[0m\n",
      "\u001b[1;32mc:\\users\\user\\appdata\\local\\programs\\python\\python37-32\\lib\\site-packages\\pywinauto\\application.py\u001b[0m in \u001b[0;36m__getitem__\u001b[1;34m(self, key)\u001b[0m\n\u001b[0;32m    323\u001b[0m                     \u001b[1;34m\"requested this in error?\"\u001b[0m\u001b[1;33m\u001b[0m\u001b[1;33m\u001b[0m\u001b[0m\n\u001b[0;32m    324\u001b[0m \u001b[1;33m\u001b[0m\u001b[0m\n\u001b[1;32m--> 325\u001b[1;33m                 \u001b[1;32mraise\u001b[0m \u001b[0mAttributeError\u001b[0m\u001b[1;33m(\u001b[0m\u001b[0mmessage\u001b[0m\u001b[1;33m)\u001b[0m\u001b[1;33m\u001b[0m\u001b[1;33m\u001b[0m\u001b[0m\n\u001b[0m\u001b[0;32m    326\u001b[0m \u001b[1;33m\u001b[0m\u001b[0m\n\u001b[0;32m    327\u001b[0m         \u001b[1;31m# if we get here then we must have only had one criteria so far\u001b[0m\u001b[1;33m\u001b[0m\u001b[1;33m\u001b[0m\u001b[1;33m\u001b[0m\u001b[0m\n",
      "\u001b[1;31mAttributeError\u001b[0m: The control does not have a __getitem__ method for item access (i.e. ctrl[key]) so maybe you have requested this in error?"
     ]
    }
   ],
   "source": [
    "from pywinauto import application\n",
    "\n",
    "app = application.Application(backend=\"uia\")\n",
    "# app = applcation.Application().connect(process=pid)\n",
    "# dialog = app.window()\n",
    "app.start('notepad.exe')\n",
    "#notepad = app['UntitledNotepad']\n",
    "notepad = app.window(best_match=\"Windows 메모장\")\n",
    "notepad.Edit.type_keys(\"abcdefg\")\n",
    "notepad.menu_select(\"파일->다른 이름으로 저장\")\n",
    "dialog = notepad[\"다른 이름으로 저장\"]\n",
    "#print(dialog.print_control_identifiers())\n",
    "print(dialog.__getitem__(\"파일 이름:ComboBox\"))\n",
    "dialog[\"파일 이름:ComboBox\"].set_text(\"Test-utf8.txt\")\n",
    "dialog[\"인코딩(E):ComboBox\"].select(\"UTF-8\")\n",
    "dialog[\"저장(S)Button\"].click()"
   ]
  },
  {
   "cell_type": "markdown",
   "metadata": {},
   "source": [
    "backend=\"win32\" => MFC, VB6, VCL, WinForms\n",
    "backend=\"uia\" => WinForms, WPF, Store apps, Qt5, browsers"
   ]
  }
 ],
 "metadata": {
  "kernelspec": {
   "display_name": "Python 3",
   "language": "python",
   "name": "python3"
  },
  "language_info": {
   "codemirror_mode": {
    "name": "ipython",
    "version": 3
   },
   "file_extension": ".py",
   "mimetype": "text/x-python",
   "name": "python",
   "nbconvert_exporter": "python",
   "pygments_lexer": "ipython3",
   "version": "3.7.4"
  }
 },
 "nbformat": 4,
 "nbformat_minor": 2
}
