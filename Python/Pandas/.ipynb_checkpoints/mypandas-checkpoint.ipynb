{
 "cells": [
  {
   "cell_type": "markdown",
   "id": "enormous-hawaii",
   "metadata": {},
   "source": [
    "# Pandas\n",
    "pandas는 numpy기반으로 만들어진 패키지로, Series와 Dataframe이라는 효율적인 자료구조를 제공한다.\n",
    "\n",
    "설치 `pip install pandas`"
   ]
  },
  {
   "cell_type": "markdown",
   "id": "promotional-confidence",
   "metadata": {},
   "source": [
    "## Pandas Series\n",
    "### Series 선언"
   ]
  },
  {
   "cell_type": "code",
   "execution_count": 5,
   "id": "removable-counter",
   "metadata": {
    "ExecuteTime": {
     "end_time": "2021-03-12T16:18:02.662506Z",
     "start_time": "2021-03-12T16:18:02.614686Z"
    },
    "scrolled": false
   },
   "outputs": [
    {
     "name": "stdout",
     "output_type": "stream",
     "text": [
      "0    0.25\n",
      "1    0.50\n",
      "2    0.75\n",
      "3    1.00\n",
      "dtype: float64\n",
      "[0.25 0.5  0.75 1.  ]\n",
      "RangeIndex(start=0, stop=4, step=1)\n",
      "a    0.25\n",
      "b    0.50\n",
      "c    0.75\n",
      "d    1.00\n",
      "dtype: float64\n",
      "California    38332521\n",
      "Texas         26448193\n",
      "New York      19651127\n",
      "Florida       19552860\n",
      "dtype: int64\n",
      "38332521\n",
      "California    38332521\n",
      "Texas         26448193\n",
      "New York      19651127\n",
      "dtype: int64\n"
     ]
    }
   ],
   "source": [
    "import pandas as pd\n",
    "\n",
    "data = pd.Series([0.25, 0.5, 0.75, 1.0])\n",
    "print(data)\n",
    "print(data.values)\n",
    "print(data.index)\n",
    "\n",
    "data = pd.Series([0.25, 0.5, 0.75, 1.0], index=['a', 'b', 'c', 'd'])  # 인덱스 지정\n",
    "print(data)\n",
    "\n",
    "population_dict = {'California': 38332521, 'Texas': 26448193, 'New York': 19651127, 'Florida': 19552860}\n",
    "population = pd.Series(population_dict)  # 딕셔너리 형태로도 가능\n",
    "print(population)\n",
    "print(population['California'])\n",
    "print(population['California':'New York'])"
   ]
  },
  {
   "cell_type": "markdown",
   "id": "sunrise-listing",
   "metadata": {},
   "source": [
    "### Series 데이터 선택"
   ]
  },
  {
   "cell_type": "code",
   "execution_count": 29,
   "id": "opponent-pursuit",
   "metadata": {
    "ExecuteTime": {
     "end_time": "2021-03-12T17:36:11.233791Z",
     "start_time": "2021-03-12T17:36:11.212320Z"
    }
   },
   "outputs": [
    {
     "name": "stdout",
     "output_type": "stream",
     "text": [
      "0.5\n",
      "a    0.25\n",
      "b    0.50\n",
      "c    0.75\n",
      "d    1.00\n",
      "e    1.25\n",
      "dtype: float64\n"
     ]
    }
   ],
   "source": [
    "data = pd.Series([0.25, 0.5, 0.75, 1.0], index=['a', 'b', 'c', 'd'])\n",
    "print(data['b'])  # 딕셔너리처럼 키:value 매핑\n",
    "data['e'] = 1.25  # 새로운 데이터 추가 가능\n",
    "print(data)"
   ]
  },
  {
   "cell_type": "code",
   "execution_count": 30,
   "id": "another-looking",
   "metadata": {
    "ExecuteTime": {
     "end_time": "2021-03-12T17:37:45.917258Z",
     "start_time": "2021-03-12T17:37:45.861112Z"
    }
   },
   "outputs": [
    {
     "name": "stdout",
     "output_type": "stream",
     "text": [
      "a    0.25\n",
      "b    0.50\n",
      "c    0.75\n",
      "dtype: float64\n",
      "a    0.25\n",
      "b    0.50\n",
      "dtype: float64\n",
      "b    0.50\n",
      "c    0.75\n",
      "dtype: float64\n",
      "a    0.25\n",
      "e    1.25\n",
      "dtype: float64\n"
     ]
    }
   ],
   "source": [
    "print(data['a':'c']) # 명시적 인덱스로 슬라이싱\n",
    "print(data[0:2])  # 암묵적 정수 인덱스로 슬라이싱\n",
    "print(data[(data > 0.3) & (data < 0.8)])  # 마스킹\n",
    "print(data[['a', 'e']])  # 팬시 인덱싱"
   ]
  },
  {
   "cell_type": "code",
   "execution_count": 31,
   "id": "undefined-stick",
   "metadata": {
    "ExecuteTime": {
     "end_time": "2021-03-12T17:40:17.817937Z",
     "start_time": "2021-03-12T17:40:17.793538Z"
    }
   },
   "outputs": [
    {
     "name": "stdout",
     "output_type": "stream",
     "text": [
      "a\n",
      "3    b\n",
      "5    c\n",
      "dtype: object\n"
     ]
    }
   ],
   "source": [
    "data = pd.Series(['a', 'b', 'c'], index=[1, 3, 5])  # 인덱스를 정수로 사용하는 경우 슬라이싱에 혼동\n",
    "print(data[1])  # a가 나오는게 맞을까 b가 나오는게 맞을까?(명시적 인덱스 사용)\n",
    "print(data[1:3])  # 슬라이싱할때는 암묵적 인덱스 사용\n",
    "# 결과적으론 혼용하게 되어 혼동이 올 수 있다."
   ]
  },
  {
   "cell_type": "code",
   "execution_count": 32,
   "id": "hollywood-joyce",
   "metadata": {
    "ExecuteTime": {
     "end_time": "2021-03-13T00:19:50.467112Z",
     "start_time": "2021-03-13T00:19:50.366005Z"
    }
   },
   "outputs": [
    {
     "name": "stdout",
     "output_type": "stream",
     "text": [
      "a\n",
      "1    a\n",
      "3    b\n",
      "dtype: object\n",
      "b\n",
      "3    b\n",
      "5    c\n",
      "dtype: object\n"
     ]
    }
   ],
   "source": [
    "print(data.loc[1])\n",
    "print(data.loc[1:3])  # loc 명시적 인덱스 참조\n",
    "print(data.iloc[1])\n",
    "print(data.iloc[1:3])  # iloc 암묵적 인덱스 참조"
   ]
  },
  {
   "cell_type": "markdown",
   "id": "tutorial-hopkins",
   "metadata": {},
   "source": [
    "## Pandas DataFrame"
   ]
  },
  {
   "cell_type": "code",
   "execution_count": 16,
   "id": "major-friendship",
   "metadata": {
    "ExecuteTime": {
     "end_time": "2021-03-12T17:14:23.737935Z",
     "start_time": "2021-03-12T17:14:23.695965Z"
    }
   },
   "outputs": [
    {
     "name": "stdout",
     "output_type": "stream",
     "text": [
      "            population    area\n",
      "California    38332521  423967\n",
      "Texas         26448193  695662\n",
      "New York      19651127  141297\n",
      "Florida       19552860  170312\n",
      "Index(['California', 'Texas', 'New York', 'Florida'], dtype='object')\n",
      "Index(['population', 'area'], dtype='object')\n",
      "California    423967\n",
      "Texas         695662\n",
      "New York      141297\n",
      "Florida       170312\n",
      "Name: area, dtype: int64\n",
      "            population\n",
      "California    38332521\n",
      "Texas         26448193\n",
      "New York      19651127\n",
      "Florida       19552860\n",
      "                   0       1\n",
      "California  38332521  423967\n",
      "Texas       26448193  695662\n",
      "New York    19651127  141297\n",
      "Florida     19552860  170312\n"
     ]
    }
   ],
   "source": [
    "population_dict = {'California': 38332521, 'Texas': 26448193, 'New York': 19651127, 'Florida': 19552860}\n",
    "population = pd.Series(population_dict)\n",
    "area_dict = {'California': 423967, 'Texas': 695662, 'New York': 141297, 'Florida': 170312}\n",
    "area = pd.Series(area_dict)\n",
    "\n",
    "states = pd.DataFrame({'population':population, 'area':area})\n",
    "print(states)\n",
    "print(states.index)\n",
    "print(states.columns)\n",
    "print(states['area'])\n",
    "states = pd.DataFrame(population, columns=['population'])  # 또다른 선언법, 위에 방법이 더 나은듯함\n",
    "print(states)"
   ]
  },
  {
   "cell_type": "code",
   "execution_count": 17,
   "id": "neutral-peeing",
   "metadata": {
    "ExecuteTime": {
     "end_time": "2021-03-12T17:17:00.800259Z",
     "start_time": "2021-03-12T17:17:00.783668Z"
    }
   },
   "outputs": [
    {
     "name": "stdout",
     "output_type": "stream",
     "text": [
      "     a  b    c\n",
      "0  1.0  2  NaN\n",
      "1  NaN  3  4.0\n"
     ]
    }
   ],
   "source": [
    "data = pd.DataFrame([{'a': 1, 'b': 2}, {'b': 3, 'c': 4}])\n",
    "print(data)  # 누락된 자리를 Nan(not a number)로 채운다"
   ]
  },
  {
   "cell_type": "code",
   "execution_count": 21,
   "id": "rapid-ghana",
   "metadata": {
    "ExecuteTime": {
     "end_time": "2021-03-12T17:24:06.692245Z",
     "start_time": "2021-03-12T17:24:06.653236Z"
    }
   },
   "outputs": [
    {
     "name": "stdout",
     "output_type": "stream",
     "text": [
      "        foo       bar\n",
      "a  0.638455  0.445583\n",
      "b  0.870392  0.007108\n",
      "c  0.948372  0.835707\n",
      "   A    B\n",
      "0  0  0.0\n",
      "1  0  0.0\n",
      "2  0  0.0\n"
     ]
    }
   ],
   "source": [
    "# 리스트 형태의 데이터를 데이터프레임화 할때 사용\n",
    "data = pd.DataFrame(np.random.rand(3, 2), columns=['foo', 'bar'], index=['a', 'b', 'c'])\n",
    "print(data)\n",
    "\n",
    "a = np.zeros(3, dtype=[('A', 'i8'), ('B', 'f8')])  # 이런식으로 미리 데이터타입 정해둘수 있음\n",
    "data = pd.DataFrame(a)\n",
    "print(data)"
   ]
  },
  {
   "cell_type": "markdown",
   "id": "macro-gentleman",
   "metadata": {},
   "source": [
    "### Pandas Index 객체\n",
    "객체 데이터를 참조하고 수정하게 해주는 명시적 인덱스, 불변 배열이며, 중복된값을 포함할 수 있다."
   ]
  },
  {
   "cell_type": "code",
   "execution_count": 22,
   "id": "opened-retrieval",
   "metadata": {
    "ExecuteTime": {
     "end_time": "2021-03-12T17:26:01.558363Z",
     "start_time": "2021-03-12T17:26:01.539820Z"
    }
   },
   "outputs": [
    {
     "name": "stdout",
     "output_type": "stream",
     "text": [
      "Int64Index([2, 3, 5, 7, 11], dtype='int64')\n",
      "3\n",
      "Int64Index([2, 5, 11], dtype='int64')\n",
      "5 (5,) 1 int64\n"
     ]
    }
   ],
   "source": [
    "index = pd.Index([2, 3, 5, 7, 11])\n",
    "print(index)\n",
    "print(index[1])\n",
    "print(index[::2])\n",
    "print(index.size, index.shape, index.ndim, index.dtype)"
   ]
  },
  {
   "cell_type": "code",
   "execution_count": 23,
   "id": "sharp-saying",
   "metadata": {
    "ExecuteTime": {
     "end_time": "2021-03-12T17:27:07.593574Z",
     "start_time": "2021-03-12T17:27:07.559417Z"
    }
   },
   "outputs": [
    {
     "ename": "TypeError",
     "evalue": "Index does not support mutable operations",
     "output_type": "error",
     "traceback": [
      "\u001b[1;31m---------------------------------------------------------------------------\u001b[0m",
      "\u001b[1;31mTypeError\u001b[0m                                 Traceback (most recent call last)",
      "\u001b[1;32m<ipython-input-23-13bd17889c12>\u001b[0m in \u001b[0;36m<module>\u001b[1;34m\u001b[0m\n\u001b[1;32m----> 1\u001b[1;33m \u001b[0mindex\u001b[0m\u001b[1;33m[\u001b[0m\u001b[1;36m1\u001b[0m\u001b[1;33m]\u001b[0m \u001b[1;33m=\u001b[0m \u001b[1;36m10\u001b[0m  \u001b[1;31m# 수정불가\u001b[0m\u001b[1;33m\u001b[0m\u001b[1;33m\u001b[0m\u001b[0m\n\u001b[0m",
      "\u001b[1;32mc:\\users\\user\\appdata\\local\\programs\\python\\python39\\lib\\site-packages\\pandas\\core\\indexes\\base.py\u001b[0m in \u001b[0;36m__setitem__\u001b[1;34m(self, key, value)\u001b[0m\n\u001b[0;32m   4275\u001b[0m     \u001b[1;33m@\u001b[0m\u001b[0mfinal\u001b[0m\u001b[1;33m\u001b[0m\u001b[1;33m\u001b[0m\u001b[0m\n\u001b[0;32m   4276\u001b[0m     \u001b[1;32mdef\u001b[0m \u001b[0m__setitem__\u001b[0m\u001b[1;33m(\u001b[0m\u001b[0mself\u001b[0m\u001b[1;33m,\u001b[0m \u001b[0mkey\u001b[0m\u001b[1;33m,\u001b[0m \u001b[0mvalue\u001b[0m\u001b[1;33m)\u001b[0m\u001b[1;33m:\u001b[0m\u001b[1;33m\u001b[0m\u001b[1;33m\u001b[0m\u001b[0m\n\u001b[1;32m-> 4277\u001b[1;33m         \u001b[1;32mraise\u001b[0m \u001b[0mTypeError\u001b[0m\u001b[1;33m(\u001b[0m\u001b[1;34m\"Index does not support mutable operations\"\u001b[0m\u001b[1;33m)\u001b[0m\u001b[1;33m\u001b[0m\u001b[1;33m\u001b[0m\u001b[0m\n\u001b[0m\u001b[0;32m   4278\u001b[0m \u001b[1;33m\u001b[0m\u001b[0m\n\u001b[0;32m   4279\u001b[0m     \u001b[1;32mdef\u001b[0m \u001b[0m__getitem__\u001b[0m\u001b[1;33m(\u001b[0m\u001b[0mself\u001b[0m\u001b[1;33m,\u001b[0m \u001b[0mkey\u001b[0m\u001b[1;33m)\u001b[0m\u001b[1;33m:\u001b[0m\u001b[1;33m\u001b[0m\u001b[1;33m\u001b[0m\u001b[0m\n",
      "\u001b[1;31mTypeError\u001b[0m: Index does not support mutable operations"
     ]
    }
   ],
   "source": [
    "index[1] = 10  # 수정불가"
   ]
  },
  {
   "cell_type": "code",
   "execution_count": 27,
   "id": "headed-liechtenstein",
   "metadata": {
    "ExecuteTime": {
     "end_time": "2021-03-12T17:32:00.225510Z",
     "start_time": "2021-03-12T17:32:00.204041Z"
    }
   },
   "outputs": [
    {
     "name": "stdout",
     "output_type": "stream",
     "text": [
      "Int64Index([3, 5, 7], dtype='int64')\n",
      "Int64Index([1, 2, 3, 5, 7, 9, 11], dtype='int64')\n",
      "Int64Index([1, 2, 9, 11], dtype='int64')\n"
     ]
    }
   ],
   "source": [
    "indA = pd.Index([1, 3, 5, 7, 9])\n",
    "indB = pd.Index([2, 3, 5, 7, 11])\n",
    "# print(indA & indB)  # 교집합\n",
    "# print(indA | indB)  # 합집합\n",
    "# print(indA ^ indB)  # 여집합\n",
    "print(pd.Index.intersection(indA, indB))  # 교집합\n",
    "print(pd.Index.union(indA, indB))  # 합집합\n",
    "print(pd.Index.symmetric_difference(indA, indB))  # 여집합"
   ]
  },
  {
   "cell_type": "markdown",
   "id": "prescription-alert",
   "metadata": {},
   "source": [
    "### DataFrame 데이터 선택"
   ]
  },
  {
   "cell_type": "code",
   "execution_count": 34,
   "id": "collectible-withdrawal",
   "metadata": {
    "ExecuteTime": {
     "end_time": "2021-03-13T00:31:43.202702Z",
     "start_time": "2021-03-13T00:31:43.169789Z"
    }
   },
   "outputs": [
    {
     "name": "stdout",
     "output_type": "stream",
     "text": [
      "California    423967\n",
      "Texas         695662\n",
      "New York      141297\n",
      "Florida       170312\n",
      "Name: area, dtype: int64\n",
      "California    423967\n",
      "Texas         695662\n",
      "New York      141297\n",
      "Florida       170312\n",
      "Name: area, dtype: int64\n",
      "True\n"
     ]
    }
   ],
   "source": [
    "population_dict = {'California': 38332521, 'Texas': 26448193, 'New York': 19651127, 'Florida': 19552860}\n",
    "population = pd.Series(population_dict)\n",
    "area_dict = {'California': 423967, 'Texas': 695662, 'New York': 141297, 'Florida': 170312}\n",
    "area = pd.Series(area_dict)\n",
    "\n",
    "data = pd.DataFrame({'population':population, 'area':area})\n",
    "print(data['area'])  # 딕셔너리 스타일 인덱싱 ok\n",
    "print(data.area)  # 열이름을 이용해 속성으로 접근도 ok\n",
    "print(data['area'] is data.area)  # 동일한 데이터임, 속성명이 이미 정의된 메소드와 겹칠경우 False(조심)"
   ]
  },
  {
   "cell_type": "code",
   "execution_count": 36,
   "id": "comic-finger",
   "metadata": {
    "ExecuteTime": {
     "end_time": "2021-03-13T00:32:28.331286Z",
     "start_time": "2021-03-13T00:32:28.306354Z"
    }
   },
   "outputs": [
    {
     "name": "stdout",
     "output_type": "stream",
     "text": [
      "[[3.83325210e+07 4.23967000e+05 9.04139261e+01]\n",
      " [2.64481930e+07 6.95662000e+05 3.80187404e+01]\n",
      " [1.96511270e+07 1.41297000e+05 1.39076746e+02]\n",
      " [1.95528600e+07 1.70312000e+05 1.14806121e+02]]\n",
      "California    423967\n",
      "Texas         695662\n",
      "New York      141297\n",
      "Florida       170312\n",
      "Name: area, dtype: int64\n",
      "            population    area\n",
      "California    38332521  423967\n",
      "Texas         26448193  695662\n",
      "New York      19651127  141297\n"
     ]
    }
   ],
   "source": [
    "data['destiny'] = data['population'] / data['area']  # 새 열을 할당\n",
    "print(data.values)  # 해시 데이터 기반 원시 데이터 배열 확인가능\n",
    "\n",
    "print(data['area'])  # 열 접근\n",
    "print(data.iloc[:3, :2])  # 암묵적 데이터 슬라이싱"
   ]
  },
  {
   "cell_type": "code",
   "execution_count": 38,
   "id": "hundred-account",
   "metadata": {
    "ExecuteTime": {
     "end_time": "2021-03-13T00:34:21.806065Z",
     "start_time": "2021-03-13T00:34:21.784109Z"
    }
   },
   "outputs": [
    {
     "name": "stdout",
     "output_type": "stream",
     "text": [
      "          population     destiny\n",
      "New York    19651127  139.076746\n",
      "Florida     19552860  114.806121\n",
      "area       423967.000000\n",
      "destiny        90.413926\n",
      "Name: California, dtype: float64\n"
     ]
    }
   ],
   "source": [
    "print(data.loc[data.destiny > 100, ['population', 'destiny']])  # 다양한 표현법 결합 가능\n",
    "print(data.iloc[0, [1,2]])"
   ]
  },
  {
   "cell_type": "markdown",
   "id": "acute-thumbnail",
   "metadata": {},
   "source": [
    "### 유니버설 함수"
   ]
  },
  {
   "cell_type": "code",
   "execution_count": 40,
   "id": "distributed-memorabilia",
   "metadata": {
    "ExecuteTime": {
     "end_time": "2021-03-13T00:54:17.971005Z",
     "start_time": "2021-03-13T00:54:17.918107Z"
    }
   },
   "outputs": [
    {
     "name": "stdout",
     "output_type": "stream",
     "text": [
      "0    6\n",
      "1    3\n",
      "2    7\n",
      "3    4\n",
      "dtype: int32\n",
      "   A  B  C  D\n",
      "0  6  9  2  6\n",
      "1  7  4  3  7\n",
      "2  7  2  5  4\n",
      "          A             B         C             D\n",
      "0 -1.000000  7.071068e-01  1.000000 -1.000000e+00\n",
      "1 -0.707107  1.224647e-16  0.707107 -7.071068e-01\n",
      "2 -0.707107  1.000000e+00 -0.707107  1.224647e-16\n"
     ]
    }
   ],
   "source": [
    "import pandas as pd\n",
    "import numpy as np\n",
    "\n",
    "rng = np.random.RandomState(42)\n",
    "ser = pd.Series(rng.randint(0, 10, 4))\n",
    "print(ser)\n",
    "df = pd.DataFrame(rng.randint(0, 10, (3, 4)), columns=['A', 'B', 'C', 'D'])\n",
    "print(df)\n",
    "\n",
    "print(np.sin(df * np.pi / 4))  # 판다스는 넘파이 기반이라 넘파이와 함께 작업될 수 있음"
   ]
  },
  {
   "cell_type": "code",
   "execution_count": 42,
   "id": "alone-science",
   "metadata": {
    "ExecuteTime": {
     "end_time": "2021-03-13T01:02:08.504468Z",
     "start_time": "2021-03-13T01:02:08.447620Z"
    }
   },
   "outputs": [
    {
     "name": "stdout",
     "output_type": "stream",
     "text": [
      "    A   B\n",
      "0  19   2\n",
      "1   4  18\n",
      "   B  A  C\n",
      "0  6  4  8\n",
      "1  6  1  3\n",
      "2  8  1  9\n",
      "      A     B   C\n",
      "0  23.0   8.0 NaN\n",
      "1   5.0  24.0 NaN\n",
      "2   NaN   NaN NaN\n",
      "       A      B      C\n",
      "0  23.00   8.00  18.75\n",
      "1   5.00  24.00  13.75\n",
      "2  11.75  18.75  19.75\n"
     ]
    }
   ],
   "source": [
    "a = pd.DataFrame(rng.randint(0, 20, (2, 2)), columns=list('AB'))\n",
    "b = pd.DataFrame(rng.randint(0, 10, (3, 3)), columns=list('BAC'))\n",
    "print(a)\n",
    "print(b)\n",
    "print(a + b)  # 자동으로 인덱스 정렬, 합집합(비는 결과는 Nan처리)\n",
    "\n",
    "fill = a.stack().mean()  # 평균\n",
    "print(a.add(b, fill_value=fill))  # 빈값을 원하는 값으로 넣어주는것도 가능"
   ]
  },
  {
   "cell_type": "code",
   "execution_count": 46,
   "id": "mechanical-newport",
   "metadata": {
    "ExecuteTime": {
     "end_time": "2021-03-13T01:06:52.131602Z",
     "start_time": "2021-03-13T01:06:52.099689Z"
    }
   },
   "outputs": [
    {
     "name": "stdout",
     "output_type": "stream",
     "text": [
      "   Q  R  S  T\n",
      "0  7  6  8  7\n",
      "1  4  1  4  7\n",
      "2  9  8  8  0\n",
      "   Q  R  S  T\n",
      "0  0  0  0  0\n",
      "1 -3 -5 -4  0\n",
      "2  2  2  0 -7\n"
     ]
    }
   ],
   "source": [
    "a = rng.randint(10, size=(3, 4))\n",
    "a = pd.DataFrame(a, columns=list('QRST'))\n",
    "print(a)\n",
    "print(a-a.iloc[0])  # 데이터프레임과 시리즈간의 연산, 기본적으로 행방향으로 적용"
   ]
  },
  {
   "cell_type": "code",
   "execution_count": 49,
   "id": "adaptive-procurement",
   "metadata": {
    "ExecuteTime": {
     "end_time": "2021-03-13T01:07:29.564107Z",
     "start_time": "2021-03-13T01:07:29.553136Z"
    }
   },
   "outputs": [
    {
     "name": "stdout",
     "output_type": "stream",
     "text": [
      "   Q  R  S  T\n",
      "0  1  0  2  1\n",
      "1  3  0  3  6\n",
      "2  1  0  0 -8\n"
     ]
    }
   ],
   "source": [
    "print(a.subtract(a['R'], axis=0))  # axis로 명시하여 열방향도 ok"
   ]
  },
  {
   "cell_type": "code",
   "execution_count": 50,
   "id": "rotary-private",
   "metadata": {
    "ExecuteTime": {
     "end_time": "2021-03-13T01:10:03.640269Z",
     "start_time": "2021-03-13T01:10:03.615340Z"
    }
   },
   "outputs": [
    {
     "name": "stdout",
     "output_type": "stream",
     "text": [
      "Q    7\n",
      "S    8\n",
      "Name: 0, dtype: int32\n",
      "     Q   R    S   T\n",
      "0  0.0 NaN  0.0 NaN\n",
      "1 -3.0 NaN -4.0 NaN\n",
      "2  2.0 NaN  0.0 NaN\n"
     ]
    }
   ],
   "source": [
    "halfrow = a.iloc[0, ::2]\n",
    "print(halfrow)\n",
    "print(a - halfrow)  # 브로드캐스팅 & 짝이 안맞는건 연산못하니 Nan처리"
   ]
  },
  {
   "cell_type": "markdown",
   "id": "original-campus",
   "metadata": {},
   "source": [
    "### 누락된 데이터 처리"
   ]
  },
  {
   "cell_type": "code",
   "execution_count": 51,
   "id": "assured-beads",
   "metadata": {
    "ExecuteTime": {
     "end_time": "2021-03-13T03:01:41.056637Z",
     "start_time": "2021-03-13T03:01:41.021695Z"
    }
   },
   "outputs": [
    {
     "name": "stdout",
     "output_type": "stream",
     "text": [
      "[1 None 3 4]\n"
     ]
    }
   ],
   "source": [
    "data = np.array([1, None, 3, 4])  # None은 파이썬 객체\n",
    "print(data)  # 파이썬 객체는 일반적으로 많은 오버헤드가 발생해 느림"
   ]
  },
  {
   "cell_type": "code",
   "execution_count": 54,
   "id": "accomplished-consequence",
   "metadata": {
    "ExecuteTime": {
     "end_time": "2021-03-13T03:03:48.115596Z",
     "start_time": "2021-03-13T03:03:48.095648Z"
    }
   },
   "outputs": [
    {
     "name": "stdout",
     "output_type": "stream",
     "text": [
      "float64\n",
      "nan\n",
      "nan\n",
      "nan nan nan\n",
      "8.0 1.0 4.0\n"
     ]
    }
   ],
   "source": [
    "data = np.array([1, np.nan, 3, 4])  # Not a Number 표준 IEEE 부동소수점표기(특수 부동 소수점 값)\n",
    "print(data.dtype)\n",
    "print(1 + np.nan)\n",
    "print(0 * np.nan)\n",
    "print(data.sum(), data.min(), data.max())\n",
    "print(np.nansum(data), np.nanmin(data), np.nanmax(data))"
   ]
  },
  {
   "cell_type": "code",
   "execution_count": 57,
   "id": "quick-belly",
   "metadata": {
    "ExecuteTime": {
     "end_time": "2021-03-13T03:05:13.724108Z",
     "start_time": "2021-03-13T03:05:13.707152Z"
    }
   },
   "outputs": [
    {
     "name": "stdout",
     "output_type": "stream",
     "text": [
      "0    1.0\n",
      "1    NaN\n",
      "2    2.0\n",
      "3    NaN\n",
      "dtype: float64\n"
     ]
    }
   ],
   "source": [
    "data = pd.Series([1, np.nan, 2, None]) # 판다스에서는 숫자의 경우 None도 Nan처리\n",
    "print(data)"
   ]
  },
  {
   "cell_type": "code",
   "execution_count": 59,
   "id": "senior-distribution",
   "metadata": {
    "ExecuteTime": {
     "end_time": "2021-03-13T03:07:02.545995Z",
     "start_time": "2021-03-13T03:07:02.527007Z"
    }
   },
   "outputs": [
    {
     "name": "stdout",
     "output_type": "stream",
     "text": [
      "0       a\n",
      "1     NaN\n",
      "2       b\n",
      "3    None\n",
      "dtype: object\n"
     ]
    }
   ],
   "source": [
    "data = pd.Series(['a', np.nan, 'b', None])\n",
    "print(data)  # dtype이 object, Boolean인 경우 None 또는 np.nan이고, float, integer의 경우 np.nan"
   ]
  },
  {
   "cell_type": "code",
   "execution_count": 60,
   "id": "lasting-jefferson",
   "metadata": {
    "ExecuteTime": {
     "end_time": "2021-03-13T03:07:50.792719Z",
     "start_time": "2021-03-13T03:07:50.780773Z"
    }
   },
   "outputs": [
    {
     "name": "stdout",
     "output_type": "stream",
     "text": [
      "0    False\n",
      "1     True\n",
      "2    False\n",
      "3     True\n",
      "dtype: bool\n"
     ]
    }
   ],
   "source": [
    "data = pd.Series([1, np.nan, 'hello', None])\n",
    "print(data.isnullll())  # None, Nan 다 True 반환"
   ]
  },
  {
   "cell_type": "code",
   "execution_count": 61,
   "id": "skilled-green",
   "metadata": {
    "ExecuteTime": {
     "end_time": "2021-03-13T03:08:51.931792Z",
     "start_time": "2021-03-13T03:08:51.912844Z"
    }
   },
   "outputs": [
    {
     "name": "stdout",
     "output_type": "stream",
     "text": [
      "0     True\n",
      "1    False\n",
      "2     True\n",
      "3    False\n",
      "dtype: bool\n",
      "0        1\n",
      "2    hello\n",
      "dtype: object\n",
      "0        1\n",
      "1     Nope\n",
      "2    hello\n",
      "3     Nope\n",
      "dtype: object\n"
     ]
    }
   ],
   "source": [
    "print(data.notnull())  # 빈값이 아닌것 boolean\n",
    "print(data.dropna())  # 빈값 드랍\n",
    "print(data.fillna('Nope'))  # 빈값 채우기"
   ]
  },
  {
   "cell_type": "code",
   "execution_count": 65,
   "id": "considered-booking",
   "metadata": {
    "ExecuteTime": {
     "end_time": "2021-03-13T03:12:31.026617Z",
     "start_time": "2021-03-13T03:12:30.991709Z"
    }
   },
   "outputs": [
    {
     "name": "stdout",
     "output_type": "stream",
     "text": [
      "     0    1  2\n",
      "0  1.0  NaN  2\n",
      "1  2.0  3.0  5\n",
      "2  NaN  4.0  6 \n",
      "\n",
      "     0    1  2\n",
      "1  2.0  3.0  5 \n",
      "\n",
      "   2\n",
      "0  2\n",
      "1  5\n",
      "2  6\n"
     ]
    }
   ],
   "source": [
    "df = pd.DataFrame([[1, np.nan, 2],\n",
    "                  [2, 3, 5],\n",
    "                  [np.nan, 4, 6]])  # 2차원에서 dropna 작동\n",
    "print(df, '\\n')\n",
    "print(df.dropna(), '\\n')  # 행 기준 제거\n",
    "print(df.dropna(axis='columns'))  # 열기준 제거"
   ]
  },
  {
   "cell_type": "code",
   "execution_count": 68,
   "id": "unauthorized-keeping",
   "metadata": {
    "ExecuteTime": {
     "end_time": "2021-03-13T03:15:23.805599Z",
     "start_time": "2021-03-13T03:15:23.778675Z"
    }
   },
   "outputs": [
    {
     "name": "stdout",
     "output_type": "stream",
     "text": [
      "     0    1  2   3\n",
      "0  1.0  NaN  2 NaN\n",
      "1  2.0  3.0  5 NaN\n",
      "2  NaN  4.0  6 NaN \n",
      "\n",
      "     0    1  2\n",
      "0  1.0  NaN  2\n",
      "1  2.0  3.0  5\n",
      "2  NaN  4.0  6 \n",
      "\n",
      "   2\n",
      "0  2\n",
      "1  5\n",
      "2  6\n"
     ]
    }
   ],
   "source": [
    "df[3] = np.nan\n",
    "print(df, '\\n')\n",
    "print(df.dropna(axis=1, how='all'), '\\n')  # how= all->전부 Nan인 경우, any-> 하나라도 Nan인 경우\n",
    "print(df.dropna(axis=1, thresh=3))  # thresh=최소 x개의 nan이 아닌 값이있는 axis"
   ]
  },
  {
   "cell_type": "code",
   "execution_count": 69,
   "id": "spare-desktop",
   "metadata": {
    "ExecuteTime": {
     "end_time": "2021-03-13T03:18:03.417161Z",
     "start_time": "2021-03-13T03:18:03.384246Z"
    }
   },
   "outputs": [
    {
     "name": "stdout",
     "output_type": "stream",
     "text": [
      "a    1.0\n",
      "b    NaN\n",
      "c    2.0\n",
      "d    NaN\n",
      "e    3.0\n",
      "dtype: float64 \n",
      "\n",
      "a    1.0\n",
      "b    0.0\n",
      "c    2.0\n",
      "d    0.0\n",
      "e    3.0\n",
      "dtype: float64 \n",
      "\n",
      "a    1.0\n",
      "b    1.0\n",
      "c    2.0\n",
      "d    2.0\n",
      "e    3.0\n",
      "dtype: float64\n",
      "a    1.0\n",
      "b    2.0\n",
      "c    2.0\n",
      "d    3.0\n",
      "e    3.0\n",
      "dtype: float64\n"
     ]
    }
   ],
   "source": [
    "data = pd.Series([1, np.nan, 2, None, 3], index=list('abcde'))\n",
    "print(data, '\\n')\n",
    "print(data.fillna(0), '\\n')\n",
    "print(data.fillna(method='ffill'))  # 이전 값으로 채우기\n",
    "print(data.fillna(method='bfill'))  # 다음에 오는 값으로 채우기"
   ]
  },
  {
   "cell_type": "markdown",
   "id": "crucial-catalyst",
   "metadata": {},
   "source": [
    "### 계층적 인덱싱\n",
    "단일 인덱스 내에 여러 인덱스 레벨을 포함하는 계층적 인덱싱(다중 인덱싱)으로 다차원 데이터를 1차원 Series, 2차원 Dataframe 객체로 간결하게 표현"
   ]
  },
  {
   "cell_type": "code",
   "execution_count": 73,
   "id": "considerable-alignment",
   "metadata": {
    "ExecuteTime": {
     "end_time": "2021-03-13T04:17:33.837574Z",
     "start_time": "2021-03-13T04:17:33.824885Z"
    }
   },
   "outputs": [
    {
     "name": "stdout",
     "output_type": "stream",
     "text": [
      "MultiIndex([('California', 2000),\n",
      "            ('California', 2010),\n",
      "            (  'New York', 2000),\n",
      "            (  'New York', 2010),\n",
      "            (     'Texas', 2000),\n",
      "            (     'Texas', 2010)],\n",
      "           )\n"
     ]
    }
   ],
   "source": [
    "index = [('California', 2000), ('California', 2010), ('New York', 2000), ('New York', 2010), ('Texas', 2000), ('Texas', 2010)]\n",
    "\n",
    "index = pd.MultiIndex.from_tuples(index)\n",
    "print(index)  # level=[['California', 'New York', 'Texas'], [2000,2010]], labels=[[0, 0, 1, 1, 2, 2,], [0, 1, 0, 1, 0, 1]]"
   ]
  },
  {
   "cell_type": "code",
   "execution_count": 74,
   "id": "least-grounds",
   "metadata": {
    "ExecuteTime": {
     "end_time": "2021-03-13T04:17:36.150906Z",
     "start_time": "2021-03-13T04:17:36.141143Z"
    }
   },
   "outputs": [
    {
     "name": "stdout",
     "output_type": "stream",
     "text": [
      "California  2000     3387\n",
      "            2010    37253\n",
      "New York    2000     1123\n",
      "            2010     4334\n",
      "Texas       2000    23123\n",
      "            2010    21123\n",
      "dtype: int64\n"
     ]
    }
   ],
   "source": [
    "population = [3387, 37253, 1123, 4334, 23123, 21123]\n",
    "pop = pd.Series(population, index=index)\n",
    "print(pop)"
   ]
  },
  {
   "cell_type": "code",
   "execution_count": 75,
   "id": "commercial-class",
   "metadata": {
    "ExecuteTime": {
     "end_time": "2021-03-13T04:17:52.609346Z",
     "start_time": "2021-03-13T04:17:52.596659Z"
    }
   },
   "outputs": [
    {
     "name": "stdout",
     "output_type": "stream",
     "text": [
      "California    37253\n",
      "New York       4334\n",
      "Texas         21123\n",
      "dtype: int64\n"
     ]
    }
   ],
   "source": [
    "print(pop[:, 2010])"
   ]
  },
  {
   "cell_type": "code",
   "execution_count": 76,
   "id": "returning-marks",
   "metadata": {
    "ExecuteTime": {
     "end_time": "2021-03-13T04:18:40.830875Z",
     "start_time": "2021-03-13T04:18:40.808428Z"
    }
   },
   "outputs": [
    {
     "name": "stdout",
     "output_type": "stream",
     "text": [
      "             2000   2010\n",
      "California   3387  37253\n",
      "New York     1123   4334\n",
      "Texas       23123  21123\n"
     ]
    }
   ],
   "source": [
    "pop_df = pop.unstack()  # 멀티인덱스를 DataFrame으로 쉽게 저장 가능\n",
    "print(pop_df)  # 반대되는 연산은 stack()"
   ]
  },
  {
   "cell_type": "code",
   "execution_count": 77,
   "id": "north-paradise",
   "metadata": {
    "ExecuteTime": {
     "end_time": "2021-03-13T04:20:06.154154Z",
     "start_time": "2021-03-13T04:20:06.128772Z"
    }
   },
   "outputs": [
    {
     "name": "stdout",
     "output_type": "stream",
     "text": [
      "        data1     data2\n",
      "a 1  0.823451  0.641704\n",
      "  2  0.416564  0.665171\n",
      "b 1  0.996951  0.025642\n",
      "  2  0.555297  0.980211\n"
     ]
    }
   ],
   "source": [
    "df = pd.DataFrame(np.random.rand(4, 2), index=[['a', 'a', 'b', 'b'], [1, 2, 1, 2]], columns=['data1', 'data2']) # MultiIndex 선언법\n",
    "print(df)"
   ]
  },
  {
   "cell_type": "code",
   "execution_count": 78,
   "id": "bronze-immunology",
   "metadata": {
    "ExecuteTime": {
     "end_time": "2021-03-13T04:22:14.785081Z",
     "start_time": "2021-03-13T04:22:14.772396Z"
    }
   },
   "outputs": [
    {
     "name": "stdout",
     "output_type": "stream",
     "text": [
      "state       year\n",
      "California  2000     3387\n",
      "            2010    37253\n",
      "New York    2000     1123\n",
      "            2010     4334\n",
      "Texas       2000    23123\n",
      "            2010    21123\n",
      "dtype: int64\n"
     ]
    }
   ],
   "source": [
    "pop.index.names = ['state', 'year']  # 멀티인덱스 이름 지정\n",
    "print(pop)"
   ]
  },
  {
   "cell_type": "code",
   "execution_count": 81,
   "id": "conceptual-rover",
   "metadata": {
    "ExecuteTime": {
     "end_time": "2021-03-13T04:26:08.367186Z",
     "start_time": "2021-03-13T04:26:08.334978Z"
    }
   },
   "outputs": [
    {
     "name": "stdout",
     "output_type": "stream",
     "text": [
      "subject      Bob      Guido       Sue     \n",
      "type          HR Temp    HR Temp   HR Temp\n",
      "year visit                                \n",
      "2013 1      -5.0  0.6 -14.0 -1.3  4.0 -0.3\n",
      "     2      26.0  0.1  27.0 -0.4 -4.0 -1.8\n",
      "2014 1      -4.0 -0.7 -10.0 -0.9  5.0 -0.8\n",
      "     2      -7.0 -1.3  -8.0  0.7 -4.0 -1.3\n"
     ]
    }
   ],
   "source": [
    "index = pd.MultiIndex.from_product([[2013, 2014], [1, 2]], names=['year', 'visit'])  # 열도 multiIndex 가능\n",
    "columns = pd.MultiIndex.from_product([['Bob', 'Guido', 'Sue'], ['HR', 'Temp']], names=['subject', 'type'])\n",
    "data = np.round(np.random.randn(4, 6), 1)\n",
    "data[:, ::2] *= 10\n",
    "health_data = pd.DataFrame(data, index=index, columns=columns)\n",
    "print(health_data)"
   ]
  },
  {
   "cell_type": "code",
   "execution_count": 84,
   "id": "sought-season",
   "metadata": {
    "ExecuteTime": {
     "end_time": "2021-03-13T04:30:37.348008Z",
     "start_time": "2021-03-13T04:30:37.329463Z"
    }
   },
   "outputs": [
    {
     "name": "stdout",
     "output_type": "stream",
     "text": [
      "3387 \n",
      "\n",
      "year\n",
      "2000     3387\n",
      "2010    37253\n",
      "dtype: int64 \n",
      "\n",
      "state       year\n",
      "California  2000     3387\n",
      "            2010    37253\n",
      "New York    2000     1123\n",
      "            2010     4334\n",
      "dtype: int64 \n",
      "\n",
      "state\n",
      "California     3387\n",
      "New York       1123\n",
      "Texas         23123\n",
      "dtype: int64 \n",
      "\n",
      "state       year\n",
      "California  2010    37253\n",
      "Texas       2000    23123\n",
      "            2010    21123\n",
      "dtype: int64 \n",
      "\n"
     ]
    }
   ],
   "source": [
    "# MultiIndex 인덱싱 및 슬라이싱 Series\n",
    "print(pop['California', 2000], '\\n') # 여러 용어로 단일 요소에 접근\n",
    "print(pop['California'], '\\n')\n",
    "print(pop['California':'New York'], '\\n') # 슬라이싱\n",
    "print(pop[:, 2000], '\\n')\n",
    "print(pop[pop > 5000], '\\n')"
   ]
  },
  {
   "cell_type": "code",
   "execution_count": 86,
   "id": "liable-parking",
   "metadata": {
    "ExecuteTime": {
     "end_time": "2021-03-13T04:40:58.563036Z",
     "start_time": "2021-03-13T04:40:58.498386Z"
    }
   },
   "outputs": [
    {
     "name": "stdout",
     "output_type": "stream",
     "text": [
      "subject      Bob      Guido       Sue     \n",
      "type          HR Temp    HR Temp   HR Temp\n",
      "year visit                                \n",
      "2013 1      -5.0  0.6 -14.0 -1.3  4.0 -0.3\n",
      "     2      26.0  0.1  27.0 -0.4 -4.0 -1.8\n",
      "2014 1      -4.0 -0.7 -10.0 -0.9  5.0 -0.8\n",
      "     2      -7.0 -1.3  -8.0  0.7 -4.0 -1.3 \n",
      "\n",
      "year  visit\n",
      "2013  1       -14.0\n",
      "      2        27.0\n",
      "2014  1       -10.0\n",
      "      2        -8.0\n",
      "Name: (Guido, HR), dtype: float64 \n",
      "\n",
      "subject      Bob     \n",
      "type          HR Temp\n",
      "year visit           \n",
      "2013 1      -5.0  0.6\n",
      "     2      26.0  0.1 \n",
      "\n",
      "year  visit\n",
      "2013  1        -5.0\n",
      "      2        26.0\n",
      "2014  1        -4.0\n",
      "      2        -7.0\n",
      "Name: (Bob, HR), dtype: float64 \n",
      "\n",
      "subject     Bob Guido  Sue\n",
      "type         HR    HR   HR\n",
      "year visit                \n",
      "2013 1     -5.0 -14.0  4.0\n",
      "2014 1     -4.0 -10.0  5.0\n"
     ]
    }
   ],
   "source": [
    "# MultiIndex 인덱싱 및 슬라이싱 DataFrame\n",
    "print(health_data, '\\n')\n",
    "print(health_data['Guido', 'HR'], '\\n')\n",
    "print(health_data.iloc[:2, :2], '\\n')\n",
    "print(health_data.loc[:, ('Bob', 'HR')], '\\n')\n",
    "\n",
    "idx = pd.IndexSlice  # 슬라이스를 명시적으로 하는 경우\n",
    "print(health_data.loc[idx[:, 1], idx[:, 'HR']])"
   ]
  },
  {
   "cell_type": "code",
   "execution_count": 87,
   "id": "brief-bandwidth",
   "metadata": {
    "ExecuteTime": {
     "end_time": "2021-03-13T11:02:01.456464Z",
     "start_time": "2021-03-13T11:02:01.222532Z"
    }
   },
   "outputs": [
    {
     "name": "stdout",
     "output_type": "stream",
     "text": [
      "state       year\n",
      "California  2000     3387\n",
      "            2010    37253\n",
      "New York    2000     1123\n",
      "            2010     4334\n",
      "Texas       2000    23123\n",
      "            2010    21123\n",
      "dtype: int64 \n",
      "\n",
      "state  California  New York  Texas\n",
      "year                              \n",
      "2000         3387      1123  23123\n",
      "2010        37253      4334  21123 \n",
      "\n",
      "year         2000   2010\n",
      "state                   \n",
      "California   3387  37253\n",
      "New York     1123   4334\n",
      "Texas       23123  21123 \n",
      "\n"
     ]
    }
   ],
   "source": [
    "print(pop, '\\n')\n",
    "print(pop.unstack(level=0), '\\n')\n",
    "print(pop.unstack(level=1), '\\n')"
   ]
  },
  {
   "cell_type": "code",
   "execution_count": 88,
   "id": "intended-apollo",
   "metadata": {
    "ExecuteTime": {
     "end_time": "2021-03-13T11:03:14.513203Z",
     "start_time": "2021-03-13T11:03:14.456595Z"
    }
   },
   "outputs": [
    {
     "name": "stdout",
     "output_type": "stream",
     "text": [
      "        state  year  population\n",
      "0  California  2000        3387\n",
      "1  California  2010       37253\n",
      "2    New York  2000        1123\n",
      "3    New York  2010        4334\n",
      "4       Texas  2000       23123\n",
      "5       Texas  2010       21123\n"
     ]
    }
   ],
   "source": [
    "pop_flat = pop.reset_index(name='population')\n",
    "print(pop_flat)"
   ]
  },
  {
   "cell_type": "code",
   "execution_count": 90,
   "id": "korean-bankruptcy",
   "metadata": {
    "ExecuteTime": {
     "end_time": "2021-03-13T11:04:30.180755Z",
     "start_time": "2021-03-13T11:04:30.153427Z"
    }
   },
   "outputs": [
    {
     "name": "stdout",
     "output_type": "stream",
     "text": [
      "                 population\n",
      "state      year            \n",
      "California 2000        3387\n",
      "           2010       37253\n",
      "New York   2000        1123\n",
      "           2010        4334\n",
      "Texas      2000       23123\n",
      "           2010       21123\n"
     ]
    }
   ],
   "source": [
    "print(pop_flat.set_index(['state', 'year']))"
   ]
  },
  {
   "cell_type": "markdown",
   "id": "corporate-encyclopedia",
   "metadata": {},
   "source": [
    "### 데이터 세트 결합 Concat, Append"
   ]
  },
  {
   "cell_type": "code",
   "execution_count": 91,
   "id": "fatal-lending",
   "metadata": {
    "ExecuteTime": {
     "end_time": "2021-03-13T11:13:10.818230Z",
     "start_time": "2021-03-13T11:13:10.788949Z"
    }
   },
   "outputs": [
    {
     "name": "stdout",
     "output_type": "stream",
     "text": [
      "1    A\n",
      "2    B\n",
      "3    C\n",
      "4    D\n",
      "5    E\n",
      "6    F\n",
      "dtype: object\n"
     ]
    }
   ],
   "source": [
    "ser1 = pd.Series(['A', 'B', 'C'], index=[1, 2, 3])\n",
    "ser2 = pd.Series(['D', 'E', 'F'], index=[4, 5, 6])\n",
    "print(pd.concat([ser1, ser2]))"
   ]
  },
  {
   "cell_type": "code",
   "execution_count": 93,
   "id": "pleased-globe",
   "metadata": {
    "ExecuteTime": {
     "end_time": "2021-03-13T11:16:04.436497Z",
     "start_time": "2021-03-13T11:16:04.358828Z"
    }
   },
   "outputs": [
    {
     "name": "stdout",
     "output_type": "stream",
     "text": [
      "     A    B    C    D\n",
      "0   A0   B0  NaN  NaN\n",
      "1   A1   B1  NaN  NaN\n",
      "0  NaN  NaN   C0   D0\n",
      "1  NaN  NaN   C1   D1 \n",
      "\n",
      "    A   B   C   D\n",
      "0  A0  B0  C0  D0\n",
      "1  A1  B1  C1  D1\n"
     ]
    }
   ],
   "source": [
    "df1 = pd.DataFrame({'A':['A0', 'A1'], 'B':['B0', 'B1']})\n",
    "df2 = pd.DataFrame({'C':['C0', 'C1'], 'D':['D0', 'D1']})\n",
    "print(pd.concat([df1, df2], axis=0), '\\n')\n",
    "print(pd.concat([df1, df2], axis=1))"
   ]
  },
  {
   "cell_type": "code",
   "execution_count": 96,
   "id": "acute-paint",
   "metadata": {
    "ExecuteTime": {
     "end_time": "2021-03-13T11:17:33.603638Z",
     "start_time": "2021-03-13T11:17:33.485025Z"
    }
   },
   "outputs": [
    {
     "ename": "ValueError",
     "evalue": "Indexes have overlapping values: Int64Index([0, 1], dtype='int64')",
     "output_type": "error",
     "traceback": [
      "\u001b[1;31m---------------------------------------------------------------------------\u001b[0m",
      "\u001b[1;31mValueError\u001b[0m                                Traceback (most recent call last)",
      "\u001b[1;32m<ipython-input-96-d5d9eb5d0b11>\u001b[0m in \u001b[0;36m<module>\u001b[1;34m\u001b[0m\n\u001b[1;32m----> 1\u001b[1;33m \u001b[0mprint\u001b[0m\u001b[1;33m(\u001b[0m\u001b[0mpd\u001b[0m\u001b[1;33m.\u001b[0m\u001b[0mconcat\u001b[0m\u001b[1;33m(\u001b[0m\u001b[1;33m[\u001b[0m\u001b[0mdf1\u001b[0m\u001b[1;33m,\u001b[0m \u001b[0mdf2\u001b[0m\u001b[1;33m]\u001b[0m\u001b[1;33m,\u001b[0m \u001b[0maxis\u001b[0m\u001b[1;33m=\u001b[0m\u001b[1;36m0\u001b[0m\u001b[1;33m,\u001b[0m \u001b[0mverify_integrity\u001b[0m\u001b[1;33m=\u001b[0m\u001b[1;32mTrue\u001b[0m\u001b[1;33m)\u001b[0m\u001b[1;33m,\u001b[0m \u001b[1;34m'\\n'\u001b[0m\u001b[1;33m)\u001b[0m\u001b[1;33m\u001b[0m\u001b[1;33m\u001b[0m\u001b[0m\n\u001b[0m",
      "\u001b[1;32mc:\\users\\user\\appdata\\local\\programs\\python\\python39\\lib\\site-packages\\pandas\\core\\reshape\\concat.py\u001b[0m in \u001b[0;36mconcat\u001b[1;34m(objs, axis, join, ignore_index, keys, levels, names, verify_integrity, sort, copy)\u001b[0m\n\u001b[0;32m    283\u001b[0m     \u001b[0mValueError\u001b[0m\u001b[1;33m:\u001b[0m \u001b[0mIndexes\u001b[0m \u001b[0mhave\u001b[0m \u001b[0moverlapping\u001b[0m \u001b[0mvalues\u001b[0m\u001b[1;33m:\u001b[0m \u001b[1;33m[\u001b[0m\u001b[1;34m'a'\u001b[0m\u001b[1;33m]\u001b[0m\u001b[1;33m\u001b[0m\u001b[1;33m\u001b[0m\u001b[0m\n\u001b[0;32m    284\u001b[0m     \"\"\"\n\u001b[1;32m--> 285\u001b[1;33m     op = _Concatenator(\n\u001b[0m\u001b[0;32m    286\u001b[0m         \u001b[0mobjs\u001b[0m\u001b[1;33m,\u001b[0m\u001b[1;33m\u001b[0m\u001b[1;33m\u001b[0m\u001b[0m\n\u001b[0;32m    287\u001b[0m         \u001b[0maxis\u001b[0m\u001b[1;33m=\u001b[0m\u001b[0maxis\u001b[0m\u001b[1;33m,\u001b[0m\u001b[1;33m\u001b[0m\u001b[1;33m\u001b[0m\u001b[0m\n",
      "\u001b[1;32mc:\\users\\user\\appdata\\local\\programs\\python\\python39\\lib\\site-packages\\pandas\\core\\reshape\\concat.py\u001b[0m in \u001b[0;36m__init__\u001b[1;34m(self, objs, axis, join, keys, levels, names, ignore_index, verify_integrity, copy, sort)\u001b[0m\n\u001b[0;32m    465\u001b[0m         \u001b[0mself\u001b[0m\u001b[1;33m.\u001b[0m\u001b[0mcopy\u001b[0m \u001b[1;33m=\u001b[0m \u001b[0mcopy\u001b[0m\u001b[1;33m\u001b[0m\u001b[1;33m\u001b[0m\u001b[0m\n\u001b[0;32m    466\u001b[0m \u001b[1;33m\u001b[0m\u001b[0m\n\u001b[1;32m--> 467\u001b[1;33m         \u001b[0mself\u001b[0m\u001b[1;33m.\u001b[0m\u001b[0mnew_axes\u001b[0m \u001b[1;33m=\u001b[0m \u001b[0mself\u001b[0m\u001b[1;33m.\u001b[0m\u001b[0m_get_new_axes\u001b[0m\u001b[1;33m(\u001b[0m\u001b[1;33m)\u001b[0m\u001b[1;33m\u001b[0m\u001b[1;33m\u001b[0m\u001b[0m\n\u001b[0m\u001b[0;32m    468\u001b[0m \u001b[1;33m\u001b[0m\u001b[0m\n\u001b[0;32m    469\u001b[0m     \u001b[1;32mdef\u001b[0m \u001b[0mget_result\u001b[0m\u001b[1;33m(\u001b[0m\u001b[0mself\u001b[0m\u001b[1;33m)\u001b[0m\u001b[1;33m:\u001b[0m\u001b[1;33m\u001b[0m\u001b[1;33m\u001b[0m\u001b[0m\n",
      "\u001b[1;32mc:\\users\\user\\appdata\\local\\programs\\python\\python39\\lib\\site-packages\\pandas\\core\\reshape\\concat.py\u001b[0m in \u001b[0;36m_get_new_axes\u001b[1;34m(self)\u001b[0m\n\u001b[0;32m    535\u001b[0m     \u001b[1;32mdef\u001b[0m \u001b[0m_get_new_axes\u001b[0m\u001b[1;33m(\u001b[0m\u001b[0mself\u001b[0m\u001b[1;33m)\u001b[0m \u001b[1;33m->\u001b[0m \u001b[0mList\u001b[0m\u001b[1;33m[\u001b[0m\u001b[0mIndex\u001b[0m\u001b[1;33m]\u001b[0m\u001b[1;33m:\u001b[0m\u001b[1;33m\u001b[0m\u001b[1;33m\u001b[0m\u001b[0m\n\u001b[0;32m    536\u001b[0m         \u001b[0mndim\u001b[0m \u001b[1;33m=\u001b[0m \u001b[0mself\u001b[0m\u001b[1;33m.\u001b[0m\u001b[0m_get_result_dim\u001b[0m\u001b[1;33m(\u001b[0m\u001b[1;33m)\u001b[0m\u001b[1;33m\u001b[0m\u001b[1;33m\u001b[0m\u001b[0m\n\u001b[1;32m--> 537\u001b[1;33m         return [\n\u001b[0m\u001b[0;32m    538\u001b[0m             \u001b[0mself\u001b[0m\u001b[1;33m.\u001b[0m\u001b[0m_get_concat_axis\u001b[0m\u001b[1;33m(\u001b[0m\u001b[1;33m)\u001b[0m \u001b[1;32mif\u001b[0m \u001b[0mi\u001b[0m \u001b[1;33m==\u001b[0m \u001b[0mself\u001b[0m\u001b[1;33m.\u001b[0m\u001b[0mbm_axis\u001b[0m \u001b[1;32melse\u001b[0m \u001b[0mself\u001b[0m\u001b[1;33m.\u001b[0m\u001b[0m_get_comb_axis\u001b[0m\u001b[1;33m(\u001b[0m\u001b[0mi\u001b[0m\u001b[1;33m)\u001b[0m\u001b[1;33m\u001b[0m\u001b[1;33m\u001b[0m\u001b[0m\n\u001b[0;32m    539\u001b[0m             \u001b[1;32mfor\u001b[0m \u001b[0mi\u001b[0m \u001b[1;32min\u001b[0m \u001b[0mrange\u001b[0m\u001b[1;33m(\u001b[0m\u001b[0mndim\u001b[0m\u001b[1;33m)\u001b[0m\u001b[1;33m\u001b[0m\u001b[1;33m\u001b[0m\u001b[0m\n",
      "\u001b[1;32mc:\\users\\user\\appdata\\local\\programs\\python\\python39\\lib\\site-packages\\pandas\\core\\reshape\\concat.py\u001b[0m in \u001b[0;36m<listcomp>\u001b[1;34m(.0)\u001b[0m\n\u001b[0;32m    536\u001b[0m         \u001b[0mndim\u001b[0m \u001b[1;33m=\u001b[0m \u001b[0mself\u001b[0m\u001b[1;33m.\u001b[0m\u001b[0m_get_result_dim\u001b[0m\u001b[1;33m(\u001b[0m\u001b[1;33m)\u001b[0m\u001b[1;33m\u001b[0m\u001b[1;33m\u001b[0m\u001b[0m\n\u001b[0;32m    537\u001b[0m         return [\n\u001b[1;32m--> 538\u001b[1;33m             \u001b[0mself\u001b[0m\u001b[1;33m.\u001b[0m\u001b[0m_get_concat_axis\u001b[0m\u001b[1;33m(\u001b[0m\u001b[1;33m)\u001b[0m \u001b[1;32mif\u001b[0m \u001b[0mi\u001b[0m \u001b[1;33m==\u001b[0m \u001b[0mself\u001b[0m\u001b[1;33m.\u001b[0m\u001b[0mbm_axis\u001b[0m \u001b[1;32melse\u001b[0m \u001b[0mself\u001b[0m\u001b[1;33m.\u001b[0m\u001b[0m_get_comb_axis\u001b[0m\u001b[1;33m(\u001b[0m\u001b[0mi\u001b[0m\u001b[1;33m)\u001b[0m\u001b[1;33m\u001b[0m\u001b[1;33m\u001b[0m\u001b[0m\n\u001b[0m\u001b[0;32m    539\u001b[0m             \u001b[1;32mfor\u001b[0m \u001b[0mi\u001b[0m \u001b[1;32min\u001b[0m \u001b[0mrange\u001b[0m\u001b[1;33m(\u001b[0m\u001b[0mndim\u001b[0m\u001b[1;33m)\u001b[0m\u001b[1;33m\u001b[0m\u001b[1;33m\u001b[0m\u001b[0m\n\u001b[0;32m    540\u001b[0m         ]\n",
      "\u001b[1;32mc:\\users\\user\\appdata\\local\\programs\\python\\python39\\lib\\site-packages\\pandas\\core\\reshape\\concat.py\u001b[0m in \u001b[0;36m_get_concat_axis\u001b[1;34m(self)\u001b[0m\n\u001b[0;32m    596\u001b[0m             )\n\u001b[0;32m    597\u001b[0m \u001b[1;33m\u001b[0m\u001b[0m\n\u001b[1;32m--> 598\u001b[1;33m         \u001b[0mself\u001b[0m\u001b[1;33m.\u001b[0m\u001b[0m_maybe_check_integrity\u001b[0m\u001b[1;33m(\u001b[0m\u001b[0mconcat_axis\u001b[0m\u001b[1;33m)\u001b[0m\u001b[1;33m\u001b[0m\u001b[1;33m\u001b[0m\u001b[0m\n\u001b[0m\u001b[0;32m    599\u001b[0m \u001b[1;33m\u001b[0m\u001b[0m\n\u001b[0;32m    600\u001b[0m         \u001b[1;32mreturn\u001b[0m \u001b[0mconcat_axis\u001b[0m\u001b[1;33m\u001b[0m\u001b[1;33m\u001b[0m\u001b[0m\n",
      "\u001b[1;32mc:\\users\\user\\appdata\\local\\programs\\python\\python39\\lib\\site-packages\\pandas\\core\\reshape\\concat.py\u001b[0m in \u001b[0;36m_maybe_check_integrity\u001b[1;34m(self, concat_index)\u001b[0m\n\u001b[0;32m    604\u001b[0m             \u001b[1;32mif\u001b[0m \u001b[1;32mnot\u001b[0m \u001b[0mconcat_index\u001b[0m\u001b[1;33m.\u001b[0m\u001b[0mis_unique\u001b[0m\u001b[1;33m:\u001b[0m\u001b[1;33m\u001b[0m\u001b[1;33m\u001b[0m\u001b[0m\n\u001b[0;32m    605\u001b[0m                 \u001b[0moverlap\u001b[0m \u001b[1;33m=\u001b[0m \u001b[0mconcat_index\u001b[0m\u001b[1;33m[\u001b[0m\u001b[0mconcat_index\u001b[0m\u001b[1;33m.\u001b[0m\u001b[0mduplicated\u001b[0m\u001b[1;33m(\u001b[0m\u001b[1;33m)\u001b[0m\u001b[1;33m]\u001b[0m\u001b[1;33m.\u001b[0m\u001b[0munique\u001b[0m\u001b[1;33m(\u001b[0m\u001b[1;33m)\u001b[0m\u001b[1;33m\u001b[0m\u001b[1;33m\u001b[0m\u001b[0m\n\u001b[1;32m--> 606\u001b[1;33m                 \u001b[1;32mraise\u001b[0m \u001b[0mValueError\u001b[0m\u001b[1;33m(\u001b[0m\u001b[1;34mf\"Indexes have overlapping values: {overlap}\"\u001b[0m\u001b[1;33m)\u001b[0m\u001b[1;33m\u001b[0m\u001b[1;33m\u001b[0m\u001b[0m\n\u001b[0m\u001b[0;32m    607\u001b[0m \u001b[1;33m\u001b[0m\u001b[0m\n\u001b[0;32m    608\u001b[0m \u001b[1;33m\u001b[0m\u001b[0m\n",
      "\u001b[1;31mValueError\u001b[0m: Indexes have overlapping values: Int64Index([0, 1], dtype='int64')"
     ]
    }
   ],
   "source": [
    "# verify_integrity=True 중복되는 정수 인덱스가 있을 경우 에러 발생\n",
    "print(pd.concat([df1, df2], axis=0, verify_integrity=True), '\\n')"
   ]
  },
  {
   "cell_type": "code",
   "execution_count": 98,
   "id": "developmental-statement",
   "metadata": {
    "ExecuteTime": {
     "end_time": "2021-03-13T11:19:13.844232Z",
     "start_time": "2021-03-13T11:19:13.826663Z"
    }
   },
   "outputs": [
    {
     "name": "stdout",
     "output_type": "stream",
     "text": [
      "Empty DataFrame\n",
      "Columns: []\n",
      "Index: [0, 1, 0, 1]\n"
     ]
    }
   ],
   "source": [
    "print(pd.concat([df1, df2], axis=0, join='inner'))  # join='inner' 교집합"
   ]
  },
  {
   "cell_type": "code",
   "execution_count": 100,
   "id": "architectural-houston",
   "metadata": {
    "ExecuteTime": {
     "end_time": "2021-03-13T11:22:55.860656Z",
     "start_time": "2021-03-13T11:22:55.834158Z"
    }
   },
   "outputs": [
    {
     "name": "stdout",
     "output_type": "stream",
     "text": [
      "     A    B    C    D\n",
      "0   A0   B0  NaN  NaN\n",
      "1   A1   B1  NaN  NaN\n",
      "0  NaN  NaN   C0   D0\n",
      "1  NaN  NaN   C1   D1\n"
     ]
    }
   ],
   "source": [
    "print(df1.append(df2))  # extend와 다르게 새로운 결합된 데이터를 만듬"
   ]
  },
  {
   "cell_type": "markdown",
   "id": "abroad-makeup",
   "metadata": {},
   "source": [
    "### Merge & Join으로 데이터 결합"
   ]
  },
  {
   "cell_type": "code",
   "execution_count": 101,
   "id": "musical-founder",
   "metadata": {
    "ExecuteTime": {
     "end_time": "2021-03-13T11:30:38.492003Z",
     "start_time": "2021-03-13T11:30:38.410270Z"
    }
   },
   "outputs": [
    {
     "name": "stdout",
     "output_type": "stream",
     "text": [
      "  emploee        group  hire_data\n",
      "0     Bob   Accounting       2008\n",
      "1    Jake  Engineering       2012\n",
      "2    Lisa  Engineering       2004\n",
      "3     Sue           HR       2014\n"
     ]
    }
   ],
   "source": [
    "df1 = pd.DataFrame({'emploee': ['Bob', 'Jake', 'Lisa', 'Sue'], 'group': ['Accounting', 'Engineering', 'Engineering', 'HR']})\n",
    "df2 = pd.DataFrame({'emploee': ['Lisa', 'Bob', 'Jake', 'Sue'], 'hire_data': [2004, 2008, 2012, 2014]})\n",
    "df3 = pd.merge(df1, df2)  # 공통분모 다른 칼럼 병합\n",
    "print(df3)"
   ]
  },
  {
   "cell_type": "code",
   "execution_count": 104,
   "id": "announced-asset",
   "metadata": {
    "ExecuteTime": {
     "end_time": "2021-03-13T11:35:05.517356Z",
     "start_time": "2021-03-13T11:35:05.490029Z"
    }
   },
   "outputs": [
    {
     "name": "stdout",
     "output_type": "stream",
     "text": [
      "  emploee        group  hire_data supervisor\n",
      "0     Bob   Accounting       2008      Carly\n",
      "1    Jake  Engineering       2012      Guido\n",
      "2    Lisa  Engineering       2004      Guido\n",
      "3     Sue           HR       2014      Steve\n"
     ]
    }
   ],
   "source": [
    "# 다대일 조인\n",
    "df4 = pd.DataFrame({'group': ['Accounting', 'Engineering', 'HR'], 'supervisor': ['Carly', 'Guido', 'Steve']})\n",
    "print(pd.merge(df3, df4))"
   ]
  },
  {
   "cell_type": "code",
   "execution_count": 105,
   "id": "mysterious-paste",
   "metadata": {
    "ExecuteTime": {
     "end_time": "2021-03-13T11:36:40.653221Z",
     "start_time": "2021-03-13T11:36:40.617031Z"
    }
   },
   "outputs": [
    {
     "name": "stdout",
     "output_type": "stream",
     "text": [
      "  emploee        group        skills\n",
      "0     Bob   Accounting          math\n",
      "1     Bob   Accounting  spreadsheets\n",
      "2    Jake  Engineering        coding\n",
      "3    Jake  Engineering         linux\n",
      "4    Lisa  Engineering        coding\n",
      "5    Lisa  Engineering         linux\n",
      "6     Sue           HR  spreadsheets\n",
      "7     Sue           HR  organization\n"
     ]
    }
   ],
   "source": [
    "# 다대다 조인\n",
    "df5 = pd.DataFrame({'group': ['Accounting', 'Accounting', 'Engineering', 'Engineering', 'HR', 'HR'], 'skills': ['math', 'spreadsheets', 'coding', 'linux', 'spreadsheets', 'organization']})\n",
    "print(pd.merge(df1, df5))"
   ]
  },
  {
   "cell_type": "markdown",
   "id": "gothic-sixth",
   "metadata": {},
   "source": [
    "### 병합 키 지정"
   ]
  },
  {
   "cell_type": "code",
   "execution_count": null,
   "id": "ready-stereo",
   "metadata": {},
   "outputs": [],
   "source": []
  }
 ],
 "metadata": {
  "kernelspec": {
   "display_name": "Python 3",
   "language": "python",
   "name": "python3"
  },
  "language_info": {
   "codemirror_mode": {
    "name": "ipython",
    "version": 3
   },
   "file_extension": ".py",
   "mimetype": "text/x-python",
   "name": "python",
   "nbconvert_exporter": "python",
   "pygments_lexer": "ipython3",
   "version": "3.9.2"
  },
  "toc": {
   "base_numbering": 1,
   "nav_menu": {},
   "number_sections": true,
   "sideBar": true,
   "skip_h1_title": false,
   "title_cell": "Table of Contents",
   "title_sidebar": "Contents",
   "toc_cell": false,
   "toc_position": {},
   "toc_section_display": true,
   "toc_window_display": false
  },
  "varInspector": {
   "cols": {
    "lenName": 16,
    "lenType": 16,
    "lenVar": 40
   },
   "kernels_config": {
    "python": {
     "delete_cmd_postfix": "",
     "delete_cmd_prefix": "del ",
     "library": "var_list.py",
     "varRefreshCmd": "print(var_dic_list())"
    },
    "r": {
     "delete_cmd_postfix": ") ",
     "delete_cmd_prefix": "rm(",
     "library": "var_list.r",
     "varRefreshCmd": "cat(var_dic_list()) "
    }
   },
   "types_to_exclude": [
    "module",
    "function",
    "builtin_function_or_method",
    "instance",
    "_Feature"
   ],
   "window_display": false
  }
 },
 "nbformat": 4,
 "nbformat_minor": 5
}
