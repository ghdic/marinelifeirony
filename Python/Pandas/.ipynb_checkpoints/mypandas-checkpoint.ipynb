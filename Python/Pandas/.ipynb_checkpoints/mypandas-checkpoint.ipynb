{
 "cells": [
  {
   "cell_type": "markdown",
   "id": "enormous-hawaii",
   "metadata": {},
   "source": [
    "# Pandas\n",
    "pandas는 numpy기반으로 만들어진 패키지로, Series와 Dataframe이라는 효율적인 자료구조를 제공한다.\n",
    "\n",
    "설치 `pip install pandas`"
   ]
  },
  {
   "cell_type": "markdown",
   "id": "promotional-confidence",
   "metadata": {},
   "source": [
    "## Pandas Series\n",
    "### Series 선언"
   ]
  },
  {
   "cell_type": "code",
   "execution_count": 5,
   "id": "removable-counter",
   "metadata": {
    "ExecuteTime": {
     "end_time": "2021-03-12T16:18:02.662506Z",
     "start_time": "2021-03-12T16:18:02.614686Z"
    },
    "scrolled": false
   },
   "outputs": [
    {
     "name": "stdout",
     "output_type": "stream",
     "text": [
      "0    0.25\n",
      "1    0.50\n",
      "2    0.75\n",
      "3    1.00\n",
      "dtype: float64\n",
      "[0.25 0.5  0.75 1.  ]\n",
      "RangeIndex(start=0, stop=4, step=1)\n",
      "a    0.25\n",
      "b    0.50\n",
      "c    0.75\n",
      "d    1.00\n",
      "dtype: float64\n",
      "California    38332521\n",
      "Texas         26448193\n",
      "New York      19651127\n",
      "Florida       19552860\n",
      "dtype: int64\n",
      "38332521\n",
      "California    38332521\n",
      "Texas         26448193\n",
      "New York      19651127\n",
      "dtype: int64\n"
     ]
    }
   ],
   "source": [
    "import pandas as pd\n",
    "\n",
    "data = pd.Series([0.25, 0.5, 0.75, 1.0])\n",
    "print(data)\n",
    "print(data.values)\n",
    "print(data.index)\n",
    "\n",
    "data = pd.Series([0.25, 0.5, 0.75, 1.0], index=['a', 'b', 'c', 'd'])  # 인덱스 지정\n",
    "print(data)\n",
    "\n",
    "population_dict = {'California': 38332521, 'Texas': 26448193, 'New York': 19651127, 'Florida': 19552860}\n",
    "population = pd.Series(population_dict)  # 딕셔너리 형태로도 가능\n",
    "print(population)\n",
    "print(population['California'])\n",
    "print(population['California':'New York'])"
   ]
  },
  {
   "cell_type": "markdown",
   "id": "sunrise-listing",
   "metadata": {},
   "source": [
    "### Series 데이터 선택"
   ]
  },
  {
   "cell_type": "code",
   "execution_count": 29,
   "id": "opponent-pursuit",
   "metadata": {
    "ExecuteTime": {
     "end_time": "2021-03-12T17:36:11.233791Z",
     "start_time": "2021-03-12T17:36:11.212320Z"
    }
   },
   "outputs": [
    {
     "name": "stdout",
     "output_type": "stream",
     "text": [
      "0.5\n",
      "a    0.25\n",
      "b    0.50\n",
      "c    0.75\n",
      "d    1.00\n",
      "e    1.25\n",
      "dtype: float64\n"
     ]
    }
   ],
   "source": [
    "data = pd.Series([0.25, 0.5, 0.75, 1.0], index=['a', 'b', 'c', 'd'])\n",
    "print(data['b'])  # 딕셔너리처럼 키:value 매핑\n",
    "data['e'] = 1.25  # 새로운 데이터 추가 가능\n",
    "print(data)"
   ]
  },
  {
   "cell_type": "code",
   "execution_count": 30,
   "id": "another-looking",
   "metadata": {
    "ExecuteTime": {
     "end_time": "2021-03-12T17:37:45.917258Z",
     "start_time": "2021-03-12T17:37:45.861112Z"
    }
   },
   "outputs": [
    {
     "name": "stdout",
     "output_type": "stream",
     "text": [
      "a    0.25\n",
      "b    0.50\n",
      "c    0.75\n",
      "dtype: float64\n",
      "a    0.25\n",
      "b    0.50\n",
      "dtype: float64\n",
      "b    0.50\n",
      "c    0.75\n",
      "dtype: float64\n",
      "a    0.25\n",
      "e    1.25\n",
      "dtype: float64\n"
     ]
    }
   ],
   "source": [
    "print(data['a':'c']) # 명시적 인덱스로 슬라이싱\n",
    "print(data[0:2])  # 암묵적 정수 인덱스로 슬라이싱\n",
    "print(data[(data > 0.3) & (data < 0.8)])  # 마스킹\n",
    "print(data[['a', 'e']])  # 팬시 인덱싱"
   ]
  },
  {
   "cell_type": "code",
   "execution_count": 31,
   "id": "undefined-stick",
   "metadata": {
    "ExecuteTime": {
     "end_time": "2021-03-12T17:40:17.817937Z",
     "start_time": "2021-03-12T17:40:17.793538Z"
    }
   },
   "outputs": [
    {
     "name": "stdout",
     "output_type": "stream",
     "text": [
      "a\n",
      "3    b\n",
      "5    c\n",
      "dtype: object\n"
     ]
    }
   ],
   "source": [
    "data = pd.Series(['a', 'b', 'c'], index=[1, 3, 5])  # 인덱스를 정수로 사용하는 경우 슬라이싱에 혼동\n",
    "print(data[1])  # a가 나오는게 맞을까 b가 나오는게 맞을까?(명시적 인덱스 사용)\n",
    "print(data[1:3])  # 슬라이싱할때는 암묵적 인덱스 사용\n",
    "# 결과적으론 혼용하게 되어 혼동이 올 수 있다."
   ]
  },
  {
   "cell_type": "code",
   "execution_count": 32,
   "id": "hollywood-joyce",
   "metadata": {
    "ExecuteTime": {
     "end_time": "2021-03-13T00:19:50.467112Z",
     "start_time": "2021-03-13T00:19:50.366005Z"
    }
   },
   "outputs": [
    {
     "name": "stdout",
     "output_type": "stream",
     "text": [
      "a\n",
      "1    a\n",
      "3    b\n",
      "dtype: object\n",
      "b\n",
      "3    b\n",
      "5    c\n",
      "dtype: object\n"
     ]
    }
   ],
   "source": [
    "print(data.loc[1])\n",
    "print(data.loc[1:3])  # loc 명시적 인덱스 참조\n",
    "print(data.iloc[1])\n",
    "print(data.iloc[1:3])  # iloc 암묵적 인덱스 참조"
   ]
  },
  {
   "cell_type": "markdown",
   "id": "tutorial-hopkins",
   "metadata": {},
   "source": [
    "## Pandas DataFrame"
   ]
  },
  {
   "cell_type": "code",
   "execution_count": 16,
   "id": "major-friendship",
   "metadata": {
    "ExecuteTime": {
     "end_time": "2021-03-12T17:14:23.737935Z",
     "start_time": "2021-03-12T17:14:23.695965Z"
    }
   },
   "outputs": [
    {
     "name": "stdout",
     "output_type": "stream",
     "text": [
      "            population    area\n",
      "California    38332521  423967\n",
      "Texas         26448193  695662\n",
      "New York      19651127  141297\n",
      "Florida       19552860  170312\n",
      "Index(['California', 'Texas', 'New York', 'Florida'], dtype='object')\n",
      "Index(['population', 'area'], dtype='object')\n",
      "California    423967\n",
      "Texas         695662\n",
      "New York      141297\n",
      "Florida       170312\n",
      "Name: area, dtype: int64\n",
      "            population\n",
      "California    38332521\n",
      "Texas         26448193\n",
      "New York      19651127\n",
      "Florida       19552860\n",
      "                   0       1\n",
      "California  38332521  423967\n",
      "Texas       26448193  695662\n",
      "New York    19651127  141297\n",
      "Florida     19552860  170312\n"
     ]
    }
   ],
   "source": [
    "population_dict = {'California': 38332521, 'Texas': 26448193, 'New York': 19651127, 'Florida': 19552860}\n",
    "population = pd.Series(population_dict)\n",
    "area_dict = {'California': 423967, 'Texas': 695662, 'New York': 141297, 'Florida': 170312}\n",
    "area = pd.Series(area_dict)\n",
    "\n",
    "states = pd.DataFrame({'population':population, 'area':area})\n",
    "print(states)\n",
    "print(states.index)\n",
    "print(states.columns)\n",
    "print(states['area'])\n",
    "states = pd.DataFrame(population, columns=['population'])  # 또다른 선언법, 위에 방법이 더 나은듯함\n",
    "print(states)"
   ]
  },
  {
   "cell_type": "code",
   "execution_count": 17,
   "id": "neutral-peeing",
   "metadata": {
    "ExecuteTime": {
     "end_time": "2021-03-12T17:17:00.800259Z",
     "start_time": "2021-03-12T17:17:00.783668Z"
    }
   },
   "outputs": [
    {
     "name": "stdout",
     "output_type": "stream",
     "text": [
      "     a  b    c\n",
      "0  1.0  2  NaN\n",
      "1  NaN  3  4.0\n"
     ]
    }
   ],
   "source": [
    "data = pd.DataFrame([{'a': 1, 'b': 2}, {'b': 3, 'c': 4}])\n",
    "print(data)  # 누락된 자리를 Nan(not a number)로 채운다"
   ]
  },
  {
   "cell_type": "code",
   "execution_count": 21,
   "id": "rapid-ghana",
   "metadata": {
    "ExecuteTime": {
     "end_time": "2021-03-12T17:24:06.692245Z",
     "start_time": "2021-03-12T17:24:06.653236Z"
    }
   },
   "outputs": [
    {
     "name": "stdout",
     "output_type": "stream",
     "text": [
      "        foo       bar\n",
      "a  0.638455  0.445583\n",
      "b  0.870392  0.007108\n",
      "c  0.948372  0.835707\n",
      "   A    B\n",
      "0  0  0.0\n",
      "1  0  0.0\n",
      "2  0  0.0\n"
     ]
    }
   ],
   "source": [
    "# 리스트 형태의 데이터를 데이터프레임화 할때 사용\n",
    "data = pd.DataFrame(np.random.rand(3, 2), columns=['foo', 'bar'], index=['a', 'b', 'c'])\n",
    "print(data)\n",
    "\n",
    "a = np.zeros(3, dtype=[('A', 'i8'), ('B', 'f8')])  # 이런식으로 미리 데이터타입 정해둘수 있음\n",
    "data = pd.DataFrame(a)\n",
    "print(data)"
   ]
  },
  {
   "cell_type": "markdown",
   "id": "macro-gentleman",
   "metadata": {},
   "source": [
    "### Pandas Index 객체\n",
    "객체 데이터를 참조하고 수정하게 해주는 명시적 인덱스, 불변 배열이며, 중복된값을 포함할 수 있다."
   ]
  },
  {
   "cell_type": "code",
   "execution_count": 22,
   "id": "opened-retrieval",
   "metadata": {
    "ExecuteTime": {
     "end_time": "2021-03-12T17:26:01.558363Z",
     "start_time": "2021-03-12T17:26:01.539820Z"
    }
   },
   "outputs": [
    {
     "name": "stdout",
     "output_type": "stream",
     "text": [
      "Int64Index([2, 3, 5, 7, 11], dtype='int64')\n",
      "3\n",
      "Int64Index([2, 5, 11], dtype='int64')\n",
      "5 (5,) 1 int64\n"
     ]
    }
   ],
   "source": [
    "index = pd.Index([2, 3, 5, 7, 11])\n",
    "print(index)\n",
    "print(index[1])\n",
    "print(index[::2])\n",
    "print(index.size, index.shape, index.ndim, index.dtype)"
   ]
  },
  {
   "cell_type": "code",
   "execution_count": 23,
   "id": "sharp-saying",
   "metadata": {
    "ExecuteTime": {
     "end_time": "2021-03-12T17:27:07.593574Z",
     "start_time": "2021-03-12T17:27:07.559417Z"
    }
   },
   "outputs": [
    {
     "ename": "TypeError",
     "evalue": "Index does not support mutable operations",
     "output_type": "error",
     "traceback": [
      "\u001b[1;31m---------------------------------------------------------------------------\u001b[0m",
      "\u001b[1;31mTypeError\u001b[0m                                 Traceback (most recent call last)",
      "\u001b[1;32m<ipython-input-23-13bd17889c12>\u001b[0m in \u001b[0;36m<module>\u001b[1;34m\u001b[0m\n\u001b[1;32m----> 1\u001b[1;33m \u001b[0mindex\u001b[0m\u001b[1;33m[\u001b[0m\u001b[1;36m1\u001b[0m\u001b[1;33m]\u001b[0m \u001b[1;33m=\u001b[0m \u001b[1;36m10\u001b[0m  \u001b[1;31m# 수정불가\u001b[0m\u001b[1;33m\u001b[0m\u001b[1;33m\u001b[0m\u001b[0m\n\u001b[0m",
      "\u001b[1;32mc:\\users\\user\\appdata\\local\\programs\\python\\python39\\lib\\site-packages\\pandas\\core\\indexes\\base.py\u001b[0m in \u001b[0;36m__setitem__\u001b[1;34m(self, key, value)\u001b[0m\n\u001b[0;32m   4275\u001b[0m     \u001b[1;33m@\u001b[0m\u001b[0mfinal\u001b[0m\u001b[1;33m\u001b[0m\u001b[1;33m\u001b[0m\u001b[0m\n\u001b[0;32m   4276\u001b[0m     \u001b[1;32mdef\u001b[0m \u001b[0m__setitem__\u001b[0m\u001b[1;33m(\u001b[0m\u001b[0mself\u001b[0m\u001b[1;33m,\u001b[0m \u001b[0mkey\u001b[0m\u001b[1;33m,\u001b[0m \u001b[0mvalue\u001b[0m\u001b[1;33m)\u001b[0m\u001b[1;33m:\u001b[0m\u001b[1;33m\u001b[0m\u001b[1;33m\u001b[0m\u001b[0m\n\u001b[1;32m-> 4277\u001b[1;33m         \u001b[1;32mraise\u001b[0m \u001b[0mTypeError\u001b[0m\u001b[1;33m(\u001b[0m\u001b[1;34m\"Index does not support mutable operations\"\u001b[0m\u001b[1;33m)\u001b[0m\u001b[1;33m\u001b[0m\u001b[1;33m\u001b[0m\u001b[0m\n\u001b[0m\u001b[0;32m   4278\u001b[0m \u001b[1;33m\u001b[0m\u001b[0m\n\u001b[0;32m   4279\u001b[0m     \u001b[1;32mdef\u001b[0m \u001b[0m__getitem__\u001b[0m\u001b[1;33m(\u001b[0m\u001b[0mself\u001b[0m\u001b[1;33m,\u001b[0m \u001b[0mkey\u001b[0m\u001b[1;33m)\u001b[0m\u001b[1;33m:\u001b[0m\u001b[1;33m\u001b[0m\u001b[1;33m\u001b[0m\u001b[0m\n",
      "\u001b[1;31mTypeError\u001b[0m: Index does not support mutable operations"
     ]
    }
   ],
   "source": [
    "index[1] = 10  # 수정불가"
   ]
  },
  {
   "cell_type": "code",
   "execution_count": 27,
   "id": "headed-liechtenstein",
   "metadata": {
    "ExecuteTime": {
     "end_time": "2021-03-12T17:32:00.225510Z",
     "start_time": "2021-03-12T17:32:00.204041Z"
    }
   },
   "outputs": [
    {
     "name": "stdout",
     "output_type": "stream",
     "text": [
      "Int64Index([3, 5, 7], dtype='int64')\n",
      "Int64Index([1, 2, 3, 5, 7, 9, 11], dtype='int64')\n",
      "Int64Index([1, 2, 9, 11], dtype='int64')\n"
     ]
    }
   ],
   "source": [
    "indA = pd.Index([1, 3, 5, 7, 9])\n",
    "indB = pd.Index([2, 3, 5, 7, 11])\n",
    "# print(indA & indB)  # 교집합\n",
    "# print(indA | indB)  # 합집합\n",
    "# print(indA ^ indB)  # 여집합\n",
    "print(pd.Index.intersection(indA, indB))  # 교집합\n",
    "print(pd.Index.union(indA, indB))  # 합집합\n",
    "print(pd.Index.symmetric_difference(indA, indB))  # 여집합"
   ]
  },
  {
   "cell_type": "markdown",
   "id": "prescription-alert",
   "metadata": {},
   "source": [
    "### DataFrame 데이터 선택"
   ]
  },
  {
   "cell_type": "code",
   "execution_count": 34,
   "id": "collectible-withdrawal",
   "metadata": {
    "ExecuteTime": {
     "end_time": "2021-03-13T00:31:43.202702Z",
     "start_time": "2021-03-13T00:31:43.169789Z"
    }
   },
   "outputs": [
    {
     "name": "stdout",
     "output_type": "stream",
     "text": [
      "California    423967\n",
      "Texas         695662\n",
      "New York      141297\n",
      "Florida       170312\n",
      "Name: area, dtype: int64\n",
      "California    423967\n",
      "Texas         695662\n",
      "New York      141297\n",
      "Florida       170312\n",
      "Name: area, dtype: int64\n",
      "True\n"
     ]
    }
   ],
   "source": [
    "population_dict = {'California': 38332521, 'Texas': 26448193, 'New York': 19651127, 'Florida': 19552860}\n",
    "population = pd.Series(population_dict)\n",
    "area_dict = {'California': 423967, 'Texas': 695662, 'New York': 141297, 'Florida': 170312}\n",
    "area = pd.Series(area_dict)\n",
    "\n",
    "data = pd.DataFrame({'population':population, 'area':area})\n",
    "print(data['area'])  # 딕셔너리 스타일 인덱싱 ok\n",
    "print(data.area)  # 열이름을 이용해 속성으로 접근도 ok\n",
    "print(data['area'] is data.area)  # 동일한 데이터임, 속성명이 이미 정의된 메소드와 겹칠경우 False(조심)"
   ]
  },
  {
   "cell_type": "code",
   "execution_count": 36,
   "id": "comic-finger",
   "metadata": {
    "ExecuteTime": {
     "end_time": "2021-03-13T00:32:28.331286Z",
     "start_time": "2021-03-13T00:32:28.306354Z"
    }
   },
   "outputs": [
    {
     "name": "stdout",
     "output_type": "stream",
     "text": [
      "[[3.83325210e+07 4.23967000e+05 9.04139261e+01]\n",
      " [2.64481930e+07 6.95662000e+05 3.80187404e+01]\n",
      " [1.96511270e+07 1.41297000e+05 1.39076746e+02]\n",
      " [1.95528600e+07 1.70312000e+05 1.14806121e+02]]\n",
      "California    423967\n",
      "Texas         695662\n",
      "New York      141297\n",
      "Florida       170312\n",
      "Name: area, dtype: int64\n",
      "            population    area\n",
      "California    38332521  423967\n",
      "Texas         26448193  695662\n",
      "New York      19651127  141297\n"
     ]
    }
   ],
   "source": [
    "data['destiny'] = data['population'] / data['area']  # 새 열을 할당\n",
    "print(data.values)  # 해시 데이터 기반 원시 데이터 배열 확인가능\n",
    "\n",
    "print(data['area'])  # 열 접근\n",
    "print(data.iloc[:3, :2])  # 암묵적 데이터 슬라이싱"
   ]
  },
  {
   "cell_type": "code",
   "execution_count": 38,
   "id": "hundred-account",
   "metadata": {
    "ExecuteTime": {
     "end_time": "2021-03-13T00:34:21.806065Z",
     "start_time": "2021-03-13T00:34:21.784109Z"
    }
   },
   "outputs": [
    {
     "name": "stdout",
     "output_type": "stream",
     "text": [
      "          population     destiny\n",
      "New York    19651127  139.076746\n",
      "Florida     19552860  114.806121\n",
      "area       423967.000000\n",
      "destiny        90.413926\n",
      "Name: California, dtype: float64\n"
     ]
    }
   ],
   "source": [
    "print(data.loc[data.destiny > 100, ['population', 'destiny']])  # 다양한 표현법 결합 가능\n",
    "print(data.iloc[0, [1,2]])"
   ]
  },
  {
   "cell_type": "markdown",
   "id": "acute-thumbnail",
   "metadata": {},
   "source": [
    "### 유니버설 함수"
   ]
  },
  {
   "cell_type": "code",
   "execution_count": 2,
   "id": "distributed-memorabilia",
   "metadata": {
    "ExecuteTime": {
     "end_time": "2021-03-15T11:47:05.141228Z",
     "start_time": "2021-03-15T11:47:04.201818Z"
    }
   },
   "outputs": [
    {
     "name": "stdout",
     "output_type": "stream",
     "text": [
      "0    6\n",
      "1    3\n",
      "2    7\n",
      "3    4\n",
      "dtype: int32\n",
      "   A  B  C  D\n",
      "0  6  9  2  6\n",
      "1  7  4  3  7\n",
      "2  7  2  5  4\n",
      "          A             B         C             D\n",
      "0 -1.000000  7.071068e-01  1.000000 -1.000000e+00\n",
      "1 -0.707107  1.224647e-16  0.707107 -7.071068e-01\n",
      "2 -0.707107  1.000000e+00 -0.707107  1.224647e-16\n"
     ]
    }
   ],
   "source": [
    "import pandas as pd\n",
    "import numpy as np\n",
    "\n",
    "rng = np.random.RandomState(42)\n",
    "ser = pd.Series(rng.randint(0, 10, 4))\n",
    "print(ser)\n",
    "df = pd.DataFrame(rng.randint(0, 10, (3, 4)), columns=['A', 'B', 'C', 'D'])\n",
    "print(df)\n",
    "\n",
    "print(np.sin(df * np.pi / 4))  # 판다스는 넘파이 기반이라 넘파이와 함께 작업될 수 있음"
   ]
  },
  {
   "cell_type": "code",
   "execution_count": 42,
   "id": "alone-science",
   "metadata": {
    "ExecuteTime": {
     "end_time": "2021-03-13T01:02:08.504468Z",
     "start_time": "2021-03-13T01:02:08.447620Z"
    }
   },
   "outputs": [
    {
     "name": "stdout",
     "output_type": "stream",
     "text": [
      "    A   B\n",
      "0  19   2\n",
      "1   4  18\n",
      "   B  A  C\n",
      "0  6  4  8\n",
      "1  6  1  3\n",
      "2  8  1  9\n",
      "      A     B   C\n",
      "0  23.0   8.0 NaN\n",
      "1   5.0  24.0 NaN\n",
      "2   NaN   NaN NaN\n",
      "       A      B      C\n",
      "0  23.00   8.00  18.75\n",
      "1   5.00  24.00  13.75\n",
      "2  11.75  18.75  19.75\n"
     ]
    }
   ],
   "source": [
    "a = pd.DataFrame(rng.randint(0, 20, (2, 2)), columns=list('AB'))\n",
    "b = pd.DataFrame(rng.randint(0, 10, (3, 3)), columns=list('BAC'))\n",
    "print(a)\n",
    "print(b)\n",
    "print(a + b)  # 자동으로 인덱스 정렬, 합집합(비는 결과는 Nan처리)\n",
    "\n",
    "fill = a.stack().mean()  # 평균\n",
    "print(a.add(b, fill_value=fill))  # 빈값을 원하는 값으로 넣어주는것도 가능"
   ]
  },
  {
   "cell_type": "code",
   "execution_count": 46,
   "id": "mechanical-newport",
   "metadata": {
    "ExecuteTime": {
     "end_time": "2021-03-13T01:06:52.131602Z",
     "start_time": "2021-03-13T01:06:52.099689Z"
    }
   },
   "outputs": [
    {
     "name": "stdout",
     "output_type": "stream",
     "text": [
      "   Q  R  S  T\n",
      "0  7  6  8  7\n",
      "1  4  1  4  7\n",
      "2  9  8  8  0\n",
      "   Q  R  S  T\n",
      "0  0  0  0  0\n",
      "1 -3 -5 -4  0\n",
      "2  2  2  0 -7\n"
     ]
    }
   ],
   "source": [
    "a = rng.randint(10, size=(3, 4))\n",
    "a = pd.DataFrame(a, columns=list('QRST'))\n",
    "print(a)\n",
    "print(a-a.iloc[0])  # 데이터프레임과 시리즈간의 연산, 기본적으로 행방향으로 적용"
   ]
  },
  {
   "cell_type": "code",
   "execution_count": 49,
   "id": "adaptive-procurement",
   "metadata": {
    "ExecuteTime": {
     "end_time": "2021-03-13T01:07:29.564107Z",
     "start_time": "2021-03-13T01:07:29.553136Z"
    }
   },
   "outputs": [
    {
     "name": "stdout",
     "output_type": "stream",
     "text": [
      "   Q  R  S  T\n",
      "0  1  0  2  1\n",
      "1  3  0  3  6\n",
      "2  1  0  0 -8\n"
     ]
    }
   ],
   "source": [
    "print(a.subtract(a['R'], axis=0))  # axis로 명시하여 열방향도 ok"
   ]
  },
  {
   "cell_type": "code",
   "execution_count": 50,
   "id": "rotary-private",
   "metadata": {
    "ExecuteTime": {
     "end_time": "2021-03-13T01:10:03.640269Z",
     "start_time": "2021-03-13T01:10:03.615340Z"
    }
   },
   "outputs": [
    {
     "name": "stdout",
     "output_type": "stream",
     "text": [
      "Q    7\n",
      "S    8\n",
      "Name: 0, dtype: int32\n",
      "     Q   R    S   T\n",
      "0  0.0 NaN  0.0 NaN\n",
      "1 -3.0 NaN -4.0 NaN\n",
      "2  2.0 NaN  0.0 NaN\n"
     ]
    }
   ],
   "source": [
    "halfrow = a.iloc[0, ::2]\n",
    "print(halfrow)\n",
    "print(a - halfrow)  # 브로드캐스팅 & 짝이 안맞는건 연산못하니 Nan처리"
   ]
  },
  {
   "cell_type": "markdown",
   "id": "original-campus",
   "metadata": {},
   "source": [
    "### 누락된 데이터 처리"
   ]
  },
  {
   "cell_type": "code",
   "execution_count": 51,
   "id": "assured-beads",
   "metadata": {
    "ExecuteTime": {
     "end_time": "2021-03-13T03:01:41.056637Z",
     "start_time": "2021-03-13T03:01:41.021695Z"
    }
   },
   "outputs": [
    {
     "name": "stdout",
     "output_type": "stream",
     "text": [
      "[1 None 3 4]\n"
     ]
    }
   ],
   "source": [
    "data = np.array([1, None, 3, 4])  # None은 파이썬 객체\n",
    "print(data)  # 파이썬 객체는 일반적으로 많은 오버헤드가 발생해 느림"
   ]
  },
  {
   "cell_type": "code",
   "execution_count": 54,
   "id": "accomplished-consequence",
   "metadata": {
    "ExecuteTime": {
     "end_time": "2021-03-13T03:03:48.115596Z",
     "start_time": "2021-03-13T03:03:48.095648Z"
    }
   },
   "outputs": [
    {
     "name": "stdout",
     "output_type": "stream",
     "text": [
      "float64\n",
      "nan\n",
      "nan\n",
      "nan nan nan\n",
      "8.0 1.0 4.0\n"
     ]
    }
   ],
   "source": [
    "data = np.array([1, np.nan, 3, 4])  # Not a Number 표준 IEEE 부동소수점표기(특수 부동 소수점 값)\n",
    "print(data.dtype)\n",
    "print(1 + np.nan)\n",
    "print(0 * np.nan)\n",
    "print(data.sum(), data.min(), data.max())\n",
    "print(np.nansum(data), np.nanmin(data), np.nanmax(data))"
   ]
  },
  {
   "cell_type": "code",
   "execution_count": 57,
   "id": "quick-belly",
   "metadata": {
    "ExecuteTime": {
     "end_time": "2021-03-13T03:05:13.724108Z",
     "start_time": "2021-03-13T03:05:13.707152Z"
    }
   },
   "outputs": [
    {
     "name": "stdout",
     "output_type": "stream",
     "text": [
      "0    1.0\n",
      "1    NaN\n",
      "2    2.0\n",
      "3    NaN\n",
      "dtype: float64\n"
     ]
    }
   ],
   "source": [
    "data = pd.Series([1, np.nan, 2, None]) # 판다스에서는 숫자의 경우 None도 Nan처리\n",
    "print(data)"
   ]
  },
  {
   "cell_type": "code",
   "execution_count": 59,
   "id": "senior-distribution",
   "metadata": {
    "ExecuteTime": {
     "end_time": "2021-03-13T03:07:02.545995Z",
     "start_time": "2021-03-13T03:07:02.527007Z"
    }
   },
   "outputs": [
    {
     "name": "stdout",
     "output_type": "stream",
     "text": [
      "0       a\n",
      "1     NaN\n",
      "2       b\n",
      "3    None\n",
      "dtype: object\n"
     ]
    }
   ],
   "source": [
    "data = pd.Series(['a', np.nan, 'b', None])\n",
    "print(data)  # dtype이 object, Boolean인 경우 None 또는 np.nan이고, float, integer의 경우 np.nan"
   ]
  },
  {
   "cell_type": "code",
   "execution_count": 60,
   "id": "lasting-jefferson",
   "metadata": {
    "ExecuteTime": {
     "end_time": "2021-03-13T03:07:50.792719Z",
     "start_time": "2021-03-13T03:07:50.780773Z"
    }
   },
   "outputs": [
    {
     "name": "stdout",
     "output_type": "stream",
     "text": [
      "0    False\n",
      "1     True\n",
      "2    False\n",
      "3     True\n",
      "dtype: bool\n"
     ]
    }
   ],
   "source": [
    "data = pd.Series([1, np.nan, 'hello', None])\n",
    "print(data.isnullll())  # None, Nan 다 True 반환"
   ]
  },
  {
   "cell_type": "code",
   "execution_count": 61,
   "id": "skilled-green",
   "metadata": {
    "ExecuteTime": {
     "end_time": "2021-03-13T03:08:51.931792Z",
     "start_time": "2021-03-13T03:08:51.912844Z"
    }
   },
   "outputs": [
    {
     "name": "stdout",
     "output_type": "stream",
     "text": [
      "0     True\n",
      "1    False\n",
      "2     True\n",
      "3    False\n",
      "dtype: bool\n",
      "0        1\n",
      "2    hello\n",
      "dtype: object\n",
      "0        1\n",
      "1     Nope\n",
      "2    hello\n",
      "3     Nope\n",
      "dtype: object\n"
     ]
    }
   ],
   "source": [
    "print(data.notnull())  # 빈값이 아닌것 boolean\n",
    "print(data.dropna())  # 빈값 드랍\n",
    "print(data.fillna('Nope'))  # 빈값 채우기"
   ]
  },
  {
   "cell_type": "code",
   "execution_count": 65,
   "id": "considered-booking",
   "metadata": {
    "ExecuteTime": {
     "end_time": "2021-03-13T03:12:31.026617Z",
     "start_time": "2021-03-13T03:12:30.991709Z"
    }
   },
   "outputs": [
    {
     "name": "stdout",
     "output_type": "stream",
     "text": [
      "     0    1  2\n",
      "0  1.0  NaN  2\n",
      "1  2.0  3.0  5\n",
      "2  NaN  4.0  6 \n",
      "\n",
      "     0    1  2\n",
      "1  2.0  3.0  5 \n",
      "\n",
      "   2\n",
      "0  2\n",
      "1  5\n",
      "2  6\n"
     ]
    }
   ],
   "source": [
    "df = pd.DataFrame([[1, np.nan, 2],\n",
    "                  [2, 3, 5],\n",
    "                  [np.nan, 4, 6]])  # 2차원에서 dropna 작동\n",
    "print(df, '\\n')\n",
    "print(df.dropna(), '\\n')  # 행 기준 제거\n",
    "print(df.dropna(axis='columns'))  # 열기준 제거"
   ]
  },
  {
   "cell_type": "code",
   "execution_count": 68,
   "id": "unauthorized-keeping",
   "metadata": {
    "ExecuteTime": {
     "end_time": "2021-03-13T03:15:23.805599Z",
     "start_time": "2021-03-13T03:15:23.778675Z"
    }
   },
   "outputs": [
    {
     "name": "stdout",
     "output_type": "stream",
     "text": [
      "     0    1  2   3\n",
      "0  1.0  NaN  2 NaN\n",
      "1  2.0  3.0  5 NaN\n",
      "2  NaN  4.0  6 NaN \n",
      "\n",
      "     0    1  2\n",
      "0  1.0  NaN  2\n",
      "1  2.0  3.0  5\n",
      "2  NaN  4.0  6 \n",
      "\n",
      "   2\n",
      "0  2\n",
      "1  5\n",
      "2  6\n"
     ]
    }
   ],
   "source": [
    "df[3] = np.nan\n",
    "print(df, '\\n')\n",
    "print(df.dropna(axis=1, how='all'), '\\n')  # how= all->전부 Nan인 경우, any-> 하나라도 Nan인 경우\n",
    "print(df.dropna(axis=1, thresh=3))  # thresh=최소 x개의 nan이 아닌 값이있는 axis"
   ]
  },
  {
   "cell_type": "code",
   "execution_count": 69,
   "id": "spare-desktop",
   "metadata": {
    "ExecuteTime": {
     "end_time": "2021-03-13T03:18:03.417161Z",
     "start_time": "2021-03-13T03:18:03.384246Z"
    }
   },
   "outputs": [
    {
     "name": "stdout",
     "output_type": "stream",
     "text": [
      "a    1.0\n",
      "b    NaN\n",
      "c    2.0\n",
      "d    NaN\n",
      "e    3.0\n",
      "dtype: float64 \n",
      "\n",
      "a    1.0\n",
      "b    0.0\n",
      "c    2.0\n",
      "d    0.0\n",
      "e    3.0\n",
      "dtype: float64 \n",
      "\n",
      "a    1.0\n",
      "b    1.0\n",
      "c    2.0\n",
      "d    2.0\n",
      "e    3.0\n",
      "dtype: float64\n",
      "a    1.0\n",
      "b    2.0\n",
      "c    2.0\n",
      "d    3.0\n",
      "e    3.0\n",
      "dtype: float64\n"
     ]
    }
   ],
   "source": [
    "data = pd.Series([1, np.nan, 2, None, 3], index=list('abcde'))\n",
    "print(data, '\\n')\n",
    "print(data.fillna(0), '\\n')\n",
    "print(data.fillna(method='ffill'))  # 이전 값으로 채우기\n",
    "print(data.fillna(method='bfill'))  # 다음에 오는 값으로 채우기"
   ]
  },
  {
   "cell_type": "markdown",
   "id": "crucial-catalyst",
   "metadata": {},
   "source": [
    "### 계층적 인덱싱\n",
    "단일 인덱스 내에 여러 인덱스 레벨을 포함하는 계층적 인덱싱(다중 인덱싱)으로 다차원 데이터를 1차원 Series, 2차원 Dataframe 객체로 간결하게 표현"
   ]
  },
  {
   "cell_type": "code",
   "execution_count": 73,
   "id": "considerable-alignment",
   "metadata": {
    "ExecuteTime": {
     "end_time": "2021-03-13T04:17:33.837574Z",
     "start_time": "2021-03-13T04:17:33.824885Z"
    }
   },
   "outputs": [
    {
     "name": "stdout",
     "output_type": "stream",
     "text": [
      "MultiIndex([('California', 2000),\n",
      "            ('California', 2010),\n",
      "            (  'New York', 2000),\n",
      "            (  'New York', 2010),\n",
      "            (     'Texas', 2000),\n",
      "            (     'Texas', 2010)],\n",
      "           )\n"
     ]
    }
   ],
   "source": [
    "index = [('California', 2000), ('California', 2010), ('New York', 2000), ('New York', 2010), ('Texas', 2000), ('Texas', 2010)]\n",
    "\n",
    "index = pd.MultiIndex.from_tuples(index)\n",
    "print(index)  # level=[['California', 'New York', 'Texas'], [2000,2010]], labels=[[0, 0, 1, 1, 2, 2,], [0, 1, 0, 1, 0, 1]]"
   ]
  },
  {
   "cell_type": "code",
   "execution_count": 74,
   "id": "least-grounds",
   "metadata": {
    "ExecuteTime": {
     "end_time": "2021-03-13T04:17:36.150906Z",
     "start_time": "2021-03-13T04:17:36.141143Z"
    }
   },
   "outputs": [
    {
     "name": "stdout",
     "output_type": "stream",
     "text": [
      "California  2000     3387\n",
      "            2010    37253\n",
      "New York    2000     1123\n",
      "            2010     4334\n",
      "Texas       2000    23123\n",
      "            2010    21123\n",
      "dtype: int64\n"
     ]
    }
   ],
   "source": [
    "population = [3387, 37253, 1123, 4334, 23123, 21123]\n",
    "pop = pd.Series(population, index=index)\n",
    "print(pop)"
   ]
  },
  {
   "cell_type": "code",
   "execution_count": 75,
   "id": "commercial-class",
   "metadata": {
    "ExecuteTime": {
     "end_time": "2021-03-13T04:17:52.609346Z",
     "start_time": "2021-03-13T04:17:52.596659Z"
    }
   },
   "outputs": [
    {
     "name": "stdout",
     "output_type": "stream",
     "text": [
      "California    37253\n",
      "New York       4334\n",
      "Texas         21123\n",
      "dtype: int64\n"
     ]
    }
   ],
   "source": [
    "print(pop[:, 2010])"
   ]
  },
  {
   "cell_type": "code",
   "execution_count": 76,
   "id": "returning-marks",
   "metadata": {
    "ExecuteTime": {
     "end_time": "2021-03-13T04:18:40.830875Z",
     "start_time": "2021-03-13T04:18:40.808428Z"
    }
   },
   "outputs": [
    {
     "name": "stdout",
     "output_type": "stream",
     "text": [
      "             2000   2010\n",
      "California   3387  37253\n",
      "New York     1123   4334\n",
      "Texas       23123  21123\n"
     ]
    }
   ],
   "source": [
    "pop_df = pop.unstack()  # 멀티인덱스를 DataFrame으로 쉽게 저장 가능\n",
    "print(pop_df)  # 반대되는 연산은 stack()"
   ]
  },
  {
   "cell_type": "code",
   "execution_count": 77,
   "id": "north-paradise",
   "metadata": {
    "ExecuteTime": {
     "end_time": "2021-03-13T04:20:06.154154Z",
     "start_time": "2021-03-13T04:20:06.128772Z"
    }
   },
   "outputs": [
    {
     "name": "stdout",
     "output_type": "stream",
     "text": [
      "        data1     data2\n",
      "a 1  0.823451  0.641704\n",
      "  2  0.416564  0.665171\n",
      "b 1  0.996951  0.025642\n",
      "  2  0.555297  0.980211\n"
     ]
    }
   ],
   "source": [
    "df = pd.DataFrame(np.random.rand(4, 2), index=[['a', 'a', 'b', 'b'], [1, 2, 1, 2]], columns=['data1', 'data2']) # MultiIndex 선언법\n",
    "print(df)"
   ]
  },
  {
   "cell_type": "code",
   "execution_count": 78,
   "id": "bronze-immunology",
   "metadata": {
    "ExecuteTime": {
     "end_time": "2021-03-13T04:22:14.785081Z",
     "start_time": "2021-03-13T04:22:14.772396Z"
    }
   },
   "outputs": [
    {
     "name": "stdout",
     "output_type": "stream",
     "text": [
      "state       year\n",
      "California  2000     3387\n",
      "            2010    37253\n",
      "New York    2000     1123\n",
      "            2010     4334\n",
      "Texas       2000    23123\n",
      "            2010    21123\n",
      "dtype: int64\n"
     ]
    }
   ],
   "source": [
    "pop.index.names = ['state', 'year']  # 멀티인덱스 이름 지정\n",
    "print(pop)"
   ]
  },
  {
   "cell_type": "code",
   "execution_count": 81,
   "id": "conceptual-rover",
   "metadata": {
    "ExecuteTime": {
     "end_time": "2021-03-13T04:26:08.367186Z",
     "start_time": "2021-03-13T04:26:08.334978Z"
    }
   },
   "outputs": [
    {
     "name": "stdout",
     "output_type": "stream",
     "text": [
      "subject      Bob      Guido       Sue     \n",
      "type          HR Temp    HR Temp   HR Temp\n",
      "year visit                                \n",
      "2013 1      -5.0  0.6 -14.0 -1.3  4.0 -0.3\n",
      "     2      26.0  0.1  27.0 -0.4 -4.0 -1.8\n",
      "2014 1      -4.0 -0.7 -10.0 -0.9  5.0 -0.8\n",
      "     2      -7.0 -1.3  -8.0  0.7 -4.0 -1.3\n"
     ]
    }
   ],
   "source": [
    "index = pd.MultiIndex.from_product([[2013, 2014], [1, 2]], names=['year', 'visit'])  # 열도 multiIndex 가능\n",
    "columns = pd.MultiIndex.from_product([['Bob', 'Guido', 'Sue'], ['HR', 'Temp']], names=['subject', 'type'])\n",
    "data = np.round(np.random.randn(4, 6), 1)\n",
    "data[:, ::2] *= 10\n",
    "health_data = pd.DataFrame(data, index=index, columns=columns)\n",
    "print(health_data)"
   ]
  },
  {
   "cell_type": "code",
   "execution_count": 84,
   "id": "sought-season",
   "metadata": {
    "ExecuteTime": {
     "end_time": "2021-03-13T04:30:37.348008Z",
     "start_time": "2021-03-13T04:30:37.329463Z"
    }
   },
   "outputs": [
    {
     "name": "stdout",
     "output_type": "stream",
     "text": [
      "3387 \n",
      "\n",
      "year\n",
      "2000     3387\n",
      "2010    37253\n",
      "dtype: int64 \n",
      "\n",
      "state       year\n",
      "California  2000     3387\n",
      "            2010    37253\n",
      "New York    2000     1123\n",
      "            2010     4334\n",
      "dtype: int64 \n",
      "\n",
      "state\n",
      "California     3387\n",
      "New York       1123\n",
      "Texas         23123\n",
      "dtype: int64 \n",
      "\n",
      "state       year\n",
      "California  2010    37253\n",
      "Texas       2000    23123\n",
      "            2010    21123\n",
      "dtype: int64 \n",
      "\n"
     ]
    }
   ],
   "source": [
    "# MultiIndex 인덱싱 및 슬라이싱 Series\n",
    "print(pop['California', 2000], '\\n') # 여러 용어로 단일 요소에 접근\n",
    "print(pop['California'], '\\n')\n",
    "print(pop['California':'New York'], '\\n') # 슬라이싱\n",
    "print(pop[:, 2000], '\\n')\n",
    "print(pop[pop > 5000], '\\n')"
   ]
  },
  {
   "cell_type": "code",
   "execution_count": 86,
   "id": "liable-parking",
   "metadata": {
    "ExecuteTime": {
     "end_time": "2021-03-13T04:40:58.563036Z",
     "start_time": "2021-03-13T04:40:58.498386Z"
    }
   },
   "outputs": [
    {
     "name": "stdout",
     "output_type": "stream",
     "text": [
      "subject      Bob      Guido       Sue     \n",
      "type          HR Temp    HR Temp   HR Temp\n",
      "year visit                                \n",
      "2013 1      -5.0  0.6 -14.0 -1.3  4.0 -0.3\n",
      "     2      26.0  0.1  27.0 -0.4 -4.0 -1.8\n",
      "2014 1      -4.0 -0.7 -10.0 -0.9  5.0 -0.8\n",
      "     2      -7.0 -1.3  -8.0  0.7 -4.0 -1.3 \n",
      "\n",
      "year  visit\n",
      "2013  1       -14.0\n",
      "      2        27.0\n",
      "2014  1       -10.0\n",
      "      2        -8.0\n",
      "Name: (Guido, HR), dtype: float64 \n",
      "\n",
      "subject      Bob     \n",
      "type          HR Temp\n",
      "year visit           \n",
      "2013 1      -5.0  0.6\n",
      "     2      26.0  0.1 \n",
      "\n",
      "year  visit\n",
      "2013  1        -5.0\n",
      "      2        26.0\n",
      "2014  1        -4.0\n",
      "      2        -7.0\n",
      "Name: (Bob, HR), dtype: float64 \n",
      "\n",
      "subject     Bob Guido  Sue\n",
      "type         HR    HR   HR\n",
      "year visit                \n",
      "2013 1     -5.0 -14.0  4.0\n",
      "2014 1     -4.0 -10.0  5.0\n"
     ]
    }
   ],
   "source": [
    "# MultiIndex 인덱싱 및 슬라이싱 DataFrame\n",
    "print(health_data, '\\n')\n",
    "print(health_data['Guido', 'HR'], '\\n')\n",
    "print(health_data.iloc[:2, :2], '\\n')\n",
    "print(health_data.loc[:, ('Bob', 'HR')], '\\n')\n",
    "\n",
    "idx = pd.IndexSlice  # 슬라이스를 명시적으로 하는 경우\n",
    "print(health_data.loc[idx[:, 1], idx[:, 'HR']])"
   ]
  },
  {
   "cell_type": "code",
   "execution_count": 87,
   "id": "brief-bandwidth",
   "metadata": {
    "ExecuteTime": {
     "end_time": "2021-03-13T11:02:01.456464Z",
     "start_time": "2021-03-13T11:02:01.222532Z"
    }
   },
   "outputs": [
    {
     "name": "stdout",
     "output_type": "stream",
     "text": [
      "state       year\n",
      "California  2000     3387\n",
      "            2010    37253\n",
      "New York    2000     1123\n",
      "            2010     4334\n",
      "Texas       2000    23123\n",
      "            2010    21123\n",
      "dtype: int64 \n",
      "\n",
      "state  California  New York  Texas\n",
      "year                              \n",
      "2000         3387      1123  23123\n",
      "2010        37253      4334  21123 \n",
      "\n",
      "year         2000   2010\n",
      "state                   \n",
      "California   3387  37253\n",
      "New York     1123   4334\n",
      "Texas       23123  21123 \n",
      "\n"
     ]
    }
   ],
   "source": [
    "print(pop, '\\n')\n",
    "print(pop.unstack(level=0), '\\n')\n",
    "print(pop.unstack(level=1), '\\n')"
   ]
  },
  {
   "cell_type": "code",
   "execution_count": 88,
   "id": "intended-apollo",
   "metadata": {
    "ExecuteTime": {
     "end_time": "2021-03-13T11:03:14.513203Z",
     "start_time": "2021-03-13T11:03:14.456595Z"
    }
   },
   "outputs": [
    {
     "name": "stdout",
     "output_type": "stream",
     "text": [
      "        state  year  population\n",
      "0  California  2000        3387\n",
      "1  California  2010       37253\n",
      "2    New York  2000        1123\n",
      "3    New York  2010        4334\n",
      "4       Texas  2000       23123\n",
      "5       Texas  2010       21123\n"
     ]
    }
   ],
   "source": [
    "pop_flat = pop.reset_index(name='population')\n",
    "print(pop_flat)"
   ]
  },
  {
   "cell_type": "code",
   "execution_count": 90,
   "id": "korean-bankruptcy",
   "metadata": {
    "ExecuteTime": {
     "end_time": "2021-03-13T11:04:30.180755Z",
     "start_time": "2021-03-13T11:04:30.153427Z"
    }
   },
   "outputs": [
    {
     "name": "stdout",
     "output_type": "stream",
     "text": [
      "                 population\n",
      "state      year            \n",
      "California 2000        3387\n",
      "           2010       37253\n",
      "New York   2000        1123\n",
      "           2010        4334\n",
      "Texas      2000       23123\n",
      "           2010       21123\n"
     ]
    }
   ],
   "source": [
    "print(pop_flat.set_index(['state', 'year']))"
   ]
  },
  {
   "cell_type": "markdown",
   "id": "corporate-encyclopedia",
   "metadata": {},
   "source": [
    "### 데이터 세트 결합 Concat, Append"
   ]
  },
  {
   "cell_type": "code",
   "execution_count": 91,
   "id": "fatal-lending",
   "metadata": {
    "ExecuteTime": {
     "end_time": "2021-03-13T11:13:10.818230Z",
     "start_time": "2021-03-13T11:13:10.788949Z"
    }
   },
   "outputs": [
    {
     "name": "stdout",
     "output_type": "stream",
     "text": [
      "1    A\n",
      "2    B\n",
      "3    C\n",
      "4    D\n",
      "5    E\n",
      "6    F\n",
      "dtype: object\n"
     ]
    }
   ],
   "source": [
    "ser1 = pd.Series(['A', 'B', 'C'], index=[1, 2, 3])\n",
    "ser2 = pd.Series(['D', 'E', 'F'], index=[4, 5, 6])\n",
    "print(pd.concat([ser1, ser2]))"
   ]
  },
  {
   "cell_type": "code",
   "execution_count": 93,
   "id": "pleased-globe",
   "metadata": {
    "ExecuteTime": {
     "end_time": "2021-03-13T11:16:04.436497Z",
     "start_time": "2021-03-13T11:16:04.358828Z"
    }
   },
   "outputs": [
    {
     "name": "stdout",
     "output_type": "stream",
     "text": [
      "     A    B    C    D\n",
      "0   A0   B0  NaN  NaN\n",
      "1   A1   B1  NaN  NaN\n",
      "0  NaN  NaN   C0   D0\n",
      "1  NaN  NaN   C1   D1 \n",
      "\n",
      "    A   B   C   D\n",
      "0  A0  B0  C0  D0\n",
      "1  A1  B1  C1  D1\n"
     ]
    }
   ],
   "source": [
    "df1 = pd.DataFrame({'A':['A0', 'A1'], 'B':['B0', 'B1']})\n",
    "df2 = pd.DataFrame({'C':['C0', 'C1'], 'D':['D0', 'D1']})\n",
    "print(pd.concat([df1, df2], axis=0), '\\n')\n",
    "print(pd.concat([df1, df2], axis=1))"
   ]
  },
  {
   "cell_type": "code",
   "execution_count": 96,
   "id": "acute-paint",
   "metadata": {
    "ExecuteTime": {
     "end_time": "2021-03-13T11:17:33.603638Z",
     "start_time": "2021-03-13T11:17:33.485025Z"
    }
   },
   "outputs": [
    {
     "ename": "ValueError",
     "evalue": "Indexes have overlapping values: Int64Index([0, 1], dtype='int64')",
     "output_type": "error",
     "traceback": [
      "\u001b[1;31m---------------------------------------------------------------------------\u001b[0m",
      "\u001b[1;31mValueError\u001b[0m                                Traceback (most recent call last)",
      "\u001b[1;32m<ipython-input-96-d5d9eb5d0b11>\u001b[0m in \u001b[0;36m<module>\u001b[1;34m\u001b[0m\n\u001b[1;32m----> 1\u001b[1;33m \u001b[0mprint\u001b[0m\u001b[1;33m(\u001b[0m\u001b[0mpd\u001b[0m\u001b[1;33m.\u001b[0m\u001b[0mconcat\u001b[0m\u001b[1;33m(\u001b[0m\u001b[1;33m[\u001b[0m\u001b[0mdf1\u001b[0m\u001b[1;33m,\u001b[0m \u001b[0mdf2\u001b[0m\u001b[1;33m]\u001b[0m\u001b[1;33m,\u001b[0m \u001b[0maxis\u001b[0m\u001b[1;33m=\u001b[0m\u001b[1;36m0\u001b[0m\u001b[1;33m,\u001b[0m \u001b[0mverify_integrity\u001b[0m\u001b[1;33m=\u001b[0m\u001b[1;32mTrue\u001b[0m\u001b[1;33m)\u001b[0m\u001b[1;33m,\u001b[0m \u001b[1;34m'\\n'\u001b[0m\u001b[1;33m)\u001b[0m\u001b[1;33m\u001b[0m\u001b[1;33m\u001b[0m\u001b[0m\n\u001b[0m",
      "\u001b[1;32mc:\\users\\user\\appdata\\local\\programs\\python\\python39\\lib\\site-packages\\pandas\\core\\reshape\\concat.py\u001b[0m in \u001b[0;36mconcat\u001b[1;34m(objs, axis, join, ignore_index, keys, levels, names, verify_integrity, sort, copy)\u001b[0m\n\u001b[0;32m    283\u001b[0m     \u001b[0mValueError\u001b[0m\u001b[1;33m:\u001b[0m \u001b[0mIndexes\u001b[0m \u001b[0mhave\u001b[0m \u001b[0moverlapping\u001b[0m \u001b[0mvalues\u001b[0m\u001b[1;33m:\u001b[0m \u001b[1;33m[\u001b[0m\u001b[1;34m'a'\u001b[0m\u001b[1;33m]\u001b[0m\u001b[1;33m\u001b[0m\u001b[1;33m\u001b[0m\u001b[0m\n\u001b[0;32m    284\u001b[0m     \"\"\"\n\u001b[1;32m--> 285\u001b[1;33m     op = _Concatenator(\n\u001b[0m\u001b[0;32m    286\u001b[0m         \u001b[0mobjs\u001b[0m\u001b[1;33m,\u001b[0m\u001b[1;33m\u001b[0m\u001b[1;33m\u001b[0m\u001b[0m\n\u001b[0;32m    287\u001b[0m         \u001b[0maxis\u001b[0m\u001b[1;33m=\u001b[0m\u001b[0maxis\u001b[0m\u001b[1;33m,\u001b[0m\u001b[1;33m\u001b[0m\u001b[1;33m\u001b[0m\u001b[0m\n",
      "\u001b[1;32mc:\\users\\user\\appdata\\local\\programs\\python\\python39\\lib\\site-packages\\pandas\\core\\reshape\\concat.py\u001b[0m in \u001b[0;36m__init__\u001b[1;34m(self, objs, axis, join, keys, levels, names, ignore_index, verify_integrity, copy, sort)\u001b[0m\n\u001b[0;32m    465\u001b[0m         \u001b[0mself\u001b[0m\u001b[1;33m.\u001b[0m\u001b[0mcopy\u001b[0m \u001b[1;33m=\u001b[0m \u001b[0mcopy\u001b[0m\u001b[1;33m\u001b[0m\u001b[1;33m\u001b[0m\u001b[0m\n\u001b[0;32m    466\u001b[0m \u001b[1;33m\u001b[0m\u001b[0m\n\u001b[1;32m--> 467\u001b[1;33m         \u001b[0mself\u001b[0m\u001b[1;33m.\u001b[0m\u001b[0mnew_axes\u001b[0m \u001b[1;33m=\u001b[0m \u001b[0mself\u001b[0m\u001b[1;33m.\u001b[0m\u001b[0m_get_new_axes\u001b[0m\u001b[1;33m(\u001b[0m\u001b[1;33m)\u001b[0m\u001b[1;33m\u001b[0m\u001b[1;33m\u001b[0m\u001b[0m\n\u001b[0m\u001b[0;32m    468\u001b[0m \u001b[1;33m\u001b[0m\u001b[0m\n\u001b[0;32m    469\u001b[0m     \u001b[1;32mdef\u001b[0m \u001b[0mget_result\u001b[0m\u001b[1;33m(\u001b[0m\u001b[0mself\u001b[0m\u001b[1;33m)\u001b[0m\u001b[1;33m:\u001b[0m\u001b[1;33m\u001b[0m\u001b[1;33m\u001b[0m\u001b[0m\n",
      "\u001b[1;32mc:\\users\\user\\appdata\\local\\programs\\python\\python39\\lib\\site-packages\\pandas\\core\\reshape\\concat.py\u001b[0m in \u001b[0;36m_get_new_axes\u001b[1;34m(self)\u001b[0m\n\u001b[0;32m    535\u001b[0m     \u001b[1;32mdef\u001b[0m \u001b[0m_get_new_axes\u001b[0m\u001b[1;33m(\u001b[0m\u001b[0mself\u001b[0m\u001b[1;33m)\u001b[0m \u001b[1;33m->\u001b[0m \u001b[0mList\u001b[0m\u001b[1;33m[\u001b[0m\u001b[0mIndex\u001b[0m\u001b[1;33m]\u001b[0m\u001b[1;33m:\u001b[0m\u001b[1;33m\u001b[0m\u001b[1;33m\u001b[0m\u001b[0m\n\u001b[0;32m    536\u001b[0m         \u001b[0mndim\u001b[0m \u001b[1;33m=\u001b[0m \u001b[0mself\u001b[0m\u001b[1;33m.\u001b[0m\u001b[0m_get_result_dim\u001b[0m\u001b[1;33m(\u001b[0m\u001b[1;33m)\u001b[0m\u001b[1;33m\u001b[0m\u001b[1;33m\u001b[0m\u001b[0m\n\u001b[1;32m--> 537\u001b[1;33m         return [\n\u001b[0m\u001b[0;32m    538\u001b[0m             \u001b[0mself\u001b[0m\u001b[1;33m.\u001b[0m\u001b[0m_get_concat_axis\u001b[0m\u001b[1;33m(\u001b[0m\u001b[1;33m)\u001b[0m \u001b[1;32mif\u001b[0m \u001b[0mi\u001b[0m \u001b[1;33m==\u001b[0m \u001b[0mself\u001b[0m\u001b[1;33m.\u001b[0m\u001b[0mbm_axis\u001b[0m \u001b[1;32melse\u001b[0m \u001b[0mself\u001b[0m\u001b[1;33m.\u001b[0m\u001b[0m_get_comb_axis\u001b[0m\u001b[1;33m(\u001b[0m\u001b[0mi\u001b[0m\u001b[1;33m)\u001b[0m\u001b[1;33m\u001b[0m\u001b[1;33m\u001b[0m\u001b[0m\n\u001b[0;32m    539\u001b[0m             \u001b[1;32mfor\u001b[0m \u001b[0mi\u001b[0m \u001b[1;32min\u001b[0m \u001b[0mrange\u001b[0m\u001b[1;33m(\u001b[0m\u001b[0mndim\u001b[0m\u001b[1;33m)\u001b[0m\u001b[1;33m\u001b[0m\u001b[1;33m\u001b[0m\u001b[0m\n",
      "\u001b[1;32mc:\\users\\user\\appdata\\local\\programs\\python\\python39\\lib\\site-packages\\pandas\\core\\reshape\\concat.py\u001b[0m in \u001b[0;36m<listcomp>\u001b[1;34m(.0)\u001b[0m\n\u001b[0;32m    536\u001b[0m         \u001b[0mndim\u001b[0m \u001b[1;33m=\u001b[0m \u001b[0mself\u001b[0m\u001b[1;33m.\u001b[0m\u001b[0m_get_result_dim\u001b[0m\u001b[1;33m(\u001b[0m\u001b[1;33m)\u001b[0m\u001b[1;33m\u001b[0m\u001b[1;33m\u001b[0m\u001b[0m\n\u001b[0;32m    537\u001b[0m         return [\n\u001b[1;32m--> 538\u001b[1;33m             \u001b[0mself\u001b[0m\u001b[1;33m.\u001b[0m\u001b[0m_get_concat_axis\u001b[0m\u001b[1;33m(\u001b[0m\u001b[1;33m)\u001b[0m \u001b[1;32mif\u001b[0m \u001b[0mi\u001b[0m \u001b[1;33m==\u001b[0m \u001b[0mself\u001b[0m\u001b[1;33m.\u001b[0m\u001b[0mbm_axis\u001b[0m \u001b[1;32melse\u001b[0m \u001b[0mself\u001b[0m\u001b[1;33m.\u001b[0m\u001b[0m_get_comb_axis\u001b[0m\u001b[1;33m(\u001b[0m\u001b[0mi\u001b[0m\u001b[1;33m)\u001b[0m\u001b[1;33m\u001b[0m\u001b[1;33m\u001b[0m\u001b[0m\n\u001b[0m\u001b[0;32m    539\u001b[0m             \u001b[1;32mfor\u001b[0m \u001b[0mi\u001b[0m \u001b[1;32min\u001b[0m \u001b[0mrange\u001b[0m\u001b[1;33m(\u001b[0m\u001b[0mndim\u001b[0m\u001b[1;33m)\u001b[0m\u001b[1;33m\u001b[0m\u001b[1;33m\u001b[0m\u001b[0m\n\u001b[0;32m    540\u001b[0m         ]\n",
      "\u001b[1;32mc:\\users\\user\\appdata\\local\\programs\\python\\python39\\lib\\site-packages\\pandas\\core\\reshape\\concat.py\u001b[0m in \u001b[0;36m_get_concat_axis\u001b[1;34m(self)\u001b[0m\n\u001b[0;32m    596\u001b[0m             )\n\u001b[0;32m    597\u001b[0m \u001b[1;33m\u001b[0m\u001b[0m\n\u001b[1;32m--> 598\u001b[1;33m         \u001b[0mself\u001b[0m\u001b[1;33m.\u001b[0m\u001b[0m_maybe_check_integrity\u001b[0m\u001b[1;33m(\u001b[0m\u001b[0mconcat_axis\u001b[0m\u001b[1;33m)\u001b[0m\u001b[1;33m\u001b[0m\u001b[1;33m\u001b[0m\u001b[0m\n\u001b[0m\u001b[0;32m    599\u001b[0m \u001b[1;33m\u001b[0m\u001b[0m\n\u001b[0;32m    600\u001b[0m         \u001b[1;32mreturn\u001b[0m \u001b[0mconcat_axis\u001b[0m\u001b[1;33m\u001b[0m\u001b[1;33m\u001b[0m\u001b[0m\n",
      "\u001b[1;32mc:\\users\\user\\appdata\\local\\programs\\python\\python39\\lib\\site-packages\\pandas\\core\\reshape\\concat.py\u001b[0m in \u001b[0;36m_maybe_check_integrity\u001b[1;34m(self, concat_index)\u001b[0m\n\u001b[0;32m    604\u001b[0m             \u001b[1;32mif\u001b[0m \u001b[1;32mnot\u001b[0m \u001b[0mconcat_index\u001b[0m\u001b[1;33m.\u001b[0m\u001b[0mis_unique\u001b[0m\u001b[1;33m:\u001b[0m\u001b[1;33m\u001b[0m\u001b[1;33m\u001b[0m\u001b[0m\n\u001b[0;32m    605\u001b[0m                 \u001b[0moverlap\u001b[0m \u001b[1;33m=\u001b[0m \u001b[0mconcat_index\u001b[0m\u001b[1;33m[\u001b[0m\u001b[0mconcat_index\u001b[0m\u001b[1;33m.\u001b[0m\u001b[0mduplicated\u001b[0m\u001b[1;33m(\u001b[0m\u001b[1;33m)\u001b[0m\u001b[1;33m]\u001b[0m\u001b[1;33m.\u001b[0m\u001b[0munique\u001b[0m\u001b[1;33m(\u001b[0m\u001b[1;33m)\u001b[0m\u001b[1;33m\u001b[0m\u001b[1;33m\u001b[0m\u001b[0m\n\u001b[1;32m--> 606\u001b[1;33m                 \u001b[1;32mraise\u001b[0m \u001b[0mValueError\u001b[0m\u001b[1;33m(\u001b[0m\u001b[1;34mf\"Indexes have overlapping values: {overlap}\"\u001b[0m\u001b[1;33m)\u001b[0m\u001b[1;33m\u001b[0m\u001b[1;33m\u001b[0m\u001b[0m\n\u001b[0m\u001b[0;32m    607\u001b[0m \u001b[1;33m\u001b[0m\u001b[0m\n\u001b[0;32m    608\u001b[0m \u001b[1;33m\u001b[0m\u001b[0m\n",
      "\u001b[1;31mValueError\u001b[0m: Indexes have overlapping values: Int64Index([0, 1], dtype='int64')"
     ]
    }
   ],
   "source": [
    "# verify_integrity=True 중복되는 정수 인덱스가 있을 경우 에러 발생\n",
    "print(pd.concat([df1, df2], axis=0, verify_integrity=True), '\\n')"
   ]
  },
  {
   "cell_type": "code",
   "execution_count": 98,
   "id": "developmental-statement",
   "metadata": {
    "ExecuteTime": {
     "end_time": "2021-03-13T11:19:13.844232Z",
     "start_time": "2021-03-13T11:19:13.826663Z"
    }
   },
   "outputs": [
    {
     "name": "stdout",
     "output_type": "stream",
     "text": [
      "Empty DataFrame\n",
      "Columns: []\n",
      "Index: [0, 1, 0, 1]\n"
     ]
    }
   ],
   "source": [
    "print(pd.concat([df1, df2], axis=0, join='inner'))  # join='inner' 교집합"
   ]
  },
  {
   "cell_type": "code",
   "execution_count": 100,
   "id": "architectural-houston",
   "metadata": {
    "ExecuteTime": {
     "end_time": "2021-03-13T11:22:55.860656Z",
     "start_time": "2021-03-13T11:22:55.834158Z"
    }
   },
   "outputs": [
    {
     "name": "stdout",
     "output_type": "stream",
     "text": [
      "     A    B    C    D\n",
      "0   A0   B0  NaN  NaN\n",
      "1   A1   B1  NaN  NaN\n",
      "0  NaN  NaN   C0   D0\n",
      "1  NaN  NaN   C1   D1\n"
     ]
    }
   ],
   "source": [
    "print(df1.append(df2))  # extend와 다르게 새로운 결합된 데이터를 만듬"
   ]
  },
  {
   "cell_type": "markdown",
   "id": "abroad-makeup",
   "metadata": {},
   "source": [
    "### Merge & Join으로 데이터 결합"
   ]
  },
  {
   "cell_type": "code",
   "execution_count": 3,
   "id": "musical-founder",
   "metadata": {
    "ExecuteTime": {
     "end_time": "2021-03-15T11:47:09.619703Z",
     "start_time": "2021-03-15T11:47:09.594764Z"
    }
   },
   "outputs": [
    {
     "name": "stdout",
     "output_type": "stream",
     "text": [
      "  emploee        group  hire_data\n",
      "0     Bob   Accounting       2008\n",
      "1    Jake  Engineering       2012\n",
      "2    Lisa  Engineering       2004\n",
      "3     Sue           HR       2014\n"
     ]
    }
   ],
   "source": [
    "df1 = pd.DataFrame({'emploee': ['Bob', 'Jake', 'Lisa', 'Sue'], 'group': ['Accounting', 'Engineering', 'Engineering', 'HR']})\n",
    "df2 = pd.DataFrame({'emploee': ['Lisa', 'Bob', 'Jake', 'Sue'], 'hire_data': [2004, 2008, 2012, 2014]})\n",
    "df3 = pd.merge(df1, df2)  # 공통분모 다른 칼럼 병합\n",
    "print(df3)"
   ]
  },
  {
   "cell_type": "code",
   "execution_count": 104,
   "id": "announced-asset",
   "metadata": {
    "ExecuteTime": {
     "end_time": "2021-03-13T11:35:05.517356Z",
     "start_time": "2021-03-13T11:35:05.490029Z"
    }
   },
   "outputs": [
    {
     "name": "stdout",
     "output_type": "stream",
     "text": [
      "  emploee        group  hire_data supervisor\n",
      "0     Bob   Accounting       2008      Carly\n",
      "1    Jake  Engineering       2012      Guido\n",
      "2    Lisa  Engineering       2004      Guido\n",
      "3     Sue           HR       2014      Steve\n"
     ]
    }
   ],
   "source": [
    "# 다대일 조인\n",
    "df4 = pd.DataFrame({'group': ['Accounting', 'Engineering', 'HR'], 'supervisor': ['Carly', 'Guido', 'Steve']})\n",
    "print(pd.merge(df3, df4))"
   ]
  },
  {
   "cell_type": "code",
   "execution_count": 105,
   "id": "mysterious-paste",
   "metadata": {
    "ExecuteTime": {
     "end_time": "2021-03-13T11:36:40.653221Z",
     "start_time": "2021-03-13T11:36:40.617031Z"
    }
   },
   "outputs": [
    {
     "name": "stdout",
     "output_type": "stream",
     "text": [
      "  emploee        group        skills\n",
      "0     Bob   Accounting          math\n",
      "1     Bob   Accounting  spreadsheets\n",
      "2    Jake  Engineering        coding\n",
      "3    Jake  Engineering         linux\n",
      "4    Lisa  Engineering        coding\n",
      "5    Lisa  Engineering         linux\n",
      "6     Sue           HR  spreadsheets\n",
      "7     Sue           HR  organization\n"
     ]
    }
   ],
   "source": [
    "# 다대다 조인\n",
    "df5 = pd.DataFrame({'group': ['Accounting', 'Accounting', 'Engineering', 'Engineering', 'HR', 'HR'], 'skills': ['math', 'spreadsheets', 'coding', 'linux', 'spreadsheets', 'organization']})\n",
    "print(pd.merge(df1, df5))"
   ]
  },
  {
   "cell_type": "markdown",
   "id": "gothic-sixth",
   "metadata": {},
   "source": [
    "### 병합 키 지정"
   ]
  },
  {
   "cell_type": "code",
   "execution_count": 5,
   "id": "ready-stereo",
   "metadata": {
    "ExecuteTime": {
     "end_time": "2021-03-15T11:48:30.501502Z",
     "start_time": "2021-03-15T11:48:30.479563Z"
    }
   },
   "outputs": [
    {
     "name": "stdout",
     "output_type": "stream",
     "text": [
      "  emploee        group\n",
      "0     Bob   Accounting\n",
      "1    Jake  Engineering\n",
      "2    Lisa  Engineering\n",
      "3     Sue           HR \n",
      "\n",
      "  emploee  hire_data\n",
      "0    Lisa       2004\n",
      "1     Bob       2008\n",
      "2    Jake       2012\n",
      "3     Sue       2014 \n",
      "\n",
      "  emploee        group  hire_data\n",
      "0     Bob   Accounting       2008\n",
      "1    Jake  Engineering       2012\n",
      "2    Lisa  Engineering       2004\n",
      "3     Sue           HR       2014\n"
     ]
    }
   ],
   "source": [
    "print(df1, '\\n')\n",
    "print(df2, '\\n')\n",
    "print(pd.merge(df1, df2, on='emploee')) # 열 이름을 명시적으로 지정"
   ]
  },
  {
   "cell_type": "code",
   "execution_count": 9,
   "id": "approximate-israel",
   "metadata": {
    "ExecuteTime": {
     "end_time": "2021-03-15T11:53:57.505229Z",
     "start_time": "2021-03-15T11:53:57.474275Z"
    }
   },
   "outputs": [
    {
     "name": "stdout",
     "output_type": "stream",
     "text": [
      "  emploee        group  name  salary\n",
      "0     Bob   Accounting   Bob   70000\n",
      "1    Jake  Engineering  Jake   80000\n",
      "2    Lisa  Engineering  Lisa  120000\n",
      "3     Sue           HR   Sue   90000\n"
     ]
    }
   ],
   "source": [
    "df3 = pd.DataFrame({'name': ['Bob', 'Jake', 'Lisa', 'Sue'], 'salary': [70000, 80000, 120000, 90000]})\n",
    "print(pd.merge(df1, df3, left_on='emploee', right_on='name')) # 다른 이름의 같은 역할을 하는 열 각각 지정해서 키워드로 ok\n",
    "# .drop('name', axis=1)  # 역할이 겹치므로 삭제"
   ]
  },
  {
   "cell_type": "code",
   "execution_count": 54,
   "id": "fitted-disabled",
   "metadata": {
    "ExecuteTime": {
     "end_time": "2021-03-15T12:40:22.259472Z",
     "start_time": "2021-03-15T12:40:22.226561Z"
    }
   },
   "outputs": [
    {
     "name": "stdout",
     "output_type": "stream",
     "text": [
      "               group\n",
      "emploee             \n",
      "Bob       Accounting\n",
      "Jake     Engineering\n",
      "Lisa     Engineering\n",
      "Sue               HR\n",
      "               group\n",
      "emploee             \n",
      "Lisa     Engineering\n",
      "Sue               HR\n",
      "Engineering\n",
      "Engineering\n"
     ]
    }
   ],
   "source": [
    "df1a = df1.set_index('emploee')\n",
    "df2a = df2.set_index('emploee')\n",
    "print(df1a)\n",
    "print(df1a['Lisa':])\n",
    "print(df1a.loc['Lisa', 'group'])  # 콤마로 레벨 다르게\n",
    "print(df1a.xs('Lisa').xs('group',axis=0))  # 멀티 인덱스 어렵..."
   ]
  },
  {
   "cell_type": "code",
   "execution_count": 45,
   "id": "latter-burst",
   "metadata": {
    "ExecuteTime": {
     "end_time": "2021-03-15T12:16:49.739799Z",
     "start_time": "2021-03-15T12:16:49.727837Z"
    }
   },
   "outputs": [
    {
     "name": "stdout",
     "output_type": "stream",
     "text": [
      "               group  hire_data\n",
      "emploee                        \n",
      "Bob       Accounting       2008\n",
      "Jake     Engineering       2012\n",
      "Lisa     Engineering       2004\n",
      "Sue               HR       2014\n"
     ]
    }
   ],
   "source": [
    "print(pd.merge(df1a, df2a, left_index=True, right_index=True))  # 좌우 인덱스를 지정해 병합키 인덱스로 사용 가능"
   ]
  },
  {
   "cell_type": "code",
   "execution_count": 46,
   "id": "present-exploration",
   "metadata": {
    "ExecuteTime": {
     "end_time": "2021-03-15T12:17:53.936122Z",
     "start_time": "2021-03-15T12:17:53.913180Z"
    }
   },
   "outputs": [
    {
     "name": "stdout",
     "output_type": "stream",
     "text": [
      "               group  hire_data\n",
      "emploee                        \n",
      "Bob       Accounting       2008\n",
      "Jake     Engineering       2012\n",
      "Lisa     Engineering       2004\n",
      "Sue               HR       2014\n"
     ]
    }
   ],
   "source": [
    "print(df1a.join(df2a))  # join사용하면 기본적인 인덱스 기반으로 조인함"
   ]
  },
  {
   "cell_type": "code",
   "execution_count": 47,
   "id": "insured-champion",
   "metadata": {
    "ExecuteTime": {
     "end_time": "2021-03-15T12:21:21.791455Z",
     "start_time": "2021-03-15T12:21:21.758545Z"
    }
   },
   "outputs": [
    {
     "name": "stdout",
     "output_type": "stream",
     "text": [
      "   name  rank_x  rank_y\n",
      "0   Bob       1       3\n",
      "1  Jake       2       1\n",
      "2  Lisa       3       4\n",
      "3   Sue       4       2\n"
     ]
    }
   ],
   "source": [
    "df8 = pd.DataFrame({'name': ['Bob', 'Jake', 'Lisa', 'Sue'],\n",
    "                   'rank': [1, 2, 3, 4]})\n",
    "df9 = pd.DataFrame({'name': ['Bob', 'Jake', 'Lisa', 'Sue'],\n",
    "                   'rank': [3, 1, 4, 2]})\n",
    "print(pd.merge(df8, df9, on=\"name\"))  # 열이 겹치는 경우 _x, _y 접미사 붙임"
   ]
  },
  {
   "cell_type": "code",
   "execution_count": 48,
   "id": "systematic-sister",
   "metadata": {
    "ExecuteTime": {
     "end_time": "2021-03-15T12:22:07.977791Z",
     "start_time": "2021-03-15T12:22:07.951861Z"
    }
   },
   "outputs": [
    {
     "name": "stdout",
     "output_type": "stream",
     "text": [
      "   name  rank_L  rank_R\n",
      "0   Bob       1       3\n",
      "1  Jake       2       1\n",
      "2  Lisa       3       4\n",
      "3   Sue       4       2\n"
     ]
    }
   ],
   "source": [
    "print(pd.merge(df8, df9, on=\"name\", suffixes=['_L', '_R']))  # 접미사 정의 가능"
   ]
  },
  {
   "cell_type": "markdown",
   "id": "brief-consultancy",
   "metadata": {},
   "source": [
    "### 집계 & 분류"
   ]
  },
  {
   "cell_type": "code",
   "execution_count": 56,
   "id": "literary-founder",
   "metadata": {
    "ExecuteTime": {
     "end_time": "2021-03-15T12:42:13.264478Z",
     "start_time": "2021-03-15T12:42:13.228575Z"
    }
   },
   "outputs": [
    {
     "name": "stdout",
     "output_type": "stream",
     "text": [
      "(1035, 6)\n",
      "            method  number  orbital_period   mass  distance  year\n",
      "0  Radial Velocity       1         269.300   7.10     77.40  2006\n",
      "1  Radial Velocity       1         874.774   2.21     56.95  2008\n",
      "2  Radial Velocity       1         763.000   2.60     19.84  2011\n",
      "3  Radial Velocity       1         326.030  19.40    110.62  2007\n",
      "4  Radial Velocity       1         516.220  10.50    119.47  2009\n"
     ]
    }
   ],
   "source": [
    "import seaborn as sns\n",
    "planets = sns.load_dataset('planets')\n",
    "print(planets.shape)\n",
    "print(planets.head()) # 외계행성 데이터"
   ]
  },
  {
   "cell_type": "code",
   "execution_count": 59,
   "id": "genuine-refund",
   "metadata": {
    "ExecuteTime": {
     "end_time": "2021-03-15T13:15:03.042726Z",
     "start_time": "2021-03-15T13:15:03.007823Z"
    }
   },
   "outputs": [
    {
     "name": "stdout",
     "output_type": "stream",
     "text": [
      "2.811925491708157\n",
      "0    0.374540\n",
      "1    1.325254\n",
      "2    2.057248\n",
      "3    2.655907\n",
      "4    2.811925\n",
      "dtype: float64\n",
      "0.02434509596197801\n",
      "0.5623850983416314\n",
      "0.5986584841970366\n",
      "0.23768457495738549\n",
      "0.09532548164256274\n",
      "0.30874824961862174\n",
      "5\n",
      "count    5.000000\n",
      "mean     0.562385\n",
      "std      0.308748\n",
      "min      0.156019\n",
      "25%      0.374540\n",
      "50%      0.598658\n",
      "75%      0.731994\n",
      "max      0.950714\n",
      "dtype: float64\n"
     ]
    }
   ],
   "source": [
    "rng = np.random.RandomState(42)\n",
    "ser = pd.Series(rng.rand(5))\n",
    "\n",
    "print(ser.sum())  # 합\n",
    "print(ser.cumsum()) # 누적합\n",
    "print(ser.prod())  # 전체 항목의 곱\n",
    "print(ser.mean())  # 평균\n",
    "print(ser.median())  # 중앙값\n",
    "print(ser.mad())  # 평균 절대편차\n",
    "print(ser.var())  # 분산\n",
    "print(ser.std())  # 표준편차\n",
    "print(ser.count())  # 갯수\n",
    "print(ser.describe())  # 요약 정보"
   ]
  },
  {
   "cell_type": "code",
   "execution_count": 58,
   "id": "adaptive-acceptance",
   "metadata": {
    "ExecuteTime": {
     "end_time": "2021-03-15T12:48:22.618016Z",
     "start_time": "2021-03-15T12:48:22.556169Z"
    }
   },
   "outputs": [
    {
     "data": {
      "text/html": [
       "<div>\n",
       "<style scoped>\n",
       "    .dataframe tbody tr th:only-of-type {\n",
       "        vertical-align: middle;\n",
       "    }\n",
       "\n",
       "    .dataframe tbody tr th {\n",
       "        vertical-align: top;\n",
       "    }\n",
       "\n",
       "    .dataframe thead th {\n",
       "        text-align: right;\n",
       "    }\n",
       "</style>\n",
       "<table border=\"1\" class=\"dataframe\">\n",
       "  <thead>\n",
       "    <tr style=\"text-align: right;\">\n",
       "      <th></th>\n",
       "      <th>number</th>\n",
       "      <th>orbital_period</th>\n",
       "      <th>mass</th>\n",
       "      <th>distance</th>\n",
       "      <th>year</th>\n",
       "    </tr>\n",
       "  </thead>\n",
       "  <tbody>\n",
       "    <tr>\n",
       "      <th>count</th>\n",
       "      <td>498.00000</td>\n",
       "      <td>498.000000</td>\n",
       "      <td>498.000000</td>\n",
       "      <td>498.000000</td>\n",
       "      <td>498.000000</td>\n",
       "    </tr>\n",
       "    <tr>\n",
       "      <th>mean</th>\n",
       "      <td>1.73494</td>\n",
       "      <td>835.778671</td>\n",
       "      <td>2.509320</td>\n",
       "      <td>52.068213</td>\n",
       "      <td>2007.377510</td>\n",
       "    </tr>\n",
       "    <tr>\n",
       "      <th>std</th>\n",
       "      <td>1.17572</td>\n",
       "      <td>1469.128259</td>\n",
       "      <td>3.636274</td>\n",
       "      <td>46.596041</td>\n",
       "      <td>4.167284</td>\n",
       "    </tr>\n",
       "    <tr>\n",
       "      <th>min</th>\n",
       "      <td>1.00000</td>\n",
       "      <td>1.328300</td>\n",
       "      <td>0.003600</td>\n",
       "      <td>1.350000</td>\n",
       "      <td>1989.000000</td>\n",
       "    </tr>\n",
       "    <tr>\n",
       "      <th>25%</th>\n",
       "      <td>1.00000</td>\n",
       "      <td>38.272250</td>\n",
       "      <td>0.212500</td>\n",
       "      <td>24.497500</td>\n",
       "      <td>2005.000000</td>\n",
       "    </tr>\n",
       "    <tr>\n",
       "      <th>50%</th>\n",
       "      <td>1.00000</td>\n",
       "      <td>357.000000</td>\n",
       "      <td>1.245000</td>\n",
       "      <td>39.940000</td>\n",
       "      <td>2009.000000</td>\n",
       "    </tr>\n",
       "    <tr>\n",
       "      <th>75%</th>\n",
       "      <td>2.00000</td>\n",
       "      <td>999.600000</td>\n",
       "      <td>2.867500</td>\n",
       "      <td>59.332500</td>\n",
       "      <td>2011.000000</td>\n",
       "    </tr>\n",
       "    <tr>\n",
       "      <th>max</th>\n",
       "      <td>6.00000</td>\n",
       "      <td>17337.500000</td>\n",
       "      <td>25.000000</td>\n",
       "      <td>354.000000</td>\n",
       "      <td>2014.000000</td>\n",
       "    </tr>\n",
       "  </tbody>\n",
       "</table>\n",
       "</div>"
      ],
      "text/plain": [
       "          number  orbital_period        mass    distance         year\n",
       "count  498.00000      498.000000  498.000000  498.000000   498.000000\n",
       "mean     1.73494      835.778671    2.509320   52.068213  2007.377510\n",
       "std      1.17572     1469.128259    3.636274   46.596041     4.167284\n",
       "min      1.00000        1.328300    0.003600    1.350000  1989.000000\n",
       "25%      1.00000       38.272250    0.212500   24.497500  2005.000000\n",
       "50%      1.00000      357.000000    1.245000   39.940000  2009.000000\n",
       "75%      2.00000      999.600000    2.867500   59.332500  2011.000000\n",
       "max      6.00000    17337.500000   25.000000  354.000000  2014.000000"
      ]
     },
     "execution_count": 58,
     "metadata": {},
     "output_type": "execute_result"
    }
   ],
   "source": [
    "planets.dropna().describe()"
   ]
  },
  {
   "cell_type": "markdown",
   "id": "statutory-stuff",
   "metadata": {},
   "source": [
    "### GroupBy : 분할, 적용, 결합\n",
    "* 분할 : 지정된 키 값을 기준으로 DataFrame을 나누고 분류하는 단계\n",
    "* 적용 : 개별 그룹 내에서 일반적으로 집계, 변환, 필터링 같은 함수 계산\n",
    "* 결합 : 연산의 결과를 결과 배열에 병합"
   ]
  },
  {
   "cell_type": "code",
   "execution_count": 61,
   "id": "downtown-benjamin",
   "metadata": {
    "ExecuteTime": {
     "end_time": "2021-03-15T13:21:08.304167Z",
     "start_time": "2021-03-15T13:21:08.272254Z"
    }
   },
   "outputs": [
    {
     "name": "stdout",
     "output_type": "stream",
     "text": [
      "  key  data\n",
      "0   A     0\n",
      "1   B     1\n",
      "2   C     2\n",
      "3   A     3\n",
      "4   B     4\n",
      "5   C     5\n"
     ]
    },
    {
     "data": {
      "text/html": [
       "<div>\n",
       "<style scoped>\n",
       "    .dataframe tbody tr th:only-of-type {\n",
       "        vertical-align: middle;\n",
       "    }\n",
       "\n",
       "    .dataframe tbody tr th {\n",
       "        vertical-align: top;\n",
       "    }\n",
       "\n",
       "    .dataframe thead th {\n",
       "        text-align: right;\n",
       "    }\n",
       "</style>\n",
       "<table border=\"1\" class=\"dataframe\">\n",
       "  <thead>\n",
       "    <tr style=\"text-align: right;\">\n",
       "      <th></th>\n",
       "      <th>data</th>\n",
       "    </tr>\n",
       "    <tr>\n",
       "      <th>key</th>\n",
       "      <th></th>\n",
       "    </tr>\n",
       "  </thead>\n",
       "  <tbody>\n",
       "    <tr>\n",
       "      <th>A</th>\n",
       "      <td>3</td>\n",
       "    </tr>\n",
       "    <tr>\n",
       "      <th>B</th>\n",
       "      <td>5</td>\n",
       "    </tr>\n",
       "    <tr>\n",
       "      <th>C</th>\n",
       "      <td>7</td>\n",
       "    </tr>\n",
       "  </tbody>\n",
       "</table>\n",
       "</div>"
      ],
      "text/plain": [
       "     data\n",
       "key      \n",
       "A       3\n",
       "B       5\n",
       "C       7"
      ]
     },
     "execution_count": 61,
     "metadata": {},
     "output_type": "execute_result"
    }
   ],
   "source": [
    "df = pd.DataFrame({'key': ['A', 'B', 'C', 'A', 'B', 'C'], 'data': range(6)}, columns=['key', 'data'])\n",
    "print(df)\n",
    "df.groupby('key')\n",
    "df.groupby('key').sum()"
   ]
  },
  {
   "cell_type": "code",
   "execution_count": 62,
   "id": "welsh-stupid",
   "metadata": {
    "ExecuteTime": {
     "end_time": "2021-03-15T13:24:26.180151Z",
     "start_time": "2021-03-15T13:24:26.169182Z"
    }
   },
   "outputs": [
    {
     "name": "stdout",
     "output_type": "stream",
     "text": [
      "<pandas.core.groupby.generic.SeriesGroupBy object at 0x0000020FA15D9520>\n"
     ]
    }
   ],
   "source": [
    "method = planets.groupby('method')\n",
    "print(method['orbital_period'])  # 데이터프레임그룹 -> 시리즈그룹으로 반환"
   ]
  },
  {
   "cell_type": "code",
   "execution_count": 63,
   "id": "postal-pantyhose",
   "metadata": {
    "ExecuteTime": {
     "end_time": "2021-03-15T13:24:48.222234Z",
     "start_time": "2021-03-15T13:24:48.206278Z"
    }
   },
   "outputs": [
    {
     "data": {
      "text/plain": [
       "method\n",
       "Astrometry                         631.180000\n",
       "Eclipse Timing Variations         4343.500000\n",
       "Imaging                          27500.000000\n",
       "Microlensing                      3300.000000\n",
       "Orbital Brightness Modulation        0.342887\n",
       "Pulsar Timing                       66.541900\n",
       "Pulsation Timing Variations       1170.000000\n",
       "Radial Velocity                    360.200000\n",
       "Transit                              5.714932\n",
       "Transit Timing Variations           57.011000\n",
       "Name: orbital_period, dtype: float64"
      ]
     },
     "execution_count": 63,
     "metadata": {},
     "output_type": "execute_result"
    }
   ],
   "source": [
    "method['orbital_period'].median()"
   ]
  },
  {
   "cell_type": "code",
   "execution_count": 64,
   "id": "criminal-modern",
   "metadata": {
    "ExecuteTime": {
     "end_time": "2021-03-17T01:19:21.657085Z",
     "start_time": "2021-03-17T01:19:21.619185Z"
    }
   },
   "outputs": [
    {
     "name": "stdout",
     "output_type": "stream",
     "text": [
      "  key  data1  data2\n",
      "0   A      0      5\n",
      "1   B      1      0\n",
      "2   C      2      3\n",
      "3   A      3      3\n",
      "4   B      4      7\n",
      "5   C      5      9\n"
     ]
    }
   ],
   "source": [
    "rng = np.random.RandomState(0)\n",
    "df = pd.DataFrame({'key': ['A', 'B', 'C', 'A', 'B', 'C'], 'data1':range(6), 'data2':rng.randint(0, 10, 6)}, columns=['key', 'data1', 'data2'])\n",
    "print(df)"
   ]
  },
  {
   "cell_type": "code",
   "execution_count": 65,
   "id": "protecting-scientist",
   "metadata": {
    "ExecuteTime": {
     "end_time": "2021-03-17T01:21:27.700098Z",
     "start_time": "2021-03-17T01:21:27.630250Z"
    }
   },
   "outputs": [
    {
     "data": {
      "text/html": [
       "<div>\n",
       "<style scoped>\n",
       "    .dataframe tbody tr th:only-of-type {\n",
       "        vertical-align: middle;\n",
       "    }\n",
       "\n",
       "    .dataframe tbody tr th {\n",
       "        vertical-align: top;\n",
       "    }\n",
       "\n",
       "    .dataframe thead tr th {\n",
       "        text-align: left;\n",
       "    }\n",
       "\n",
       "    .dataframe thead tr:last-of-type th {\n",
       "        text-align: right;\n",
       "    }\n",
       "</style>\n",
       "<table border=\"1\" class=\"dataframe\">\n",
       "  <thead>\n",
       "    <tr>\n",
       "      <th></th>\n",
       "      <th colspan=\"3\" halign=\"left\">data1</th>\n",
       "      <th colspan=\"3\" halign=\"left\">data2</th>\n",
       "    </tr>\n",
       "    <tr>\n",
       "      <th></th>\n",
       "      <th>min</th>\n",
       "      <th>median</th>\n",
       "      <th>max</th>\n",
       "      <th>min</th>\n",
       "      <th>median</th>\n",
       "      <th>max</th>\n",
       "    </tr>\n",
       "    <tr>\n",
       "      <th>key</th>\n",
       "      <th></th>\n",
       "      <th></th>\n",
       "      <th></th>\n",
       "      <th></th>\n",
       "      <th></th>\n",
       "      <th></th>\n",
       "    </tr>\n",
       "  </thead>\n",
       "  <tbody>\n",
       "    <tr>\n",
       "      <th>A</th>\n",
       "      <td>0</td>\n",
       "      <td>1.5</td>\n",
       "      <td>3</td>\n",
       "      <td>3</td>\n",
       "      <td>4.0</td>\n",
       "      <td>5</td>\n",
       "    </tr>\n",
       "    <tr>\n",
       "      <th>B</th>\n",
       "      <td>1</td>\n",
       "      <td>2.5</td>\n",
       "      <td>4</td>\n",
       "      <td>0</td>\n",
       "      <td>3.5</td>\n",
       "      <td>7</td>\n",
       "    </tr>\n",
       "    <tr>\n",
       "      <th>C</th>\n",
       "      <td>2</td>\n",
       "      <td>3.5</td>\n",
       "      <td>5</td>\n",
       "      <td>3</td>\n",
       "      <td>6.0</td>\n",
       "      <td>9</td>\n",
       "    </tr>\n",
       "  </tbody>\n",
       "</table>\n",
       "</div>"
      ],
      "text/plain": [
       "    data1            data2           \n",
       "      min median max   min median max\n",
       "key                                  \n",
       "A       0    1.5   3     3    4.0   5\n",
       "B       1    2.5   4     0    3.5   7\n",
       "C       2    3.5   5     3    6.0   9"
      ]
     },
     "execution_count": 65,
     "metadata": {},
     "output_type": "execute_result"
    }
   ],
   "source": [
    "df.groupby('key').aggregate(['min', np.median, max])  # 문자열, 함수, 리스트 등을 집계 계산"
   ]
  },
  {
   "cell_type": "code",
   "execution_count": 66,
   "id": "operational-singing",
   "metadata": {
    "ExecuteTime": {
     "end_time": "2021-03-17T01:22:06.219756Z",
     "start_time": "2021-03-17T01:22:06.192792Z"
    }
   },
   "outputs": [
    {
     "data": {
      "text/html": [
       "<div>\n",
       "<style scoped>\n",
       "    .dataframe tbody tr th:only-of-type {\n",
       "        vertical-align: middle;\n",
       "    }\n",
       "\n",
       "    .dataframe tbody tr th {\n",
       "        vertical-align: top;\n",
       "    }\n",
       "\n",
       "    .dataframe thead th {\n",
       "        text-align: right;\n",
       "    }\n",
       "</style>\n",
       "<table border=\"1\" class=\"dataframe\">\n",
       "  <thead>\n",
       "    <tr style=\"text-align: right;\">\n",
       "      <th></th>\n",
       "      <th>data1</th>\n",
       "      <th>data2</th>\n",
       "    </tr>\n",
       "    <tr>\n",
       "      <th>key</th>\n",
       "      <th></th>\n",
       "      <th></th>\n",
       "    </tr>\n",
       "  </thead>\n",
       "  <tbody>\n",
       "    <tr>\n",
       "      <th>A</th>\n",
       "      <td>0</td>\n",
       "      <td>5</td>\n",
       "    </tr>\n",
       "    <tr>\n",
       "      <th>B</th>\n",
       "      <td>1</td>\n",
       "      <td>7</td>\n",
       "    </tr>\n",
       "    <tr>\n",
       "      <th>C</th>\n",
       "      <td>2</td>\n",
       "      <td>9</td>\n",
       "    </tr>\n",
       "  </tbody>\n",
       "</table>\n",
       "</div>"
      ],
      "text/plain": [
       "     data1  data2\n",
       "key              \n",
       "A        0      5\n",
       "B        1      7\n",
       "C        2      9"
      ]
     },
     "execution_count": 66,
     "metadata": {},
     "output_type": "execute_result"
    }
   ],
   "source": [
    "df.groupby('key').aggregate({'data1': 'min', 'data2': 'max'})  # 딕셔너리 형태로 지정도 ok"
   ]
  },
  {
   "cell_type": "code",
   "execution_count": 68,
   "id": "going-trade",
   "metadata": {
    "ExecuteTime": {
     "end_time": "2021-03-17T01:25:51.392002Z",
     "start_time": "2021-03-17T01:25:51.370061Z"
    }
   },
   "outputs": [
    {
     "name": "stdout",
     "output_type": "stream",
     "text": [
      "       data1     data2\n",
      "key                   \n",
      "A    2.12132  1.414214\n",
      "B    2.12132  4.949747\n",
      "C    2.12132  4.242641\n",
      "  key  data1  data2\n",
      "1   B      1      0\n",
      "2   C      2      3\n",
      "4   B      4      7\n",
      "5   C      5      9\n"
     ]
    }
   ],
   "source": [
    "def filter_func(x):\n",
    "    return x['data2'].std() > 4\n",
    "print(df.groupby('key').std())\n",
    "print(df.groupby('key').filter(filter_func))  # 정의한 함수 기준으로 필터링 가능 따라서 std가 4보다작은 key가 A인것은 제거"
   ]
  },
  {
   "cell_type": "code",
   "execution_count": 69,
   "id": "aboriginal-uncertainty",
   "metadata": {
    "ExecuteTime": {
     "end_time": "2021-03-17T01:27:51.421695Z",
     "start_time": "2021-03-17T01:27:51.354835Z"
    }
   },
   "outputs": [
    {
     "data": {
      "text/html": [
       "<div>\n",
       "<style scoped>\n",
       "    .dataframe tbody tr th:only-of-type {\n",
       "        vertical-align: middle;\n",
       "    }\n",
       "\n",
       "    .dataframe tbody tr th {\n",
       "        vertical-align: top;\n",
       "    }\n",
       "\n",
       "    .dataframe thead th {\n",
       "        text-align: right;\n",
       "    }\n",
       "</style>\n",
       "<table border=\"1\" class=\"dataframe\">\n",
       "  <thead>\n",
       "    <tr style=\"text-align: right;\">\n",
       "      <th></th>\n",
       "      <th>data1</th>\n",
       "      <th>data2</th>\n",
       "    </tr>\n",
       "  </thead>\n",
       "  <tbody>\n",
       "    <tr>\n",
       "      <th>0</th>\n",
       "      <td>-1.5</td>\n",
       "      <td>1.0</td>\n",
       "    </tr>\n",
       "    <tr>\n",
       "      <th>1</th>\n",
       "      <td>-1.5</td>\n",
       "      <td>-3.5</td>\n",
       "    </tr>\n",
       "    <tr>\n",
       "      <th>2</th>\n",
       "      <td>-1.5</td>\n",
       "      <td>-3.0</td>\n",
       "    </tr>\n",
       "    <tr>\n",
       "      <th>3</th>\n",
       "      <td>1.5</td>\n",
       "      <td>-1.0</td>\n",
       "    </tr>\n",
       "    <tr>\n",
       "      <th>4</th>\n",
       "      <td>1.5</td>\n",
       "      <td>3.5</td>\n",
       "    </tr>\n",
       "    <tr>\n",
       "      <th>5</th>\n",
       "      <td>1.5</td>\n",
       "      <td>3.0</td>\n",
       "    </tr>\n",
       "  </tbody>\n",
       "</table>\n",
       "</div>"
      ],
      "text/plain": [
       "   data1  data2\n",
       "0   -1.5    1.0\n",
       "1   -1.5   -3.5\n",
       "2   -1.5   -3.0\n",
       "3    1.5   -1.0\n",
       "4    1.5    3.5\n",
       "5    1.5    3.0"
      ]
     },
     "execution_count": 69,
     "metadata": {},
     "output_type": "execute_result"
    }
   ],
   "source": [
    "df.groupby('key').transform(lambda x: x - x.mean())  # 데이터 총괄 연산도 가능"
   ]
  },
  {
   "cell_type": "code",
   "execution_count": 70,
   "id": "accepting-tamil",
   "metadata": {
    "ExecuteTime": {
     "end_time": "2021-03-17T01:46:43.639241Z",
     "start_time": "2021-03-17T01:46:43.602337Z"
    }
   },
   "outputs": [
    {
     "data": {
      "text/html": [
       "<div>\n",
       "<style scoped>\n",
       "    .dataframe tbody tr th:only-of-type {\n",
       "        vertical-align: middle;\n",
       "    }\n",
       "\n",
       "    .dataframe tbody tr th {\n",
       "        vertical-align: top;\n",
       "    }\n",
       "\n",
       "    .dataframe thead th {\n",
       "        text-align: right;\n",
       "    }\n",
       "</style>\n",
       "<table border=\"1\" class=\"dataframe\">\n",
       "  <thead>\n",
       "    <tr style=\"text-align: right;\">\n",
       "      <th></th>\n",
       "      <th>key</th>\n",
       "      <th>data1</th>\n",
       "      <th>data2</th>\n",
       "    </tr>\n",
       "  </thead>\n",
       "  <tbody>\n",
       "    <tr>\n",
       "      <th>0</th>\n",
       "      <td>A</td>\n",
       "      <td>0.000000</td>\n",
       "      <td>5</td>\n",
       "    </tr>\n",
       "    <tr>\n",
       "      <th>1</th>\n",
       "      <td>B</td>\n",
       "      <td>0.142857</td>\n",
       "      <td>0</td>\n",
       "    </tr>\n",
       "    <tr>\n",
       "      <th>2</th>\n",
       "      <td>C</td>\n",
       "      <td>0.166667</td>\n",
       "      <td>3</td>\n",
       "    </tr>\n",
       "    <tr>\n",
       "      <th>3</th>\n",
       "      <td>A</td>\n",
       "      <td>0.375000</td>\n",
       "      <td>3</td>\n",
       "    </tr>\n",
       "    <tr>\n",
       "      <th>4</th>\n",
       "      <td>B</td>\n",
       "      <td>0.571429</td>\n",
       "      <td>7</td>\n",
       "    </tr>\n",
       "    <tr>\n",
       "      <th>5</th>\n",
       "      <td>C</td>\n",
       "      <td>0.416667</td>\n",
       "      <td>9</td>\n",
       "    </tr>\n",
       "  </tbody>\n",
       "</table>\n",
       "</div>"
      ],
      "text/plain": [
       "  key     data1  data2\n",
       "0   A  0.000000      5\n",
       "1   B  0.142857      0\n",
       "2   C  0.166667      3\n",
       "3   A  0.375000      3\n",
       "4   B  0.571429      7\n",
       "5   C  0.416667      9"
      ]
     },
     "execution_count": 70,
     "metadata": {},
     "output_type": "execute_result"
    }
   ],
   "source": [
    "def norm_by_data2(x):\n",
    "    x['data1'] /= x['data2'].sum()\n",
    "    return x\n",
    "\n",
    "df.groupby('key').apply(norm_by_data2)  # data1/ data2그룹의 합"
   ]
  },
  {
   "cell_type": "code",
   "execution_count": 71,
   "id": "instant-pierce",
   "metadata": {
    "ExecuteTime": {
     "end_time": "2021-03-17T02:36:54.907153Z",
     "start_time": "2021-03-17T02:36:54.874203Z"
    }
   },
   "outputs": [
    {
     "data": {
      "text/html": [
       "<div>\n",
       "<style scoped>\n",
       "    .dataframe tbody tr th:only-of-type {\n",
       "        vertical-align: middle;\n",
       "    }\n",
       "\n",
       "    .dataframe tbody tr th {\n",
       "        vertical-align: top;\n",
       "    }\n",
       "\n",
       "    .dataframe thead th {\n",
       "        text-align: right;\n",
       "    }\n",
       "</style>\n",
       "<table border=\"1\" class=\"dataframe\">\n",
       "  <thead>\n",
       "    <tr style=\"text-align: right;\">\n",
       "      <th></th>\n",
       "      <th>data1</th>\n",
       "      <th>data2</th>\n",
       "    </tr>\n",
       "  </thead>\n",
       "  <tbody>\n",
       "    <tr>\n",
       "      <th>0</th>\n",
       "      <td>7</td>\n",
       "      <td>17</td>\n",
       "    </tr>\n",
       "    <tr>\n",
       "      <th>1</th>\n",
       "      <td>4</td>\n",
       "      <td>3</td>\n",
       "    </tr>\n",
       "    <tr>\n",
       "      <th>2</th>\n",
       "      <td>4</td>\n",
       "      <td>7</td>\n",
       "    </tr>\n",
       "  </tbody>\n",
       "</table>\n",
       "</div>"
      ],
      "text/plain": [
       "   data1  data2\n",
       "0      7     17\n",
       "1      4      3\n",
       "2      4      7"
      ]
     },
     "execution_count": 71,
     "metadata": {},
     "output_type": "execute_result"
    }
   ],
   "source": [
    "L = [0, 1, 0, 1, 2, 0]  # 각 엘리먼트의 그룹을 숫자로 정해줄수도 있음\n",
    "df.groupby(L).sum()"
   ]
  },
  {
   "cell_type": "code",
   "execution_count": 72,
   "id": "different-league",
   "metadata": {
    "ExecuteTime": {
     "end_time": "2021-03-17T02:38:19.979244Z",
     "start_time": "2021-03-17T02:38:19.957307Z"
    }
   },
   "outputs": [
    {
     "name": "stdout",
     "output_type": "stream",
     "text": [
      "           data1  data2\n",
      "consonant     12     19\n",
      "vowel          3      8\n"
     ]
    }
   ],
   "source": [
    "df2 = df.set_index('key')\n",
    "mapping = { 'A': 'vowel', 'B': 'consonant', 'C': 'consonant'}\n",
    "print(df2.groupby(mapping).sum())  # 딕셔너리 형태로 매핑도 가능!"
   ]
  },
  {
   "cell_type": "code",
   "execution_count": 73,
   "id": "engaging-insight",
   "metadata": {
    "ExecuteTime": {
     "end_time": "2021-03-17T02:39:45.198870Z",
     "start_time": "2021-03-17T02:39:45.168009Z"
    }
   },
   "outputs": [
    {
     "data": {
      "text/html": [
       "<div>\n",
       "<style scoped>\n",
       "    .dataframe tbody tr th:only-of-type {\n",
       "        vertical-align: middle;\n",
       "    }\n",
       "\n",
       "    .dataframe tbody tr th {\n",
       "        vertical-align: top;\n",
       "    }\n",
       "\n",
       "    .dataframe thead th {\n",
       "        text-align: right;\n",
       "    }\n",
       "</style>\n",
       "<table border=\"1\" class=\"dataframe\">\n",
       "  <thead>\n",
       "    <tr style=\"text-align: right;\">\n",
       "      <th></th>\n",
       "      <th>data1</th>\n",
       "      <th>data2</th>\n",
       "    </tr>\n",
       "  </thead>\n",
       "  <tbody>\n",
       "    <tr>\n",
       "      <th>a</th>\n",
       "      <td>1.5</td>\n",
       "      <td>4.0</td>\n",
       "    </tr>\n",
       "    <tr>\n",
       "      <th>b</th>\n",
       "      <td>2.5</td>\n",
       "      <td>3.5</td>\n",
       "    </tr>\n",
       "    <tr>\n",
       "      <th>c</th>\n",
       "      <td>3.5</td>\n",
       "      <td>6.0</td>\n",
       "    </tr>\n",
       "  </tbody>\n",
       "</table>\n",
       "</div>"
      ],
      "text/plain": [
       "   data1  data2\n",
       "a    1.5    4.0\n",
       "b    2.5    3.5\n",
       "c    3.5    6.0"
      ]
     },
     "execution_count": 73,
     "metadata": {},
     "output_type": "execute_result"
    }
   ],
   "source": [
    "df2.groupby(str.lower).mean()  # 대문자를 소문자로 ok"
   ]
  },
  {
   "cell_type": "markdown",
   "id": "processed-spray",
   "metadata": {},
   "source": [
    "### 피벗 테이블\n",
    "GroupBy 집계의 다차원 버전"
   ]
  },
  {
   "cell_type": "code",
   "execution_count": 74,
   "id": "suburban-disco",
   "metadata": {
    "ExecuteTime": {
     "end_time": "2021-03-17T03:04:18.227133Z",
     "start_time": "2021-03-17T03:04:17.094158Z"
    }
   },
   "outputs": [
    {
     "data": {
      "text/html": [
       "<div>\n",
       "<style scoped>\n",
       "    .dataframe tbody tr th:only-of-type {\n",
       "        vertical-align: middle;\n",
       "    }\n",
       "\n",
       "    .dataframe tbody tr th {\n",
       "        vertical-align: top;\n",
       "    }\n",
       "\n",
       "    .dataframe thead th {\n",
       "        text-align: right;\n",
       "    }\n",
       "</style>\n",
       "<table border=\"1\" class=\"dataframe\">\n",
       "  <thead>\n",
       "    <tr style=\"text-align: right;\">\n",
       "      <th></th>\n",
       "      <th>survived</th>\n",
       "      <th>pclass</th>\n",
       "      <th>sex</th>\n",
       "      <th>age</th>\n",
       "      <th>sibsp</th>\n",
       "      <th>parch</th>\n",
       "      <th>fare</th>\n",
       "      <th>embarked</th>\n",
       "      <th>class</th>\n",
       "      <th>who</th>\n",
       "      <th>adult_male</th>\n",
       "      <th>deck</th>\n",
       "      <th>embark_town</th>\n",
       "      <th>alive</th>\n",
       "      <th>alone</th>\n",
       "    </tr>\n",
       "  </thead>\n",
       "  <tbody>\n",
       "    <tr>\n",
       "      <th>0</th>\n",
       "      <td>0</td>\n",
       "      <td>3</td>\n",
       "      <td>male</td>\n",
       "      <td>22.0</td>\n",
       "      <td>1</td>\n",
       "      <td>0</td>\n",
       "      <td>7.2500</td>\n",
       "      <td>S</td>\n",
       "      <td>Third</td>\n",
       "      <td>man</td>\n",
       "      <td>True</td>\n",
       "      <td>NaN</td>\n",
       "      <td>Southampton</td>\n",
       "      <td>no</td>\n",
       "      <td>False</td>\n",
       "    </tr>\n",
       "    <tr>\n",
       "      <th>1</th>\n",
       "      <td>1</td>\n",
       "      <td>1</td>\n",
       "      <td>female</td>\n",
       "      <td>38.0</td>\n",
       "      <td>1</td>\n",
       "      <td>0</td>\n",
       "      <td>71.2833</td>\n",
       "      <td>C</td>\n",
       "      <td>First</td>\n",
       "      <td>woman</td>\n",
       "      <td>False</td>\n",
       "      <td>C</td>\n",
       "      <td>Cherbourg</td>\n",
       "      <td>yes</td>\n",
       "      <td>False</td>\n",
       "    </tr>\n",
       "    <tr>\n",
       "      <th>2</th>\n",
       "      <td>1</td>\n",
       "      <td>3</td>\n",
       "      <td>female</td>\n",
       "      <td>26.0</td>\n",
       "      <td>0</td>\n",
       "      <td>0</td>\n",
       "      <td>7.9250</td>\n",
       "      <td>S</td>\n",
       "      <td>Third</td>\n",
       "      <td>woman</td>\n",
       "      <td>False</td>\n",
       "      <td>NaN</td>\n",
       "      <td>Southampton</td>\n",
       "      <td>yes</td>\n",
       "      <td>True</td>\n",
       "    </tr>\n",
       "    <tr>\n",
       "      <th>3</th>\n",
       "      <td>1</td>\n",
       "      <td>1</td>\n",
       "      <td>female</td>\n",
       "      <td>35.0</td>\n",
       "      <td>1</td>\n",
       "      <td>0</td>\n",
       "      <td>53.1000</td>\n",
       "      <td>S</td>\n",
       "      <td>First</td>\n",
       "      <td>woman</td>\n",
       "      <td>False</td>\n",
       "      <td>C</td>\n",
       "      <td>Southampton</td>\n",
       "      <td>yes</td>\n",
       "      <td>False</td>\n",
       "    </tr>\n",
       "    <tr>\n",
       "      <th>4</th>\n",
       "      <td>0</td>\n",
       "      <td>3</td>\n",
       "      <td>male</td>\n",
       "      <td>35.0</td>\n",
       "      <td>0</td>\n",
       "      <td>0</td>\n",
       "      <td>8.0500</td>\n",
       "      <td>S</td>\n",
       "      <td>Third</td>\n",
       "      <td>man</td>\n",
       "      <td>True</td>\n",
       "      <td>NaN</td>\n",
       "      <td>Southampton</td>\n",
       "      <td>no</td>\n",
       "      <td>True</td>\n",
       "    </tr>\n",
       "  </tbody>\n",
       "</table>\n",
       "</div>"
      ],
      "text/plain": [
       "   survived  pclass     sex   age  sibsp  parch     fare embarked  class  \\\n",
       "0         0       3    male  22.0      1      0   7.2500        S  Third   \n",
       "1         1       1  female  38.0      1      0  71.2833        C  First   \n",
       "2         1       3  female  26.0      0      0   7.9250        S  Third   \n",
       "3         1       1  female  35.0      1      0  53.1000        S  First   \n",
       "4         0       3    male  35.0      0      0   8.0500        S  Third   \n",
       "\n",
       "     who  adult_male deck  embark_town alive  alone  \n",
       "0    man        True  NaN  Southampton    no  False  \n",
       "1  woman       False    C    Cherbourg   yes  False  \n",
       "2  woman       False  NaN  Southampton   yes   True  \n",
       "3  woman       False    C  Southampton   yes  False  \n",
       "4    man        True  NaN  Southampton    no   True  "
      ]
     },
     "execution_count": 74,
     "metadata": {},
     "output_type": "execute_result"
    }
   ],
   "source": [
    "import numpy as np\n",
    "import pandas as pd\n",
    "import seaborn as sns\n",
    "titanic = sns.load_dataset('titanic')\n",
    "titanic.head()"
   ]
  },
  {
   "cell_type": "code",
   "execution_count": 75,
   "id": "correct-particular",
   "metadata": {
    "ExecuteTime": {
     "end_time": "2021-03-17T03:05:12.738728Z",
     "start_time": "2021-03-17T03:05:12.707774Z"
    }
   },
   "outputs": [
    {
     "data": {
      "text/html": [
       "<div>\n",
       "<style scoped>\n",
       "    .dataframe tbody tr th:only-of-type {\n",
       "        vertical-align: middle;\n",
       "    }\n",
       "\n",
       "    .dataframe tbody tr th {\n",
       "        vertical-align: top;\n",
       "    }\n",
       "\n",
       "    .dataframe thead th {\n",
       "        text-align: right;\n",
       "    }\n",
       "</style>\n",
       "<table border=\"1\" class=\"dataframe\">\n",
       "  <thead>\n",
       "    <tr style=\"text-align: right;\">\n",
       "      <th></th>\n",
       "      <th>survived</th>\n",
       "    </tr>\n",
       "    <tr>\n",
       "      <th>sex</th>\n",
       "      <th></th>\n",
       "    </tr>\n",
       "  </thead>\n",
       "  <tbody>\n",
       "    <tr>\n",
       "      <th>female</th>\n",
       "      <td>0.742038</td>\n",
       "    </tr>\n",
       "    <tr>\n",
       "      <th>male</th>\n",
       "      <td>0.188908</td>\n",
       "    </tr>\n",
       "  </tbody>\n",
       "</table>\n",
       "</div>"
      ],
      "text/plain": [
       "        survived\n",
       "sex             \n",
       "female  0.742038\n",
       "male    0.188908"
      ]
     },
     "execution_count": 75,
     "metadata": {},
     "output_type": "execute_result"
    }
   ],
   "source": [
    "titanic.groupby('sex')[['survived']].mean()  # 성별에 따른 생존율"
   ]
  },
  {
   "cell_type": "code",
   "execution_count": 78,
   "id": "monthly-series",
   "metadata": {
    "ExecuteTime": {
     "end_time": "2021-03-17T03:40:12.961713Z",
     "start_time": "2021-03-17T03:40:12.918520Z"
    }
   },
   "outputs": [
    {
     "data": {
      "text/html": [
       "<div>\n",
       "<style scoped>\n",
       "    .dataframe tbody tr th:only-of-type {\n",
       "        vertical-align: middle;\n",
       "    }\n",
       "\n",
       "    .dataframe tbody tr th {\n",
       "        vertical-align: top;\n",
       "    }\n",
       "\n",
       "    .dataframe thead th {\n",
       "        text-align: right;\n",
       "    }\n",
       "</style>\n",
       "<table border=\"1\" class=\"dataframe\">\n",
       "  <thead>\n",
       "    <tr style=\"text-align: right;\">\n",
       "      <th>class</th>\n",
       "      <th>First</th>\n",
       "      <th>Second</th>\n",
       "      <th>Third</th>\n",
       "    </tr>\n",
       "    <tr>\n",
       "      <th>sex</th>\n",
       "      <th></th>\n",
       "      <th></th>\n",
       "      <th></th>\n",
       "    </tr>\n",
       "  </thead>\n",
       "  <tbody>\n",
       "    <tr>\n",
       "      <th>female</th>\n",
       "      <td>0.968085</td>\n",
       "      <td>0.921053</td>\n",
       "      <td>0.500000</td>\n",
       "    </tr>\n",
       "    <tr>\n",
       "      <th>male</th>\n",
       "      <td>0.368852</td>\n",
       "      <td>0.157407</td>\n",
       "      <td>0.135447</td>\n",
       "    </tr>\n",
       "  </tbody>\n",
       "</table>\n",
       "</div>"
      ],
      "text/plain": [
       "class      First    Second     Third\n",
       "sex                                 \n",
       "female  0.968085  0.921053  0.500000\n",
       "male    0.368852  0.157407  0.135447"
      ]
     },
     "execution_count": 78,
     "metadata": {},
     "output_type": "execute_result"
    }
   ],
   "source": [
    "titanic.groupby(['sex', 'class'])['survived'].aggregate('mean').unstack()  # 숨겨진 다차원성을 나타낼수 있음"
   ]
  },
  {
   "cell_type": "code",
   "execution_count": 79,
   "id": "integral-responsibility",
   "metadata": {
    "ExecuteTime": {
     "end_time": "2021-03-17T03:41:38.790533Z",
     "start_time": "2021-03-17T03:41:38.739638Z"
    }
   },
   "outputs": [
    {
     "data": {
      "text/html": [
       "<div>\n",
       "<style scoped>\n",
       "    .dataframe tbody tr th:only-of-type {\n",
       "        vertical-align: middle;\n",
       "    }\n",
       "\n",
       "    .dataframe tbody tr th {\n",
       "        vertical-align: top;\n",
       "    }\n",
       "\n",
       "    .dataframe thead th {\n",
       "        text-align: right;\n",
       "    }\n",
       "</style>\n",
       "<table border=\"1\" class=\"dataframe\">\n",
       "  <thead>\n",
       "    <tr style=\"text-align: right;\">\n",
       "      <th>class</th>\n",
       "      <th>First</th>\n",
       "      <th>Second</th>\n",
       "      <th>Third</th>\n",
       "    </tr>\n",
       "    <tr>\n",
       "      <th>sex</th>\n",
       "      <th></th>\n",
       "      <th></th>\n",
       "      <th></th>\n",
       "    </tr>\n",
       "  </thead>\n",
       "  <tbody>\n",
       "    <tr>\n",
       "      <th>female</th>\n",
       "      <td>0.968085</td>\n",
       "      <td>0.921053</td>\n",
       "      <td>0.500000</td>\n",
       "    </tr>\n",
       "    <tr>\n",
       "      <th>male</th>\n",
       "      <td>0.368852</td>\n",
       "      <td>0.157407</td>\n",
       "      <td>0.135447</td>\n",
       "    </tr>\n",
       "  </tbody>\n",
       "</table>\n",
       "</div>"
      ],
      "text/plain": [
       "class      First    Second     Third\n",
       "sex                                 \n",
       "female  0.968085  0.921053  0.500000\n",
       "male    0.368852  0.157407  0.135447"
      ]
     },
     "execution_count": 79,
     "metadata": {},
     "output_type": "execute_result"
    }
   ],
   "source": [
    "titanic.pivot_table('survived', index='sex', columns='class')  # 위와 동일한 연산"
   ]
  },
  {
   "cell_type": "code",
   "execution_count": 80,
   "id": "anticipated-reality",
   "metadata": {
    "ExecuteTime": {
     "end_time": "2021-03-17T03:42:39.479311Z",
     "start_time": "2021-03-17T03:42:39.410494Z"
    }
   },
   "outputs": [
    {
     "data": {
      "text/html": [
       "<div>\n",
       "<style scoped>\n",
       "    .dataframe tbody tr th:only-of-type {\n",
       "        vertical-align: middle;\n",
       "    }\n",
       "\n",
       "    .dataframe tbody tr th {\n",
       "        vertical-align: top;\n",
       "    }\n",
       "\n",
       "    .dataframe thead th {\n",
       "        text-align: right;\n",
       "    }\n",
       "</style>\n",
       "<table border=\"1\" class=\"dataframe\">\n",
       "  <thead>\n",
       "    <tr style=\"text-align: right;\">\n",
       "      <th></th>\n",
       "      <th>class</th>\n",
       "      <th>First</th>\n",
       "      <th>Second</th>\n",
       "      <th>Third</th>\n",
       "    </tr>\n",
       "    <tr>\n",
       "      <th>sex</th>\n",
       "      <th>age</th>\n",
       "      <th></th>\n",
       "      <th></th>\n",
       "      <th></th>\n",
       "    </tr>\n",
       "  </thead>\n",
       "  <tbody>\n",
       "    <tr>\n",
       "      <th rowspan=\"2\" valign=\"top\">female</th>\n",
       "      <th>(0, 18]</th>\n",
       "      <td>0.909091</td>\n",
       "      <td>1.000000</td>\n",
       "      <td>0.511628</td>\n",
       "    </tr>\n",
       "    <tr>\n",
       "      <th>(18, 80]</th>\n",
       "      <td>0.972973</td>\n",
       "      <td>0.900000</td>\n",
       "      <td>0.423729</td>\n",
       "    </tr>\n",
       "    <tr>\n",
       "      <th rowspan=\"2\" valign=\"top\">male</th>\n",
       "      <th>(0, 18]</th>\n",
       "      <td>0.800000</td>\n",
       "      <td>0.600000</td>\n",
       "      <td>0.215686</td>\n",
       "    </tr>\n",
       "    <tr>\n",
       "      <th>(18, 80]</th>\n",
       "      <td>0.375000</td>\n",
       "      <td>0.071429</td>\n",
       "      <td>0.133663</td>\n",
       "    </tr>\n",
       "  </tbody>\n",
       "</table>\n",
       "</div>"
      ],
      "text/plain": [
       "class               First    Second     Third\n",
       "sex    age                                   \n",
       "female (0, 18]   0.909091  1.000000  0.511628\n",
       "       (18, 80]  0.972973  0.900000  0.423729\n",
       "male   (0, 18]   0.800000  0.600000  0.215686\n",
       "       (18, 80]  0.375000  0.071429  0.133663"
      ]
     },
     "execution_count": 80,
     "metadata": {},
     "output_type": "execute_result"
    }
   ],
   "source": [
    "age = pd.cut(titanic['age'], [0, 18, 80])\n",
    "titanic.pivot_table('survived', ['sex', age], 'class')  # 연령 기준추가 가능"
   ]
  },
  {
   "cell_type": "code",
   "execution_count": 81,
   "id": "fossil-hawaii",
   "metadata": {
    "ExecuteTime": {
     "end_time": "2021-03-17T03:44:02.259348Z",
     "start_time": "2021-03-17T03:44:02.159653Z"
    }
   },
   "outputs": [
    {
     "data": {
      "text/html": [
       "<div>\n",
       "<style scoped>\n",
       "    .dataframe tbody tr th:only-of-type {\n",
       "        vertical-align: middle;\n",
       "    }\n",
       "\n",
       "    .dataframe tbody tr th {\n",
       "        vertical-align: top;\n",
       "    }\n",
       "\n",
       "    .dataframe thead tr th {\n",
       "        text-align: left;\n",
       "    }\n",
       "\n",
       "    .dataframe thead tr:last-of-type th {\n",
       "        text-align: right;\n",
       "    }\n",
       "</style>\n",
       "<table border=\"1\" class=\"dataframe\">\n",
       "  <thead>\n",
       "    <tr>\n",
       "      <th></th>\n",
       "      <th>fare</th>\n",
       "      <th colspan=\"3\" halign=\"left\">(-0.001, 14.454]</th>\n",
       "      <th colspan=\"3\" halign=\"left\">(14.454, 512.329]</th>\n",
       "    </tr>\n",
       "    <tr>\n",
       "      <th></th>\n",
       "      <th>class</th>\n",
       "      <th>First</th>\n",
       "      <th>Second</th>\n",
       "      <th>Third</th>\n",
       "      <th>First</th>\n",
       "      <th>Second</th>\n",
       "      <th>Third</th>\n",
       "    </tr>\n",
       "    <tr>\n",
       "      <th>sex</th>\n",
       "      <th>age</th>\n",
       "      <th></th>\n",
       "      <th></th>\n",
       "      <th></th>\n",
       "      <th></th>\n",
       "      <th></th>\n",
       "      <th></th>\n",
       "    </tr>\n",
       "  </thead>\n",
       "  <tbody>\n",
       "    <tr>\n",
       "      <th rowspan=\"2\" valign=\"top\">female</th>\n",
       "      <th>(0, 18]</th>\n",
       "      <td>NaN</td>\n",
       "      <td>1.000000</td>\n",
       "      <td>0.714286</td>\n",
       "      <td>0.909091</td>\n",
       "      <td>1.000000</td>\n",
       "      <td>0.318182</td>\n",
       "    </tr>\n",
       "    <tr>\n",
       "      <th>(18, 80]</th>\n",
       "      <td>NaN</td>\n",
       "      <td>0.880000</td>\n",
       "      <td>0.444444</td>\n",
       "      <td>0.972973</td>\n",
       "      <td>0.914286</td>\n",
       "      <td>0.391304</td>\n",
       "    </tr>\n",
       "    <tr>\n",
       "      <th rowspan=\"2\" valign=\"top\">male</th>\n",
       "      <th>(0, 18]</th>\n",
       "      <td>NaN</td>\n",
       "      <td>0.000000</td>\n",
       "      <td>0.260870</td>\n",
       "      <td>0.800000</td>\n",
       "      <td>0.818182</td>\n",
       "      <td>0.178571</td>\n",
       "    </tr>\n",
       "    <tr>\n",
       "      <th>(18, 80]</th>\n",
       "      <td>0.0</td>\n",
       "      <td>0.098039</td>\n",
       "      <td>0.125000</td>\n",
       "      <td>0.391304</td>\n",
       "      <td>0.030303</td>\n",
       "      <td>0.192308</td>\n",
       "    </tr>\n",
       "  </tbody>\n",
       "</table>\n",
       "</div>"
      ],
      "text/plain": [
       "fare            (-0.001, 14.454]                     (14.454, 512.329]  \\\n",
       "class                      First    Second     Third             First   \n",
       "sex    age                                                               \n",
       "female (0, 18]               NaN  1.000000  0.714286          0.909091   \n",
       "       (18, 80]              NaN  0.880000  0.444444          0.972973   \n",
       "male   (0, 18]               NaN  0.000000  0.260870          0.800000   \n",
       "       (18, 80]              0.0  0.098039  0.125000          0.391304   \n",
       "\n",
       "fare                                 \n",
       "class              Second     Third  \n",
       "sex    age                           \n",
       "female (0, 18]   1.000000  0.318182  \n",
       "       (18, 80]  0.914286  0.391304  \n",
       "male   (0, 18]   0.818182  0.178571  \n",
       "       (18, 80]  0.030303  0.192308  "
      ]
     },
     "execution_count": 81,
     "metadata": {},
     "output_type": "execute_result"
    }
   ],
   "source": [
    "fare = pd.qcut(titanic['fare'], 2)  # 열 기준\n",
    "titanic.pivot_table('survived', ['sex', age], [fare, 'class'])"
   ]
  },
  {
   "cell_type": "code",
   "execution_count": 83,
   "id": "north-above",
   "metadata": {
    "ExecuteTime": {
     "end_time": "2021-03-17T03:45:30.492418Z",
     "start_time": "2021-03-17T03:45:30.420611Z"
    }
   },
   "outputs": [
    {
     "data": {
      "text/html": [
       "<div>\n",
       "<style scoped>\n",
       "    .dataframe tbody tr th:only-of-type {\n",
       "        vertical-align: middle;\n",
       "    }\n",
       "\n",
       "    .dataframe tbody tr th {\n",
       "        vertical-align: top;\n",
       "    }\n",
       "\n",
       "    .dataframe thead tr th {\n",
       "        text-align: left;\n",
       "    }\n",
       "\n",
       "    .dataframe thead tr:last-of-type th {\n",
       "        text-align: right;\n",
       "    }\n",
       "</style>\n",
       "<table border=\"1\" class=\"dataframe\">\n",
       "  <thead>\n",
       "    <tr>\n",
       "      <th></th>\n",
       "      <th colspan=\"3\" halign=\"left\">fare</th>\n",
       "      <th colspan=\"3\" halign=\"left\">survived</th>\n",
       "    </tr>\n",
       "    <tr>\n",
       "      <th>class</th>\n",
       "      <th>First</th>\n",
       "      <th>Second</th>\n",
       "      <th>Third</th>\n",
       "      <th>First</th>\n",
       "      <th>Second</th>\n",
       "      <th>Third</th>\n",
       "    </tr>\n",
       "    <tr>\n",
       "      <th>sex</th>\n",
       "      <th></th>\n",
       "      <th></th>\n",
       "      <th></th>\n",
       "      <th></th>\n",
       "      <th></th>\n",
       "      <th></th>\n",
       "    </tr>\n",
       "  </thead>\n",
       "  <tbody>\n",
       "    <tr>\n",
       "      <th>female</th>\n",
       "      <td>106.125798</td>\n",
       "      <td>21.970121</td>\n",
       "      <td>16.118810</td>\n",
       "      <td>91</td>\n",
       "      <td>70</td>\n",
       "      <td>72</td>\n",
       "    </tr>\n",
       "    <tr>\n",
       "      <th>male</th>\n",
       "      <td>67.226127</td>\n",
       "      <td>19.741782</td>\n",
       "      <td>12.661633</td>\n",
       "      <td>45</td>\n",
       "      <td>17</td>\n",
       "      <td>47</td>\n",
       "    </tr>\n",
       "  </tbody>\n",
       "</table>\n",
       "</div>"
      ],
      "text/plain": [
       "              fare                       survived             \n",
       "class        First     Second      Third    First Second Third\n",
       "sex                                                           \n",
       "female  106.125798  21.970121  16.118810       91     70    72\n",
       "male     67.226127  19.741782  12.661633       45     17    47"
      ]
     },
     "execution_count": 83,
     "metadata": {},
     "output_type": "execute_result"
    }
   ],
   "source": [
    "titanic.pivot_table(index='sex', columns='class', aggfunc={'survived': sum, 'fare': 'mean'}) # 집계방식 매핑"
   ]
  },
  {
   "cell_type": "markdown",
   "id": "complex-amendment",
   "metadata": {},
   "source": [
    "### Pandas 문자열"
   ]
  },
  {
   "cell_type": "code",
   "execution_count": 84,
   "id": "beneficial-accordance",
   "metadata": {
    "ExecuteTime": {
     "end_time": "2021-03-17T04:01:19.243782Z",
     "start_time": "2021-03-17T04:01:19.230814Z"
    }
   },
   "outputs": [],
   "source": [
    "monte = pd.Series(['Graham Chapman', 'John Cleese', 'Terry Gilliam', 'Eric Idle', 'Terry Jones', 'Michael Palin'])"
   ]
  },
  {
   "cell_type": "code",
   "execution_count": 85,
   "id": "golden-muslim",
   "metadata": {
    "ExecuteTime": {
     "end_time": "2021-03-17T04:01:24.450994Z",
     "start_time": "2021-03-17T04:01:24.440441Z"
    }
   },
   "outputs": [
    {
     "data": {
      "text/plain": [
       "0    graham chapman\n",
       "1       john cleese\n",
       "2     terry gilliam\n",
       "3         eric idle\n",
       "4       terry jones\n",
       "5     michael palin\n",
       "dtype: object"
      ]
     },
     "execution_count": 85,
     "metadata": {},
     "output_type": "execute_result"
    }
   ],
   "source": [
    "monte.str.lower()  # 소문자로 변환"
   ]
  },
  {
   "cell_type": "code",
   "execution_count": 86,
   "id": "combined-adjustment",
   "metadata": {
    "ExecuteTime": {
     "end_time": "2021-03-17T04:01:31.116730Z",
     "start_time": "2021-03-17T04:01:31.095786Z"
    }
   },
   "outputs": [
    {
     "data": {
      "text/plain": [
       "0    14\n",
       "1    11\n",
       "2    13\n",
       "3     9\n",
       "4    11\n",
       "5    13\n",
       "dtype: int64"
      ]
     },
     "execution_count": 86,
     "metadata": {},
     "output_type": "execute_result"
    }
   ],
   "source": [
    "monte.str.len()  # 문자열 길이"
   ]
  },
  {
   "cell_type": "code",
   "execution_count": 88,
   "id": "prompt-bronze",
   "metadata": {
    "ExecuteTime": {
     "end_time": "2021-03-17T04:01:57.349384Z",
     "start_time": "2021-03-17T04:01:57.339444Z"
    }
   },
   "outputs": [
    {
     "data": {
      "text/plain": [
       "0    False\n",
       "1    False\n",
       "2     True\n",
       "3    False\n",
       "4     True\n",
       "5    False\n",
       "dtype: bool"
      ]
     },
     "execution_count": 88,
     "metadata": {},
     "output_type": "execute_result"
    }
   ],
   "source": [
    "monte.str.startswith('T')  # 'T'ㄹ 시작하는가?"
   ]
  },
  {
   "cell_type": "code",
   "execution_count": 89,
   "id": "scientific-conditions",
   "metadata": {
    "ExecuteTime": {
     "end_time": "2021-03-17T04:02:31.665324Z",
     "start_time": "2021-03-17T04:02:31.650362Z"
    }
   },
   "outputs": [
    {
     "data": {
      "text/plain": [
       "0    [Graham, Chapman]\n",
       "1       [John, Cleese]\n",
       "2     [Terry, Gilliam]\n",
       "3         [Eric, Idle]\n",
       "4       [Terry, Jones]\n",
       "5     [Michael, Palin]\n",
       "dtype: object"
      ]
     },
     "execution_count": 89,
     "metadata": {},
     "output_type": "execute_result"
    }
   ],
   "source": [
    "monte.str.split()  # 분할"
   ]
  },
  {
   "cell_type": "code",
   "execution_count": 90,
   "id": "opened-report",
   "metadata": {
    "ExecuteTime": {
     "end_time": "2021-03-17T04:03:08.731782Z",
     "start_time": "2021-03-17T04:03:08.715826Z"
    }
   },
   "outputs": [
    {
     "data": {
      "text/html": [
       "<div>\n",
       "<style scoped>\n",
       "    .dataframe tbody tr th:only-of-type {\n",
       "        vertical-align: middle;\n",
       "    }\n",
       "\n",
       "    .dataframe tbody tr th {\n",
       "        vertical-align: top;\n",
       "    }\n",
       "\n",
       "    .dataframe thead th {\n",
       "        text-align: right;\n",
       "    }\n",
       "</style>\n",
       "<table border=\"1\" class=\"dataframe\">\n",
       "  <thead>\n",
       "    <tr style=\"text-align: right;\">\n",
       "      <th></th>\n",
       "      <th>0</th>\n",
       "    </tr>\n",
       "  </thead>\n",
       "  <tbody>\n",
       "    <tr>\n",
       "      <th>0</th>\n",
       "      <td>Graham</td>\n",
       "    </tr>\n",
       "    <tr>\n",
       "      <th>1</th>\n",
       "      <td>John</td>\n",
       "    </tr>\n",
       "    <tr>\n",
       "      <th>2</th>\n",
       "      <td>Terry</td>\n",
       "    </tr>\n",
       "    <tr>\n",
       "      <th>3</th>\n",
       "      <td>Eric</td>\n",
       "    </tr>\n",
       "    <tr>\n",
       "      <th>4</th>\n",
       "      <td>Terry</td>\n",
       "    </tr>\n",
       "    <tr>\n",
       "      <th>5</th>\n",
       "      <td>Michael</td>\n",
       "    </tr>\n",
       "  </tbody>\n",
       "</table>\n",
       "</div>"
      ],
      "text/plain": [
       "         0\n",
       "0   Graham\n",
       "1     John\n",
       "2    Terry\n",
       "3     Eric\n",
       "4    Terry\n",
       "5  Michael"
      ]
     },
     "execution_count": 90,
     "metadata": {},
     "output_type": "execute_result"
    }
   ],
   "source": [
    "monte.str.extract('([A-Za-z]+)')  # re.match()를 호출해 매칭된 그룹 반환"
   ]
  },
  {
   "cell_type": "code",
   "execution_count": 91,
   "id": "velvet-township",
   "metadata": {
    "ExecuteTime": {
     "end_time": "2021-03-17T04:04:36.370898Z",
     "start_time": "2021-03-17T04:04:36.348991Z"
    }
   },
   "outputs": [
    {
     "data": {
      "text/plain": [
       "0    [Graham Chapman]\n",
       "1                  []\n",
       "2     [Terry Gilliam]\n",
       "3                  []\n",
       "4       [Terry Jones]\n",
       "5     [Michael Palin]\n",
       "dtype: object"
      ]
     },
     "execution_count": 91,
     "metadata": {},
     "output_type": "execute_result"
    }
   ],
   "source": [
    "monte.str.findall(r'^[^AEIOU].*[^aeiou]$')  # 자음으로 시작해서 끝나는 이름"
   ]
  },
  {
   "cell_type": "code",
   "execution_count": 93,
   "id": "considered-telephone",
   "metadata": {
    "ExecuteTime": {
     "end_time": "2021-03-17T04:05:29.009343Z",
     "start_time": "2021-03-17T04:05:28.988401Z"
    }
   },
   "outputs": [
    {
     "data": {
      "text/plain": [
       "0    Gra\n",
       "1    Joh\n",
       "2    Ter\n",
       "3    Eri\n",
       "4    Ter\n",
       "5    Mic\n",
       "dtype: object"
      ]
     },
     "execution_count": 93,
     "metadata": {},
     "output_type": "execute_result"
    }
   ],
   "source": [
    "monte.str[0:3]"
   ]
  },
  {
   "cell_type": "code",
   "execution_count": 95,
   "id": "lasting-windsor",
   "metadata": {
    "ExecuteTime": {
     "end_time": "2021-03-17T04:05:51.003669Z",
     "start_time": "2021-03-17T04:05:50.994690Z"
    }
   },
   "outputs": [
    {
     "data": {
      "text/plain": [
       "0    Chapman\n",
       "1     Cleese\n",
       "2    Gilliam\n",
       "3       Idle\n",
       "4      Jones\n",
       "5      Palin\n",
       "dtype: object"
      ]
     },
     "execution_count": 95,
     "metadata": {},
     "output_type": "execute_result"
    }
   ],
   "source": [
    "monte.str.split().str.get(-1)"
   ]
  },
  {
   "cell_type": "code",
   "execution_count": 97,
   "id": "seeing-manor",
   "metadata": {
    "ExecuteTime": {
     "end_time": "2021-03-17T04:51:16.701892Z",
     "start_time": "2021-03-17T04:51:16.678421Z"
    }
   },
   "outputs": [
    {
     "data": {
      "text/html": [
       "<div>\n",
       "<style scoped>\n",
       "    .dataframe tbody tr th:only-of-type {\n",
       "        vertical-align: middle;\n",
       "    }\n",
       "\n",
       "    .dataframe tbody tr th {\n",
       "        vertical-align: top;\n",
       "    }\n",
       "\n",
       "    .dataframe thead th {\n",
       "        text-align: right;\n",
       "    }\n",
       "</style>\n",
       "<table border=\"1\" class=\"dataframe\">\n",
       "  <thead>\n",
       "    <tr style=\"text-align: right;\">\n",
       "      <th></th>\n",
       "      <th>name</th>\n",
       "      <th>info</th>\n",
       "    </tr>\n",
       "  </thead>\n",
       "  <tbody>\n",
       "    <tr>\n",
       "      <th>0</th>\n",
       "      <td>Graham Chapman</td>\n",
       "      <td>B|C|D</td>\n",
       "    </tr>\n",
       "    <tr>\n",
       "      <th>1</th>\n",
       "      <td>John Cleese</td>\n",
       "      <td>B|D</td>\n",
       "    </tr>\n",
       "    <tr>\n",
       "      <th>2</th>\n",
       "      <td>Terry Gilliam</td>\n",
       "      <td>A|C</td>\n",
       "    </tr>\n",
       "    <tr>\n",
       "      <th>3</th>\n",
       "      <td>Eric Idle</td>\n",
       "      <td>B|D</td>\n",
       "    </tr>\n",
       "    <tr>\n",
       "      <th>4</th>\n",
       "      <td>Terry Jones</td>\n",
       "      <td>B|C</td>\n",
       "    </tr>\n",
       "    <tr>\n",
       "      <th>5</th>\n",
       "      <td>Michael Palin</td>\n",
       "      <td>B|C|D</td>\n",
       "    </tr>\n",
       "  </tbody>\n",
       "</table>\n",
       "</div>"
      ],
      "text/plain": [
       "             name   info\n",
       "0  Graham Chapman  B|C|D\n",
       "1     John Cleese    B|D\n",
       "2   Terry Gilliam    A|C\n",
       "3       Eric Idle    B|D\n",
       "4     Terry Jones    B|C\n",
       "5   Michael Palin  B|C|D"
      ]
     },
     "execution_count": 97,
     "metadata": {},
     "output_type": "execute_result"
    }
   ],
   "source": [
    "full_monte = pd.DataFrame({'name': monte, 'info': ['B|C|D', 'B|D', 'A|C', 'B|D', 'B|C', 'B|C|D']})\n",
    "full_monte"
   ]
  },
  {
   "cell_type": "code",
   "execution_count": 98,
   "id": "hairy-atlantic",
   "metadata": {
    "ExecuteTime": {
     "end_time": "2021-03-17T04:51:38.108603Z",
     "start_time": "2021-03-17T04:51:38.082643Z"
    }
   },
   "outputs": [
    {
     "data": {
      "text/html": [
       "<div>\n",
       "<style scoped>\n",
       "    .dataframe tbody tr th:only-of-type {\n",
       "        vertical-align: middle;\n",
       "    }\n",
       "\n",
       "    .dataframe tbody tr th {\n",
       "        vertical-align: top;\n",
       "    }\n",
       "\n",
       "    .dataframe thead th {\n",
       "        text-align: right;\n",
       "    }\n",
       "</style>\n",
       "<table border=\"1\" class=\"dataframe\">\n",
       "  <thead>\n",
       "    <tr style=\"text-align: right;\">\n",
       "      <th></th>\n",
       "      <th>A</th>\n",
       "      <th>B</th>\n",
       "      <th>C</th>\n",
       "      <th>D</th>\n",
       "    </tr>\n",
       "  </thead>\n",
       "  <tbody>\n",
       "    <tr>\n",
       "      <th>0</th>\n",
       "      <td>0</td>\n",
       "      <td>1</td>\n",
       "      <td>1</td>\n",
       "      <td>1</td>\n",
       "    </tr>\n",
       "    <tr>\n",
       "      <th>1</th>\n",
       "      <td>0</td>\n",
       "      <td>1</td>\n",
       "      <td>0</td>\n",
       "      <td>1</td>\n",
       "    </tr>\n",
       "    <tr>\n",
       "      <th>2</th>\n",
       "      <td>1</td>\n",
       "      <td>0</td>\n",
       "      <td>1</td>\n",
       "      <td>0</td>\n",
       "    </tr>\n",
       "    <tr>\n",
       "      <th>3</th>\n",
       "      <td>0</td>\n",
       "      <td>1</td>\n",
       "      <td>0</td>\n",
       "      <td>1</td>\n",
       "    </tr>\n",
       "    <tr>\n",
       "      <th>4</th>\n",
       "      <td>0</td>\n",
       "      <td>1</td>\n",
       "      <td>1</td>\n",
       "      <td>0</td>\n",
       "    </tr>\n",
       "    <tr>\n",
       "      <th>5</th>\n",
       "      <td>0</td>\n",
       "      <td>1</td>\n",
       "      <td>1</td>\n",
       "      <td>1</td>\n",
       "    </tr>\n",
       "  </tbody>\n",
       "</table>\n",
       "</div>"
      ],
      "text/plain": [
       "   A  B  C  D\n",
       "0  0  1  1  1\n",
       "1  0  1  0  1\n",
       "2  1  0  1  0\n",
       "3  0  1  0  1\n",
       "4  0  1  1  0\n",
       "5  0  1  1  1"
      ]
     },
     "execution_count": 98,
     "metadata": {},
     "output_type": "execute_result"
    }
   ],
   "source": [
    "full_monte['info'].str.get_dummies('|')  # | 기준으로 문자열들 갯수 나눔"
   ]
  },
  {
   "cell_type": "markdown",
   "id": "random-vegetation",
   "metadata": {},
   "source": [
    "### 시계열 다루기"
   ]
  },
  {
   "cell_type": "code",
   "execution_count": 100,
   "id": "incredible-roller",
   "metadata": {
    "ExecuteTime": {
     "end_time": "2021-03-17T04:58:52.957165Z",
     "start_time": "2021-03-17T04:58:52.947192Z"
    }
   },
   "outputs": [
    {
     "name": "stdout",
     "output_type": "stream",
     "text": [
      "2015-07-04 00:00:00\n",
      "2021-07-04 00:00:00\n",
      "Sunday\n"
     ]
    }
   ],
   "source": [
    "from datetime import datetime\n",
    "print(datetime(year=2015, month=7, day=4))\n",
    "from dateutil import parser\n",
    "date = parser.parse(\"4th of July, 2021\")\n",
    "print(date)\n",
    "print(date.strftime(\"%A\"))"
   ]
  },
  {
   "cell_type": "code",
   "execution_count": 101,
   "id": "monetary-orbit",
   "metadata": {
    "ExecuteTime": {
     "end_time": "2021-03-17T04:59:41.739811Z",
     "start_time": "2021-03-17T04:59:41.731802Z"
    }
   },
   "outputs": [
    {
     "name": "stdout",
     "output_type": "stream",
     "text": [
      "2020-08-04\n"
     ]
    }
   ],
   "source": [
    "import numpy as np\n",
    "date = np.array('2020-08-04', dtype=np.datetime64)\n",
    "print(date)"
   ]
  },
  {
   "cell_type": "code",
   "execution_count": 102,
   "id": "manual-dairy",
   "metadata": {
    "ExecuteTime": {
     "end_time": "2021-03-17T05:08:56.849283Z",
     "start_time": "2021-03-17T05:08:56.828318Z"
    }
   },
   "outputs": [
    {
     "data": {
      "text/plain": [
       "array(['2020-08-04', '2020-08-05', '2020-08-06', '2020-08-07',\n",
       "       '2020-08-08', '2020-08-09', '2020-08-10', '2020-08-11',\n",
       "       '2020-08-12', '2020-08-13', '2020-08-14', '2020-08-15'],\n",
       "      dtype='datetime64[D]')"
      ]
     },
     "execution_count": 102,
     "metadata": {},
     "output_type": "execute_result"
    }
   ],
   "source": [
    "date + np.arange(12)"
   ]
  },
  {
   "cell_type": "code",
   "execution_count": 103,
   "id": "absolute-criticism",
   "metadata": {
    "ExecuteTime": {
     "end_time": "2021-03-17T05:09:47.612815Z",
     "start_time": "2021-03-17T05:09:47.592831Z"
    }
   },
   "outputs": [
    {
     "data": {
      "text/plain": [
       "numpy.datetime64('2020-12-12T12:00:00.000000000')"
      ]
     },
     "execution_count": 103,
     "metadata": {},
     "output_type": "execute_result"
    }
   ],
   "source": [
    "np.datetime64('2020-12-12 12:00', 'ns')  # 단위 나노초"
   ]
  },
  {
   "cell_type": "code",
   "execution_count": 105,
   "id": "amber-currency",
   "metadata": {
    "ExecuteTime": {
     "end_time": "2021-03-17T05:10:36.849256Z",
     "start_time": "2021-03-17T05:10:36.834264Z"
    }
   },
   "outputs": [
    {
     "data": {
      "text/plain": [
       "Timestamp('2020-07-04 00:00:00')"
      ]
     },
     "execution_count": 105,
     "metadata": {},
     "output_type": "execute_result"
    }
   ],
   "source": [
    "import pandas as pd\n",
    "\n",
    "date = pd.to_datetime('4th of July, 2020')\n",
    "date"
   ]
  },
  {
   "cell_type": "code",
   "execution_count": 106,
   "id": "military-credits",
   "metadata": {
    "ExecuteTime": {
     "end_time": "2021-03-17T05:10:51.528391Z",
     "start_time": "2021-03-17T05:10:51.508448Z"
    }
   },
   "outputs": [
    {
     "data": {
      "text/plain": [
       "'Saturday'"
      ]
     },
     "execution_count": 106,
     "metadata": {},
     "output_type": "execute_result"
    }
   ],
   "source": [
    "date.strftime('%A')"
   ]
  },
  {
   "cell_type": "code",
   "execution_count": 107,
   "id": "whole-probability",
   "metadata": {
    "ExecuteTime": {
     "end_time": "2021-03-17T05:11:09.623104Z",
     "start_time": "2021-03-17T05:11:09.600167Z"
    }
   },
   "outputs": [
    {
     "data": {
      "text/plain": [
       "DatetimeIndex(['2020-07-04', '2020-07-05', '2020-07-06', '2020-07-07',\n",
       "               '2020-07-08', '2020-07-09', '2020-07-10', '2020-07-11',\n",
       "               '2020-07-12', '2020-07-13', '2020-07-14', '2020-07-15'],\n",
       "              dtype='datetime64[ns]', freq=None)"
      ]
     },
     "execution_count": 107,
     "metadata": {},
     "output_type": "execute_result"
    }
   ],
   "source": [
    "date + pd.to_timedelta(np.arange(12), 'D')"
   ]
  },
  {
   "cell_type": "code",
   "execution_count": 108,
   "id": "logical-trinity",
   "metadata": {
    "ExecuteTime": {
     "end_time": "2021-03-17T05:26:18.575196Z",
     "start_time": "2021-03-17T05:26:18.561237Z"
    }
   },
   "outputs": [
    {
     "data": {
      "text/plain": [
       "2014-07-04    0\n",
       "2014-08-04    1\n",
       "2015-07-04    2\n",
       "2015-08-04    3\n",
       "dtype: int64"
      ]
     },
     "execution_count": 108,
     "metadata": {},
     "output_type": "execute_result"
    }
   ],
   "source": [
    "index = pd.DatetimeIndex(['2014-07-04', '2014-08-04', '2015-07-04', '2015-08-04'])\n",
    "data = pd.Series([0, 1, 2, 3], index=index)\n",
    "data"
   ]
  },
  {
   "cell_type": "code",
   "execution_count": 109,
   "id": "raised-reducing",
   "metadata": {
    "ExecuteTime": {
     "end_time": "2021-03-17T05:26:35.893493Z",
     "start_time": "2021-03-17T05:26:35.859586Z"
    }
   },
   "outputs": [
    {
     "data": {
      "text/plain": [
       "2014-08-04    1\n",
       "2015-07-04    2\n",
       "2015-08-04    3\n",
       "dtype: int64"
      ]
     },
     "execution_count": 109,
     "metadata": {},
     "output_type": "execute_result"
    }
   ],
   "source": [
    "data['2014-08':]"
   ]
  },
  {
   "cell_type": "code",
   "execution_count": 111,
   "id": "transsexual-quest",
   "metadata": {
    "ExecuteTime": {
     "end_time": "2021-03-17T05:26:47.746740Z",
     "start_time": "2021-03-17T05:26:47.725797Z"
    }
   },
   "outputs": [
    {
     "data": {
      "text/plain": [
       "2015-07-04    2\n",
       "2015-08-04    3\n",
       "dtype: int64"
      ]
     },
     "execution_count": 111,
     "metadata": {},
     "output_type": "execute_result"
    }
   ],
   "source": [
    "data['2015']"
   ]
  },
  {
   "cell_type": "code",
   "execution_count": 112,
   "id": "express-swing",
   "metadata": {
    "ExecuteTime": {
     "end_time": "2021-03-17T05:28:24.346440Z",
     "start_time": "2021-03-17T05:28:24.327490Z"
    }
   },
   "outputs": [
    {
     "data": {
      "text/plain": [
       "DatetimeIndex(['2015-07-03', '2015-07-04', '2015-07-05', '2015-07-06',\n",
       "               '2015-07-07', '2015-07-08', '2015-07-09', '2015-07-10',\n",
       "               '2015-07-11', '2015-07-12', '2015-07-13'],\n",
       "              dtype='datetime64[ns]', freq='D')"
      ]
     },
     "execution_count": 112,
     "metadata": {},
     "output_type": "execute_result"
    }
   ],
   "source": [
    "pd.date_range('2015-07-03', '2015-07-13')"
   ]
  },
  {
   "cell_type": "code",
   "execution_count": 113,
   "id": "burning-recorder",
   "metadata": {
    "ExecuteTime": {
     "end_time": "2021-03-17T05:28:41.728234Z",
     "start_time": "2021-03-17T05:28:41.706293Z"
    }
   },
   "outputs": [
    {
     "data": {
      "text/plain": [
       "DatetimeIndex(['2015-07-03', '2015-07-04', '2015-07-05', '2015-07-06',\n",
       "               '2015-07-07', '2015-07-08', '2015-07-09', '2015-07-10'],\n",
       "              dtype='datetime64[ns]', freq='D')"
      ]
     },
     "execution_count": 113,
     "metadata": {},
     "output_type": "execute_result"
    }
   ],
   "source": [
    "pd.date_range('2015-07-03', periods=8)"
   ]
  },
  {
   "cell_type": "code",
   "execution_count": 114,
   "id": "super-yellow",
   "metadata": {
    "ExecuteTime": {
     "end_time": "2021-03-17T05:29:07.391877Z",
     "start_time": "2021-03-17T05:29:07.371930Z"
    }
   },
   "outputs": [
    {
     "data": {
      "text/plain": [
       "DatetimeIndex(['2015-07-03 00:00:00', '2015-07-03 01:00:00',\n",
       "               '2015-07-03 02:00:00', '2015-07-03 03:00:00',\n",
       "               '2015-07-03 04:00:00', '2015-07-03 05:00:00',\n",
       "               '2015-07-03 06:00:00', '2015-07-03 07:00:00'],\n",
       "              dtype='datetime64[ns]', freq='H')"
      ]
     },
     "execution_count": 114,
     "metadata": {},
     "output_type": "execute_result"
    }
   ],
   "source": [
    "pd.date_range('2015-07-03', periods=8, freq='H')  # 기본 주기 H로 바꾸기"
   ]
  },
  {
   "cell_type": "code",
   "execution_count": 115,
   "id": "protective-accused",
   "metadata": {
    "ExecuteTime": {
     "end_time": "2021-03-17T05:29:59.087772Z",
     "start_time": "2021-03-17T05:29:59.062603Z"
    }
   },
   "outputs": [
    {
     "data": {
      "text/plain": [
       "DatetimeIndex(['2015-07-03 00:00:00', '2015-07-03 02:30:00',\n",
       "               '2015-07-03 05:00:00', '2015-07-03 07:30:00',\n",
       "               '2015-07-03 10:00:00', '2015-07-03 12:30:00',\n",
       "               '2015-07-03 15:00:00', '2015-07-03 17:30:00'],\n",
       "              dtype='datetime64[ns]', freq='150T')"
      ]
     },
     "execution_count": 115,
     "metadata": {},
     "output_type": "execute_result"
    }
   ],
   "source": [
    "pd.date_range('2015-07-03', periods=8, freq='2H30T')  # 다양하게 주기 바꾸기 ok"
   ]
  },
  {
   "cell_type": "markdown",
   "id": "distinguished-jefferson",
   "metadata": {},
   "source": [
    "### Pandas : eval()과 query()로 빠른 연산처리"
   ]
  },
  {
   "cell_type": "code",
   "execution_count": 116,
   "id": "molecular-yahoo",
   "metadata": {
    "ExecuteTime": {
     "end_time": "2021-03-17T05:32:08.994379Z",
     "start_time": "2021-03-17T05:32:04.889989Z"
    }
   },
   "outputs": [
    {
     "name": "stdout",
     "output_type": "stream",
     "text": [
      "4.89 ms ± 127 µs per loop (mean ± std. dev. of 7 runs, 100 loops each)\n"
     ]
    }
   ],
   "source": [
    "import numpy as np\n",
    "rng = np.random.RandomState(42)\n",
    "x = rng.rand(1000000)\n",
    "y = rng.rand(1000000)\n",
    "%timeit x + y"
   ]
  },
  {
   "cell_type": "code",
   "execution_count": 118,
   "id": "coral-horizon",
   "metadata": {
    "ExecuteTime": {
     "end_time": "2021-03-17T05:33:03.759880Z",
     "start_time": "2021-03-17T05:33:01.666081Z"
    }
   },
   "outputs": [
    {
     "name": "stdout",
     "output_type": "stream",
     "text": [
      "252 ms ± 11.6 ms per loop (mean ± std. dev. of 7 runs, 1 loop each)\n"
     ]
    }
   ],
   "source": [
    "%timeit np.fromiter((xi + yi for xi, yi in zip(x,y)), dtype=x.dtype, count=len(x))"
   ]
  },
  {
   "cell_type": "code",
   "execution_count": 120,
   "id": "operating-decline",
   "metadata": {
    "ExecuteTime": {
     "end_time": "2021-03-17T06:11:42.951872Z",
     "start_time": "2021-03-17T06:11:42.916960Z"
    }
   },
   "outputs": [
    {
     "data": {
      "text/plain": [
       "True"
      ]
     },
     "execution_count": 120,
     "metadata": {},
     "output_type": "execute_result"
    }
   ],
   "source": [
    "# 큰 배열은 numpy보다 numexpr이 더 유리 메모리를 따로 할당하지 않고 표현식 평가 eval, query가 numexpr라이브러리 사용\n",
    "df1, df2, df3, df4, df5 = (pd.DataFrame(rng.randint(0, 1000, (100, 3))) for i in range(5))\n",
    "result1 = -df1 * df2 / (df3 + df4) - df5\n",
    "result2 = pd.eval('-df1 * df2 / (df3 + df4) - df5')\n",
    "np.allclose(result1, result2)"
   ]
  },
  {
   "cell_type": "code",
   "execution_count": 122,
   "id": "included-living",
   "metadata": {
    "ExecuteTime": {
     "end_time": "2021-03-17T06:13:11.613047Z",
     "start_time": "2021-03-17T06:13:11.592067Z"
    }
   },
   "outputs": [
    {
     "data": {
      "text/plain": [
       "True"
      ]
     },
     "execution_count": 122,
     "metadata": {},
     "output_type": "execute_result"
    }
   ],
   "source": [
    "df = pd.DataFrame(rng.rand(1000, 3), columns=['A', 'B', 'C'])\n",
    "result1 = (df['A'] + df['B']) / (df['C'] - 1)\n",
    "result2 = pd.eval(\"(df.A + df.B) / (df.C - 1)\")\n",
    "np.allclose(result1, result2)"
   ]
  },
  {
   "cell_type": "code",
   "execution_count": 123,
   "id": "headed-founder",
   "metadata": {
    "ExecuteTime": {
     "end_time": "2021-03-17T06:19:46.442784Z",
     "start_time": "2021-03-17T06:19:46.419844Z"
    }
   },
   "outputs": [
    {
     "data": {
      "text/plain": [
       "True"
      ]
     },
     "execution_count": 123,
     "metadata": {},
     "output_type": "execute_result"
    }
   ],
   "source": [
    "Cmean = df['C'].mean()\n",
    "result1 = df[(df.A < Cmean) & (df.B < Cmean)]\n",
    "result2 = df.query('A < @Cmean and B < @Cmean')  # 지역변수 옆에 @\n",
    "np.allclose(result1, result2)"
   ]
  },
  {
   "cell_type": "code",
   "execution_count": null,
   "id": "empirical-theta",
   "metadata": {},
   "outputs": [],
   "source": []
  }
 ],
 "metadata": {
  "kernelspec": {
   "display_name": "Python 3",
   "language": "python",
   "name": "python3"
  },
  "language_info": {
   "codemirror_mode": {
    "name": "ipython",
    "version": 3
   },
   "file_extension": ".py",
   "mimetype": "text/x-python",
   "name": "python",
   "nbconvert_exporter": "python",
   "pygments_lexer": "ipython3",
   "version": "3.9.2"
  },
  "toc": {
   "base_numbering": 1,
   "nav_menu": {},
   "number_sections": true,
   "sideBar": true,
   "skip_h1_title": false,
   "title_cell": "Table of Contents",
   "title_sidebar": "Contents",
   "toc_cell": false,
   "toc_position": {},
   "toc_section_display": true,
   "toc_window_display": false
  },
  "varInspector": {
   "cols": {
    "lenName": 16,
    "lenType": 16,
    "lenVar": 40
   },
   "kernels_config": {
    "python": {
     "delete_cmd_postfix": "",
     "delete_cmd_prefix": "del ",
     "library": "var_list.py",
     "varRefreshCmd": "print(var_dic_list())"
    },
    "r": {
     "delete_cmd_postfix": ") ",
     "delete_cmd_prefix": "rm(",
     "library": "var_list.r",
     "varRefreshCmd": "cat(var_dic_list()) "
    }
   },
   "types_to_exclude": [
    "module",
    "function",
    "builtin_function_or_method",
    "instance",
    "_Feature"
   ],
   "window_display": false
  }
 },
 "nbformat": 4,
 "nbformat_minor": 5
}
